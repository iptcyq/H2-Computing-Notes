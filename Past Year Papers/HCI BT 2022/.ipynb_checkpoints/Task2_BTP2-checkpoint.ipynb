{
 "cells": [
  {
   "cell_type": "code",
   "execution_count": 41,
   "metadata": {},
   "outputs": [
    {
     "name": "stdout",
     "output_type": "stream",
     "text": [
      "889\n",
      "\n",
      "['buy', 'cut', 'fix', 'pay', 'rip', 'use', 'burn', 'call', 'code', 'drag', 'drop', 'fill', 'find', 'load', 'lock', 'name', 'play', 'plug', 'read', 'save', 'scan', 'send', 'snap', 'surf', 'tune', 'turn', 'view', 'work', 'zoom', 'break', 'bring', 'check', 'click', 'crack', 'cross', 'erase', 'leave', 'paste', 'pause', 'point', 'press', 'print', 'touch', 'trash', 'unzip', 'watch', 'write', 'change', 'charge', 'format', 'rename', 'scroll', 'unlock', 'update', 'rewrite', 'upgrade']\n",
      "56\n",
      "\n",
      "buy it, cut it, fix it, pay it, rip it, use it, burn it, call it.\n"
     ]
    }
   ],
   "source": [
    "# Task 2.1\n",
    "def task2_1(filename):\n",
    "    f = open(filename,'r')\n",
    "    data = f.read().lower()\n",
    "    f.close()\n",
    "    data = data.replace(\",\",\"\")\n",
    "    data = data.replace(\"\\n\",\" \")\n",
    "    words = data.split(\" \")\n",
    "    return words\n",
    "\n",
    "print(len(task2_1(\"Materials/Additional_Materials/LYRICS.txt\")))\n",
    "print() \n",
    "\n",
    "# Task 2.2    \n",
    "def task2_2(list_of_words):\n",
    "    # filter unique words\n",
    "    prev = \"\"\n",
    "    filtered = []\n",
    "    for word in list_of_words:\n",
    "        if word == \"it\" and prev not in filtered:\n",
    "            filtered.append(prev)\n",
    "        prev = word\n",
    "\n",
    "    # sort by ascending length\n",
    "    filtered.sort(key=len)\n",
    "    \n",
    "    #sorts by alphabetical order\n",
    "    chunks = []\n",
    "    new = []\n",
    "    for i in range(len(filtered)):\n",
    "        new.append(filtered[i])\n",
    "        if i+1>=len(filtered) or len(filtered[i]) != len(filtered[i+1]):\n",
    "            chunks.append(new)\n",
    "            new = []\n",
    "    out = []\n",
    "    for item in chunks:\n",
    "        item.sort()\n",
    "        for word in item:\n",
    "            out.append(word)\n",
    "    return out\n",
    "\n",
    "result = task2_2(task2_1(\"Materials/Additional_Materials/LYRICS.txt\"))\n",
    "print(result)\n",
    "print(len(result))\n",
    "print()\n",
    "\n",
    "# Task 2.3\n",
    "def task2_3(list_of_words, number):\n",
    "    distinct = []\n",
    "    while number > 0:\n",
    "        word = list_of_words.pop(0)\n",
    "        if word not in distinct:\n",
    "            distinct.append(word)\n",
    "            number -= 1\n",
    "    ret = \" it, \".join(distinct)\n",
    "    return ret + \" it.\"\n",
    "\n",
    "print(task2_3(result, 8))"
   ]
  }
 ],
 "metadata": {
  "kernelspec": {
   "display_name": "Python 3",
   "language": "python",
   "name": "python3"
  },
  "language_info": {
   "codemirror_mode": {
    "name": "ipython",
    "version": 3
   },
   "file_extension": ".py",
   "mimetype": "text/x-python",
   "name": "python",
   "nbconvert_exporter": "python",
   "pygments_lexer": "ipython3",
   "version": "3.6.4"
  }
 },
 "nbformat": 4,
 "nbformat_minor": 2
}
