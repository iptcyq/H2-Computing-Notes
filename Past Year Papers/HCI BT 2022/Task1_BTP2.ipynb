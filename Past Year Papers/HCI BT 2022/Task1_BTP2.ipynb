{
 "cells": [
  {
   "cell_type": "code",
   "execution_count": 3,
   "metadata": {},
   "outputs": [
    {
     "name": "stdout",
     "output_type": "stream",
     "text": [
      "{'_id': ObjectId('6462d6757e2e27319886872a'), 'country': 'Australia', 'city': 'Sydney', 'price': 904, 'company': 'B Airways', 'durationHour': 8}\n",
      "{'_id': ObjectId('6462d6757e2e27319886872b'), 'country': 'Australia', 'city': 'Melbourne', 'price': 1628, 'company': 'Q Airlines', 'durationHour': 7}\n",
      "{'_id': ObjectId('6462d6757e2e27319886872c'), 'country': 'Australia', 'city': 'Perth', 'price': 881, 'company': 'S Airlines', 'durationHour': 5}\n",
      "{'_id': ObjectId('6462d6757e2e27319886872d'), 'country': 'UK', 'city': 'London', 'price': 1373, 'company': 'L Airlines', 'durationHour': 19, 'stop': 2}\n",
      "{'_id': ObjectId('6462d6757e2e27319886872e'), 'country': 'UK', 'city': 'London', 'price': 1561, 'company': 'S Airlines', 'durationHour': 17, 'stop': 1}\n",
      "{'_id': ObjectId('6462d6757e2e27319886872f'), 'country': 'UK', 'city': 'Manchester', 'price': 1708, 'company': 'E Air', 'durationHour': 25, 'stop': 1}\n",
      "{'_id': ObjectId('6462d6757e2e273198868730'), 'country': 'UK', 'city': 'Manchester', 'price': 2917, 'company': 'B Airways', 'durationHour': 17, 'stop': 1}\n",
      "{'_id': ObjectId('6462d6757e2e273198868731'), 'country': 'Japan', 'city': 'Osaka', 'price': 821, 'company': 'S Airlines', 'durationHour': 10, 'stop': 1}\n",
      "{'_id': ObjectId('6462d6757e2e273198868732'), 'country': 'Japan', 'city': 'Tokyo', 'price': 1028, 'company': 'J Airlines', 'durationHour': 7}\n",
      "{'_id': ObjectId('6462d6757e2e273198868733'), 'country': 'Japan', 'city': 'Tokyo', 'price': 1124, 'company': 'Air J', 'durationHour': 7}\n",
      "\n"
     ]
    }
   ],
   "source": [
    "# Task 1.1\n",
    "import pymongo, json\n",
    "client = pymongo.MongoClient('127.0.0.1', 27017)\n",
    "# client.drop_database('Travel')\n",
    "db = client.get_database('Travel')\n",
    "col = db.get_collection('Flight')\n",
    "\n",
    "f = open(\"Materials/Additional_Materials/TICKET.json\")\n",
    "data = json.load(f)\n",
    "col.insert_many(data)\n",
    "f.close()\n",
    "\n",
    "all_docs = col.find()\n",
    "for doc in all_docs:\n",
    "    print(doc)\n",
    "print()\n",
    "\n",
    "client.close()"
   ]
  },
  {
   "cell_type": "code",
   "execution_count": 4,
   "metadata": {},
   "outputs": [
    {
     "name": "stdout",
     "output_type": "stream",
     "text": [
      "Update flights without stops to 0\n",
      "\n",
      "Display all information of S Airlines\n",
      "{'_id': ObjectId('6462d6757e2e27319886872c'), 'country': 'Australia', 'city': 'Perth', 'price': 881, 'company': 'S Airlines', 'durationHour': 5, 'stop': 0}\n",
      "{'_id': ObjectId('6462d6757e2e27319886872e'), 'country': 'UK', 'city': 'London', 'price': 1561, 'company': 'S Airlines', 'durationHour': 17, 'stop': 1}\n",
      "{'_id': ObjectId('6462d6757e2e273198868731'), 'country': 'Japan', 'city': 'Osaka', 'price': 821, 'company': 'S Airlines', 'durationHour': 10, 'stop': 1}\n",
      "\n",
      "Display cities and prices for flights under 10h and $1500\n",
      "$904 in Sydney\n",
      "$881 in Perth\n",
      "$821 in Osaka\n",
      "$1028 in Tokyo\n",
      "$1124 in Tokyo\n",
      "\n",
      "Display all information of cheapest ticket\n",
      "{'_id': ObjectId('6462d6757e2e273198868731'), 'country': 'Japan', 'city': 'Osaka', 'price': 821, 'company': 'S Airlines', 'durationHour': 10, 'stop': 1}\n"
     ]
    }
   ],
   "source": [
    "# Task 1.2\n",
    "import pymongo, json\n",
    "client = pymongo.MongoClient('127.0.0.1', 27017)\n",
    "db = client.get_database('Travel')\n",
    "col = db.get_collection('Flight')\n",
    "\n",
    "print(\"Update flights without stops to 0\")\n",
    "search = {\"stop\":{\"$exists\":False}}\n",
    "update = {\"$set\":{\"stop\":0}}\n",
    "col.update_many(search,update)\n",
    "print()\n",
    "\n",
    "print(\"Display all information of S Airlines\")\n",
    "query = {\"company\":\"S Airlines\"}\n",
    "data = col.find(query)\n",
    "for doc in data:\n",
    "    print(doc)\n",
    "print()\n",
    "\n",
    "print(\"Display cities and prices for flights under 10h and $1500\")\n",
    "query = {\"$and\":[{\"durationHour\":{\"$lte\":10}}, {\"price\":{\"$lte\":1500}}]}\n",
    "disp = {\"city\":1, \"price\":2}\n",
    "data = col.find(query, disp) #you can list() to make it a list\n",
    "for doc in data:\n",
    "    print(f\"${doc['price']} in {doc['city']}\")\n",
    "print()\n",
    "\n",
    "print(\"Display all information of cheapest ticket\")\n",
    "data = col.find()\n",
    "for item in data:\n",
    "    if not cheapest:\n",
    "        cheapest = item\n",
    "    elif item['price'] < cheapest['price']:\n",
    "        cheapest = item\n",
    "print(cheapest)\n",
    "\n",
    "client.close()"
   ]
  }
 ],
 "metadata": {
  "kernelspec": {
   "display_name": "Python 3",
   "language": "python",
   "name": "python3"
  },
  "language_info": {
   "codemirror_mode": {
    "name": "ipython",
    "version": 3
   },
   "file_extension": ".py",
   "mimetype": "text/x-python",
   "name": "python",
   "nbconvert_exporter": "python",
   "pygments_lexer": "ipython3",
   "version": "3.6.4"
  }
 },
 "nbformat": 4,
 "nbformat_minor": 2
}
