{
 "cells": [
  {
   "cell_type": "code",
   "execution_count": 1,
   "metadata": {},
   "outputs": [],
   "source": [
    "# Task 3.1\n",
    "class TreeNode():\n",
    "    def __init__(self, word):\n",
    "        self.word = word\n",
    "        self.left_ptr = None\n",
    "        self.right_ptr = None\n",
    "    \n",
    "    def get_word(self):\n",
    "        return self.word\n",
    "    def set_word(self, new):\n",
    "        self.word = new\n",
    "    def get_left_ptr(self):\n",
    "        return self.left_ptr\n",
    "    def get_right_ptr(self):\n",
    "        return self.right_ptr\n",
    "    def set_left_ptr(self, new):\n",
    "        self.left_ptr = new\n",
    "    def set_right_ptr(self, new):\n",
    "        self.right_ptr = new"
   ]
  },
  {
   "cell_type": "code",
   "execution_count": 16,
   "metadata": {},
   "outputs": [],
   "source": [
    "# Taask 3.2\n",
    "class BinarySearchTree():\n",
    "    def __init__(self, root=None):\n",
    "        self.root = root\n",
    "    \n",
    "    def add(self, word):\n",
    "        if self.root == None:\n",
    "            self.root = TreeNode(word)\n",
    "        else:\n",
    "            ptr = self.root\n",
    "            while ptr:\n",
    "                if word < ptr.word:\n",
    "                    if ptr.left_ptr == None:\n",
    "                        ptr.left_ptr = TreeNode(word)\n",
    "                        ptr = None\n",
    "                    else:\n",
    "                        ptr = ptr.left_ptr\n",
    "                elif word > ptr.word:\n",
    "                    if ptr.right_ptr == None:\n",
    "                        ptr.right_ptr = TreeNode(word)\n",
    "                        ptr = None\n",
    "                    else:\n",
    "                        ptr = ptr.right_ptr\n",
    "#                 else: # Not possible\n",
    "#                     print(f\"{word} already exists\")\n",
    "#                     ptr = None\n",
    "\n",
    "    def inOrder(self, subNode=-1):\n",
    "        if subNode == -1:\n",
    "            subNode = self.root\n",
    "        if subNode != None:\n",
    "            arr = self.inOrder(subNode.left_ptr)\n",
    "            arr += [subNode.word]\n",
    "            print(subNode.word)\n",
    "            arr += self.inOrder(subNode.right_ptr)\n",
    "            return arr\n",
    "        else:\n",
    "            return []\n",
    "            \n",
    "    def preOrder(self, subNode=-1):\n",
    "        if subNode == -1:\n",
    "            subNode = self.root\n",
    "        if subNode != None:\n",
    "            print(subNode.word)\n",
    "            self.preOrder(subNode.left_ptr)\n",
    "            self.preOrder(subNode.right_ptr)"
   ]
  },
  {
   "cell_type": "code",
   "execution_count": 17,
   "metadata": {},
   "outputs": [
    {
     "name": "stdout",
     "output_type": "stream",
     "text": [
      "advance\n",
      "and\n",
      "as\n",
      "civilization\n",
      "consume\n",
      "create\n",
      "more\n",
      "people\n",
      "technology\n",
      "than\n",
      "they\n"
     ]
    }
   ],
   "source": [
    "# Task 3.3\n",
    "tree = BinarySearchTree()\n",
    "\n",
    "f = open(\"Materials/Additional_Materials/TEXT.txt\")\n",
    "data = f.read().split()\n",
    "f.close()\n",
    "\n",
    "for word in data:\n",
    "    tree.add(word)\n",
    "\n",
    "arr = tree.inOrder()"
   ]
  },
  {
   "cell_type": "code",
   "execution_count": 24,
   "metadata": {},
   "outputs": [
    {
     "name": "stdout",
     "output_type": "stream",
     "text": [
      "create\n",
      "as\n",
      "advance\n",
      "and\n",
      "civilization\n",
      "consume\n",
      "technology\n",
      "more\n",
      "people\n",
      "than\n",
      "they\n"
     ]
    }
   ],
   "source": [
    "# Task 3.4 - errors; ok nvr mind found the mistake\n",
    "def balance_tree(arr):\n",
    "    if len(arr)>0:\n",
    "        mid = (len(arr)-1)//2 # this should be len(arr)-1 not en(arr)\n",
    "        left = arr[:mid]\n",
    "        right = arr[mid+1:]\n",
    "        balncd_tree.add(arr[mid])\n",
    "        balance_tree(left)\n",
    "        balance_tree(right)\n",
    "    \n",
    "balncd_tree = BinarySearchTree()\n",
    "balance_tree(arr)\n",
    "balncd_tree.preOrder() # this i copy pasted in to pre order code wrong ._. fml"
   ]
  },
  {
   "cell_type": "code",
   "execution_count": 19,
   "metadata": {},
   "outputs": [
    {
     "name": "stdout",
     "output_type": "stream",
     "text": [
      "create\n",
      "as\n",
      "advance\n",
      "and\n",
      "civilization\n",
      "consume\n",
      "technology\n",
      "more\n",
      "people\n",
      "than\n",
      "they\n"
     ]
    }
   ],
   "source": [
    "def balancedBST(lst, l, r, bst): #cher answer\n",
    "    mid = l + ((r - l) // 2)\n",
    "    bst.add(lst[mid])\n",
    "    if l<=mid-1:\n",
    "        balancedBST(lst, l, mid-1, bst)\n",
    "    if r>=mid+1:\n",
    "        balancedBST(lst, mid+1, r, bst)\n",
    "    return bst\n",
    "#Test\n",
    "balanced = BinarySearchTree()\n",
    "balanced = balancedBST(arr, 0, len(arr)-1, balanced)\n",
    "balanced.preOrder()"
   ]
  }
 ],
 "metadata": {
  "kernelspec": {
   "display_name": "Python 3",
   "language": "python",
   "name": "python3"
  },
  "language_info": {
   "codemirror_mode": {
    "name": "ipython",
    "version": 3
   },
   "file_extension": ".py",
   "mimetype": "text/x-python",
   "name": "python",
   "nbconvert_exporter": "python",
   "pygments_lexer": "ipython3",
   "version": "3.6.4"
  }
 },
 "nbformat": 4,
 "nbformat_minor": 2
}
