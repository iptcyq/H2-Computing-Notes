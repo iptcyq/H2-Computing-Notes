{
 "cells": [
  {
   "cell_type": "code",
   "execution_count": 14,
   "metadata": {},
   "outputs": [
    {
     "name": "stdout",
     "output_type": "stream",
     "text": [
      "18\n",
      "[['White Fang', 'Jack London', '1906'], ['The Wind in the Willows', 'Kenneth Grahame', '1908'], ['Moby Dick', 'Herman Melville', '1851'], ['Jane Eyre', 'Charlotte Bronte', '1847'], ['The Picture of Dorian Gray', 'Oscar Wilde', '1890'], ['The Three Musketeers', 'Alexandre Dumas', '1844'], ['Persuasion', 'Jane Austen', '1817'], ['Dream of the Red Chamber', 'Cao Xueqin', '1791'], ['Little Women', 'Louisa May Alcott', '1868'], ['The Phantom of the Opera', 'Gaston Leroux', '1909'], ['Water Margin', 'Shi Naian', '1450'], ['A Christmas Carol', 'Charles Dickens', '1843'], ['One Hundred Years of Solitude', 'Gabriel Garcia Marquez', '1967'], ['Nineteen Eighty-Four', 'George Orwell', '1949'], ['Journey to the West', 'Wu Chengen', '1592'], ['Romance of the Three Kingdoms', 'Luo Guanzhong', '1522'], ['Fahrenheit 451', 'Ray Bradbury', '1953'], ['War and Peace', 'Leo Tolstoy', '1867']]\n"
     ]
    }
   ],
   "source": [
    "# Task 2.1\n",
    "def read_csv(filename):\n",
    "    f = open(filename,'r')\n",
    "    data = f.read().strip()\n",
    "    f.close()\n",
    "    \n",
    "    records = []\n",
    "    for rec in data.split(\"\\n\"):\n",
    "        title, author, year = rec.split(\",\")\n",
    "        records.append([title,author, year])\n",
    "    \n",
    "    return records\n",
    "    \n",
    "books_array = read_csv(\"resource/booklist.csv\")\n",
    "print(len(books_array))\n",
    "print(books_array)"
   ]
  },
  {
   "cell_type": "code",
   "execution_count": 13,
   "metadata": {},
   "outputs": [
    {
     "name": "stdout",
     "output_type": "stream",
     "text": [
      "[['A Christmas Carol', 'Charles Dickens', '1843'], ['Dream of the Red Chamber', 'Cao Xueqin', '1791'], ['Fahrenheit 451', 'Ray Bradbury', '1953'], ['Jane Eyre', 'Charlotte Bronte', '1847'], ['Journey to the West', 'Wu Chengen', '1592'], ['Little Women', 'Louisa May Alcott', '1868'], ['Moby Dick', 'Herman Melville', '1851'], ['Nineteen Eighty-Four', 'George Orwell', '1949'], ['One Hundred Years of Solitude', 'Gabriel Garcia Marquez', '1967'], ['Persuasion', 'Jane Austen', '1817'], ['Romance of the Three Kingdoms', 'Luo Guanzhong', '1522'], ['The Phantom of the Opera', 'Gaston Leroux', '1909'], ['The Picture of Dorian Gray', 'Oscar Wilde', '1890'], ['The Three Musketeers', 'Alexandre Dumas', '1844'], ['The Wind in the Willows', 'Kenneth Grahame', '1908'], ['War and Peace', 'Leo Tolstoy', '1867'], ['Water Margin', 'Shi Naian', '1450'], ['White Fang', 'Jack London', '1906']]\n",
      "-1\n"
     ]
    }
   ],
   "source": [
    "# Task 2.2\n",
    "def bubble(array, sort_key):\n",
    "    # change sort key to relevant index\n",
    "    keys = [\"title\",\"author\",\"year\"]\n",
    "    if sort_key not in keys:\n",
    "        return -1\n",
    "    else:\n",
    "        sort_key = keys.index(sort_key)\n",
    "    \n",
    "    # sort array\n",
    "    for i in range(len(array)):\n",
    "        sortd = True\n",
    "        for j in range(1,len(array)):\n",
    "            if array[j-1][sort_key] > array[j][sort_key]: # swap\n",
    "                array[j-1], array[j] = array[j], array[j-1]\n",
    "                sortd = False\n",
    "        if sortd:\n",
    "            break\n",
    "    \n",
    "    return array\n",
    "    \n",
    "print(bubble(books_array, \"title\"))\n",
    "print(bubble(books_array, \"ISBN\")) "
   ]
  },
  {
   "cell_type": "code",
   "execution_count": 30,
   "metadata": {},
   "outputs": [
    {
     "name": "stdout",
     "output_type": "stream",
     "text": [
      "[['The Three Musketeers', 'Alexandre Dumas', '1844'], ['Dream of the Red Chamber', 'Cao Xueqin', '1791'], ['A Christmas Carol', 'Charles Dickens', '1843'], ['Jane Eyre', 'Charlotte Bronte', '1847'], ['One Hundred Years of Solitude', 'Gabriel Garcia Marquez', '1967'], ['The Phantom of the Opera', 'Gaston Leroux', '1909'], ['Nineteen Eighty-Four', 'George Orwell', '1949'], ['Moby Dick', 'Herman Melville', '1851'], ['White Fang', 'Jack London', '1906'], ['Persuasion', 'Jane Austen', '1817'], ['The Wind in the Willows', 'Kenneth Grahame', '1908'], ['War and Peace', 'Leo Tolstoy', '1867'], ['Little Women', 'Louisa May Alcott', '1868'], ['Romance of the Three Kingdoms', 'Luo Guanzhong', '1522'], ['The Picture of Dorian Gray', 'Oscar Wilde', '1890'], ['Fahrenheit 451', 'Ray Bradbury', '1953'], ['Water Margin', 'Shi Naian', '1450'], ['Journey to the West', 'Wu Chengen', '1592']]\n",
      "[['Water Margin', 'Shi Naian', '1450'], ['Romance of the Three Kingdoms', 'Luo Guanzhong', '1522'], ['Journey to the West', 'Wu Chengen', '1592'], ['Dream of the Red Chamber', 'Cao Xueqin', '1791'], ['Persuasion', 'Jane Austen', '1817'], ['A Christmas Carol', 'Charles Dickens', '1843'], ['The Three Musketeers', 'Alexandre Dumas', '1844'], ['Jane Eyre', 'Charlotte Bronte', '1847'], ['Moby Dick', 'Herman Melville', '1851'], ['War and Peace', 'Leo Tolstoy', '1867'], ['Little Women', 'Louisa May Alcott', '1868'], ['The Picture of Dorian Gray', 'Oscar Wilde', '1890'], ['White Fang', 'Jack London', '1906'], ['The Wind in the Willows', 'Kenneth Grahame', '1908'], ['The Phantom of the Opera', 'Gaston Leroux', '1909'], ['Nineteen Eighty-Four', 'George Orwell', '1949'], ['Fahrenheit 451', 'Ray Bradbury', '1953'], ['One Hundred Years of Solitude', 'Gabriel Garcia Marquez', '1967']]\n"
     ]
    }
   ],
   "source": [
    "# Task 2.3\n",
    "def merge(array, sort_key):\n",
    "    # change sort key to relevant index\n",
    "    keys = [\"title\",\"author\",\"year\"]\n",
    "    if sort_key not in keys:\n",
    "        return -1\n",
    "    else:\n",
    "        key_num = keys.index(sort_key)\n",
    "    \n",
    "    if len(array) <= 1: # base case\n",
    "        return array\n",
    "    else: # merge sort\n",
    "        middle = len(array)//2\n",
    "        left = merge(array[:middle],sort_key)\n",
    "        right = merge(array[middle:],sort_key)\n",
    "        \n",
    "        outp = []\n",
    "        while len(left) > 0 and len(right) > 0:\n",
    "            if left[0][key_num] < right[0][key_num]:\n",
    "                outp.append(left.pop(0))\n",
    "            elif right[0][key_num] < left[0][key_num]:\n",
    "                outp.append(right.pop(0))\n",
    "            else: # not sure if possible but equal values\n",
    "                outp.append(left.pop(0))\n",
    "                outp.append(right.pop(0))\n",
    "        if len(left)>0:\n",
    "            outp += left\n",
    "        elif len(right)>0:\n",
    "            outp += right\n",
    "    \n",
    "    return outp\n",
    "\n",
    "print(merge(books_array,\"author\"))\n",
    "print(merge(books_array,\"year\"))"
   ]
  },
  {
   "cell_type": "code",
   "execution_count": 33,
   "metadata": {},
   "outputs": [
    {
     "name": "stdout",
     "output_type": "stream",
     "text": [
      "[4, 2, 5, 3, 1]\n",
      "[4, 6, 9, 1]\n"
     ]
    }
   ],
   "source": [
    "# Task 2.4\n",
    "def reverse(array):\n",
    "    reversd = []\n",
    "    while len(array) > 0:\n",
    "        reversd += [array[-1]]\n",
    "        array = array[:-1]\n",
    "    return reversd\n",
    "\n",
    "print(reverse([1,3,5,2,4]))\n",
    "print(reverse([1,9,6,4]))"
   ]
  },
  {
   "cell_type": "code",
   "execution_count": 38,
   "metadata": {},
   "outputs": [],
   "source": [
    "# Task 4.5\n",
    "books_arr = read_csv(\"resource/newbooks.csv\")\n",
    "sorted_books = bubble(books_arr,\"year\")\n",
    "reversd = reverse(sorted_books)\n",
    "\n",
    "f = open(\"YEAR_name_centre_index.csv\",'w')\n",
    "outp = \"\"\n",
    "for book in reversd:\n",
    "    outp += ','.join(book)\n",
    "    outp += \"\\n\"\n",
    "f.write(outp)\n",
    "f.close()"
   ]
  },
  {
   "cell_type": "code",
   "execution_count": 45,
   "metadata": {},
   "outputs": [
    {
     "name": "stdout",
     "output_type": "stream",
     "text": [
      "[\"Monty Python's Big Red Book\", 'Graham Chapman', '1971']\n",
      "['To Kill a Mockingbird', 'Harper Lee', '1960']\n",
      "['The Catcher in the Rye', 'J. D. Salinger', '1951']\n",
      "['Animal Farm', 'George Orwell', '1945']\n",
      "['Of Mice and Men', 'John Steinbeck', '1937']\n",
      "['The Great Gatsby', 'F. Scott Fitzgerald', '1925']\n",
      "['The War of the Worlds', 'H. G. Wells', '1898']\n",
      "['Dracula', 'Bram Stoker', '1897']\n",
      "['The Strange Case of Dr. Jekyll & Mr. Hyde', 'Robert Louis Stevenson', '1886']\n",
      "['The Adventures of Tom Sawyer ', 'Mark Twain', '1876']\n",
      "['Wuthering Heights', 'Emily Bronte', '1847']\n",
      "['Pride & Prejudice', 'Jane Austen', '1813']\n"
     ]
    }
   ],
   "source": [
    "import csv\n",
    "# csv reader stuff\n",
    "# csv.read(csvfile, newline='')\n",
    "f = open(\"YEAR_name_centre_index.csv\")\n",
    "data = csv.reader(f, delimiter=',')\n",
    "for row in data:\n",
    "    print(row)\n",
    "f.close()"
   ]
  }
 ],
 "metadata": {
  "kernelspec": {
   "display_name": "Python 3",
   "language": "python",
   "name": "python3"
  },
  "language_info": {
   "codemirror_mode": {
    "name": "ipython",
    "version": 3
   },
   "file_extension": ".py",
   "mimetype": "text/x-python",
   "name": "python",
   "nbconvert_exporter": "python",
   "pygments_lexer": "ipython3",
   "version": "3.6.4"
  }
 },
 "nbformat": 4,
 "nbformat_minor": 2
}
