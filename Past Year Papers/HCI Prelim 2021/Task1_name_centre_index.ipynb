{
 "cells": [
  {
   "cell_type": "code",
   "execution_count": 23,
   "metadata": {},
   "outputs": [
    {
     "name": "stdout",
     "output_type": "stream",
     "text": [
      "['2', '4', '5', '7', '7', '9', '12', '16', '19', '23', '27', '27', '28', '31', '31', '39', '42', '43', '45', '46', '46', '47', '50', '53', '56', '57', '58', '63', '64', '65', '69', '69', '76', '78', '79', '82', '83', '85', '88', '92', '94', '99', '100', '100', '101', '106', '106', '113', '118', '120', '120', '121', '122', '123', '123', '125', '129', '129', '130', '130', '134', '135', '137', '142', '142', '143', '144', '145', '145', '146', '147', '149', '149', '149', '151', '154', '154', '154', '159', '160', '162', '163', '167', '171', '172', '173', '174', '176', '182', '183', '186', '187', '190', '191', '191', '192', '193', '194', '197', '200']\n"
     ]
    }
   ],
   "source": [
    "# Task 1.1\n",
    "f = open(\"resource/INTEGERS.TXT\",'r')\n",
    "data = f.read().strip()\n",
    "f.close()\n",
    "\n",
    "# parse values\n",
    "numbers = []\n",
    "for number in data.split(\"\\n\"):\n",
    "    numbers.append(int(number))\n",
    "\n",
    "# sort values\n",
    "def quick(numList):\n",
    "    # end case\n",
    "    if len(numList) == 2:\n",
    "        if numList[0] > numList[1]:\n",
    "            numList[0], numList[1] = numList[1], numList[0]\n",
    "    if len(numList) <= 2:\n",
    "        return numList\n",
    "    \n",
    "    mid = numList[0]\n",
    "    left = []\n",
    "    right = []\n",
    "    for val in numList[1:]:\n",
    "        left.append(val) if val < mid else right.append(val)\n",
    "    \n",
    "    if len(left) > 0:\n",
    "        left = quick(left)\n",
    "    if len(right) > 0:\n",
    "        right = quick(right)\n",
    "    \n",
    "    return left + [mid] + right\n",
    "\n",
    "sortedList = quick(numbers)\n",
    "sortedWords = []\n",
    "for item in sortedList:\n",
    "    sortedWords.append(str(item))\n",
    "print(sortedWords)\n",
    "\n",
    "# write the integers\n",
    "f = open(\"SORTED_name_centre_index.txt\", 'w')\n",
    "f.write('\\n'.join(sortedWords))\n",
    "f.close()"
   ]
  },
  {
   "cell_type": "code",
   "execution_count": 37,
   "metadata": {},
   "outputs": [
    {
     "name": "stdout",
     "output_type": "stream",
     "text": [
      "200 found\n",
      "Compared 6 times\n"
     ]
    }
   ],
   "source": [
    "# Task 1.2\n",
    "def BinarySearch(list_of_integers, target): # loi should be sorted\n",
    "    comp = 0\n",
    "    if len(list_of_integers) <= 0: # base case\n",
    "        print(f\"{target} not found\")\n",
    "    else: # perform binary search\n",
    "        mid = len(list_of_integers)//2\n",
    "        comp += 1\n",
    "        if target == list_of_integers[mid]: # found\n",
    "            print(f\"{target} found\")\n",
    "        elif target < list_of_integers[mid]: # left\n",
    "            comp += BinarySearch(list_of_integers[:mid], target)\n",
    "        else:\n",
    "            comp += BinarySearch(list_of_integers[mid+1:], target)\n",
    "    return comp\n",
    "        \n",
    "print(\"Compared\", BinarySearch(sortedList, 200), \"times.\")"
   ]
  },
  {
   "cell_type": "code",
   "execution_count": 44,
   "metadata": {},
   "outputs": [
    {
     "name": "stdout",
     "output_type": "stream",
     "text": [
      "116 not found\n",
      "9 found\n",
      "193 found\n",
      "101 found\n",
      "63 found\n",
      "196 not found\n",
      "173 found\n",
      "158 not found\n",
      "3 not found\n",
      "177 not found\n",
      "29 not found\n",
      "133 not found\n",
      "183 found\n",
      "75 not found\n",
      "49 not found\n",
      "16 found\n",
      "161 not found\n",
      "166 not found\n",
      "189 not found\n",
      "137 found\n",
      "99 found\n",
      "123 found\n",
      "151 found\n",
      "74 not found\n",
      "95 not found\n",
      "11 not found\n",
      "104 not found\n",
      "147 found\n",
      "80 not found\n",
      "13 not found\n",
      "165 not found\n",
      "113 found\n",
      "174 found\n",
      "198 not found\n",
      "69 found\n",
      "185 not found\n",
      "103 not found\n",
      "62 not found\n",
      "94 found\n",
      "135 found\n",
      "110 not found\n",
      "129 found\n",
      "172 found\n",
      "23 found\n",
      "138 not found\n",
      "179 not found\n",
      "76 found\n",
      "192 found\n",
      "136 not found\n",
      "25 not found\n",
      "Average number is 6.2\n"
     ]
    }
   ],
   "source": [
    "# Task 1.3\n",
    "import random\n",
    "\n",
    "f = open(\"SORTED_name_centre_index.txt\", 'r')\n",
    "data = f.read().strip()\n",
    "f.close()\n",
    "\n",
    "numbers = data.split(\"\\n\")\n",
    "integers = []\n",
    "for num in numbers:\n",
    "    integers.append(int(num))\n",
    "\n",
    "past = [0]\n",
    "rand = 0\n",
    "totalComp = 0\n",
    "for i in range(50):\n",
    "    while rand in past:\n",
    "        rand = random.randint(1,200)\n",
    "    past.append(rand)\n",
    "    totalComp += BinarySearch(integers, rand)\n",
    "print(f\"Average number is {totalComp/50}\")"
   ]
  }
 ],
 "metadata": {
  "kernelspec": {
   "display_name": "Python 3",
   "language": "python",
   "name": "python3"
  },
  "language_info": {
   "codemirror_mode": {
    "name": "ipython",
    "version": 3
   },
   "file_extension": ".py",
   "mimetype": "text/x-python",
   "name": "python",
   "nbconvert_exporter": "python",
   "pygments_lexer": "ipython3",
   "version": "3.6.4"
  }
 },
 "nbformat": 4,
 "nbformat_minor": 2
}
