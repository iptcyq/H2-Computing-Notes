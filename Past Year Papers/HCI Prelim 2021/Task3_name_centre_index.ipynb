{
 "cells": [
  {
   "cell_type": "code",
   "execution_count": 52,
   "metadata": {},
   "outputs": [],
   "source": [
    "# Task 3.1\n",
    "class Node():\n",
    "    def __init__(self, Data, Priority, Next=None):\n",
    "        self.Data = Data\n",
    "        self.Priority = Priority\n",
    "        self.Next = Next\n",
    "\n",
    "class PQueue():\n",
    "    def __init__(self):\n",
    "        self.Initialise()\n",
    "    def Initialise(self):\n",
    "        self.ThisPQueue = []\n",
    "        for i in range(9):\n",
    "            self.ThisPQueue.append(Node('',0,i+1))\n",
    "        self.ThisPQueue.append(Node('',0,-1))\n",
    "        self.Front = self.Rear = -1\n",
    "        self.NextFree = 0\n",
    "    \n",
    "    def PQInsert(self, NewItem, Priority):\n",
    "        if self.NextFree == -1: # full\n",
    "            print(\"Error: Queue full\")\n",
    "        elif self.Front == -1: # queue empty\n",
    "            self.Front = self.Rear = self.NextFree\n",
    "            self.NextFree = self.ThisPQueue[self.Rear].Next\n",
    "            self.ThisPQueue[self.Rear].Next = 0\n",
    "            self.ThisPQueue[self.Rear].Data = NewItem\n",
    "            self.ThisPQueue[self.Rear].Priority = Priority\n",
    "        else:\n",
    "            self.ThisPQueue[self.Rear].Next = self.NextFree\n",
    "            self.Rear = self.NextFree\n",
    "            self.NextFree = self.ThisPQueue[self.Rear].Next\n",
    "            self.ThisPQueue[self.Rear].Data = NewItem\n",
    "            self.ThisPQueue[self.Rear].Priority = Priority\n",
    "            self.ThisPQueue[self.Rear].Next = 0\n",
    "            \n",
    "    def PQDelete(self):\n",
    "        if self.Front == -1: # queue empty\n",
    "            print(\"Error: Queue empty\")\n",
    "        else:\n",
    "            ret = self.ThisPQueue[self.Front].Data\n",
    "            self.ThisPQueue[self.Front].Data = ''\n",
    "            self.ThisPQueue[self.Front].Priority = 0\n",
    "            new_front = self.ThisPQueue[self.Front].Next\n",
    "            self.ThisPQueue[self.Front].Next = self.NextFree\n",
    "            self.NextFree = self.Front\n",
    "            if self.Front == self.Rear: # 1 item left\n",
    "                self.Front = self.Rear = -1\n",
    "            else:\n",
    "                self.Front = new_front\n",
    "            return ret\n",
    "            \n",
    "    def DisplayPQueue(self):\n",
    "        print(\"Front:\", self.Front)\n",
    "        print(\"Rear:\", self.Rear)\n",
    "        print(\"Next free:\", self.NextFree)\n",
    "        print()\n",
    "        for item in self.ThisPQueue:\n",
    "            print(f\"{item.Data} : {item.Priority} : {item.Next}\")"
   ]
  },
  {
   "cell_type": "code",
   "execution_count": 55,
   "metadata": {},
   "outputs": [
    {
     "name": "stdout",
     "output_type": "stream",
     "text": [
      "Front: 0\n",
      "Rear: 5\n",
      "Next free: 6\n",
      "\n",
      "George : 2 : 1\n",
      "Jane : 1 : 2\n",
      "Sandra : 4 : 3\n",
      "Bill : 3 : 4\n",
      "Dave : 5 : 5\n",
      "Bob : 1 : 0\n",
      " : 0 : 7\n",
      " : 0 : 8\n",
      " : 0 : 9\n",
      " : 0 : -1\n"
     ]
    }
   ],
   "source": [
    "# task 3.2\n",
    "q = PQueue()\n",
    "\n",
    "f = open(\"resource/PATIENTS.txt\",'r')\n",
    "data = f.read().strip()\n",
    "f.close()\n",
    "\n",
    "patients = data.split('\\n')\n",
    "for patient in patients:\n",
    "    name, priority = patient.split(',')\n",
    "    q.PQInsert(name,priority)\n",
    "\n",
    "q.DisplayPQueue()"
   ]
  },
  {
   "cell_type": "code",
   "execution_count": 56,
   "metadata": {},
   "outputs": [
    {
     "name": "stdout",
     "output_type": "stream",
     "text": [
      "Front: 4\n",
      "Rear: 1\n",
      "Next free: 3\n",
      "\n",
      " : 0 : 6\n",
      "Carol : 4 : 0\n",
      " : 0 : 0\n",
      " : 0 : 2\n",
      "Dave : 5 : 5\n",
      "Bob : 1 : 1\n",
      " : 0 : 7\n",
      " : 0 : 8\n",
      " : 0 : 9\n",
      " : 0 : -1\n"
     ]
    }
   ],
   "source": [
    "# task 3.3\n",
    "q.PQDelete()\n",
    "q.PQDelete()\n",
    "q.PQInsert('Carol',4)\n",
    "q.PQDelete()\n",
    "q.PQDelete()\n",
    "q.DisplayPQueue()"
   ]
  }
 ],
 "metadata": {
  "kernelspec": {
   "display_name": "Python 3",
   "language": "python",
   "name": "python3"
  },
  "language_info": {
   "codemirror_mode": {
    "name": "ipython",
    "version": 3
   },
   "file_extension": ".py",
   "mimetype": "text/x-python",
   "name": "python",
   "nbconvert_exporter": "python",
   "pygments_lexer": "ipython3",
   "version": "3.6.4"
  }
 },
 "nbformat": 4,
 "nbformat_minor": 2
}
