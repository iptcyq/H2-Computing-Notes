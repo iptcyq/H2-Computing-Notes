{
 "cells": [
  {
   "cell_type": "code",
   "execution_count": 1,
   "metadata": {},
   "outputs": [],
   "source": [
    "class Node():\n",
    "    def __init__(self, Data, Priority, Next=None):\n",
    "        self.Data = Data\n",
    "        self.Priority = Priority\n",
    "        self.Next = Next\n",
    "        \n",
    "class PQueue():\n",
    "    def Initialise(self):\n",
    "        size = 10\n",
    "        self.ThisPQueue = []\n",
    "        for i in range(size-1): # append all but the last node\n",
    "            self.ThisPQueue.append(Node('',None,i+1)) \n",
    "        self.ThisPQueue.append(Node('',None,-1)) # add the last node with next of -1\n",
    "        self.Front = self.Rear = -1 # set front and rear to point to nothing\n",
    "        self.NextFree = 0 # free to first node\n",
    "        \n",
    "    def PQInsert(self, NewItem, Priority):\n",
    "        if self.NextFree == -1: # full list\n",
    "            print(\"Error: List full\")\n",
    "        else:\n",
    "            newNode = self.NextFree # get new node\n",
    "            self.NextFree = self.ThisPQueue[newNode].Next # set new free\n",
    "            self.ThisPQueue[newNode].Data = NewItem # set new node data\n",
    "            self.ThisPQueue[newNode].Priority = Priority # set new priority\n",
    "            if self.Rear != -1: # not empty list\n",
    "                self.ThisPQueue[self.Rear].Next = newNode\n",
    "                self.Rear = newNode\n",
    "            else: # if insert into empty list\n",
    "                self.Front = self.Rear = newNode # set front and rear to be first node\n",
    "            self.ThisPQueue[newNode].Next = -1 # set new node next\n",
    "    \n",
    "    def PQDelete(self):\n",
    "        if self.Rear == -1: # empty list\n",
    "            print(\"Error: List empty\")\n",
    "        else:\n",
    "            # loop through entire list to find highest priority\n",
    "            highestP = None\n",
    "            for item in self.ThisPQueue:\n",
    "                if highestP == None or (item.Priority and item.Priority < highestP):\n",
    "                    highestP = item.Priority\n",
    "            \n",
    "            # edge case of being first\n",
    "            if self.ThisPQueue[self.Front].Priority == highestP:\n",
    "                outpNode = self.Front \n",
    "                outpData = self.ThisPQueue[outpNode].Data # get data\n",
    "                self.ThisPQueue[outpNode].Priority = None # reset priority\n",
    "                self.ThisPQueue[outpNode].Data = '' # reset data\n",
    "                self.Front = self.ThisPQueue[outpNode].Next # reset head\n",
    "                self.ThisPQueue[outpNode].Next = self.NextFree\n",
    "                self.NextFree = outpNode # return to free list\n",
    "                \n",
    "                # check if nothing inside\n",
    "                empty = True\n",
    "                for i in self.ThisPQueue:\n",
    "                    if i.Data != '': # default empty list has all ''\n",
    "                        empty = False\n",
    "                if empty:\n",
    "                    self.Front = self.Rear = -1 # if nothing left reset to be empty list\n",
    "            else:\n",
    "                # get node with highest priority\n",
    "                curr = self.Front\n",
    "                while self.ThisPQueue[self.ThisPQueue[curr].Next].Priority != highestP:\n",
    "                    curr = self.ThisPQueue[curr].Next # curr will be node before deleted node\n",
    "\n",
    "                outpNode = self.ThisPQueue[curr].Next # get index of deleted node\n",
    "                self.ThisPQueue[curr].Next = self.ThisPQueue[outpNode].Next # set new next\n",
    "                if self.ThisPQueue[outpNode].Next == -1: # check if at rear\n",
    "                    self.Rear = curr # if deleted node at rear set rear as the one before deleted\n",
    "                \n",
    "                outpData = self.ThisPQueue[outpNode].Data # get data\n",
    "                self.ThisPQueue[outpNode].Data = '' # reset data\n",
    "                self.ThisPQueue[outpNode].Priority = None # reset priority\n",
    "                self.ThisPQueue[outpNode].Next = self.NextFree\n",
    "                self.NextFree = outpNode # reset free list \n",
    "\n",
    "            return outpData\n",
    "\n",
    "    def DisplayPQueue(self):\n",
    "        print(\"Front:\", self.Front+1)\n",
    "        print(\"Rear:\", self.Rear+1)\n",
    "        print(\"Next free:\", self.NextFree+1)\n",
    "        print()\n",
    "        counter = 0\n",
    "        for item in self.ThisPQueue:\n",
    "            print(f\"{counter+1} {item.Data} : {item.Priority} : {item.Next+1}\")\n",
    "            counter += 1"
   ]
  },
  {
   "cell_type": "code",
   "execution_count": 2,
   "metadata": {},
   "outputs": [
    {
     "name": "stdout",
     "output_type": "stream",
     "text": [
      "Front: 1\n",
      "Rear: 6\n",
      "Next free: 7\n",
      "\n",
      "1 George : 2 : 2\n",
      "2 Jane : 1 : 3\n",
      "3 Sandra : 4 : 4\n",
      "4 Bill : 3 : 5\n",
      "5 Dave : 5 : 6\n",
      "6 Bob : 1 : 0\n",
      "7  : None : 8\n",
      "8  : None : 9\n",
      "9  : None : 10\n",
      "10  : None : 0\n"
     ]
    }
   ],
   "source": [
    "# task 3.2\n",
    "q = PQueue()\n",
    "q.Initialise()\n",
    "\n",
    "f = open(\"resource/PATIENTS.txt\",'r')\n",
    "data = f.read().strip()\n",
    "f.close()\n",
    "\n",
    "patients = data.split('\\n')\n",
    "for patient in patients:\n",
    "    name, priority = patient.split(',')\n",
    "    q.PQInsert(name,int(priority))\n",
    "\n",
    "q.DisplayPQueue()"
   ]
  },
  {
   "cell_type": "code",
   "execution_count": 3,
   "metadata": {},
   "outputs": [
    {
     "name": "stdout",
     "output_type": "stream",
     "text": [
      "Front: 3\n",
      "Rear: 6\n",
      "Next free: 4\n",
      "\n",
      "1  : None : 2\n",
      "2  : None : 7\n",
      "3 Sandra : 4 : 5\n",
      "4  : None : 1\n",
      "5 Dave : 5 : 6\n",
      "6 Carol : 4 : 0\n",
      "7  : None : 8\n",
      "8  : None : 9\n",
      "9  : None : 10\n",
      "10  : None : 0\n"
     ]
    }
   ],
   "source": [
    "# task 3.3\n",
    "q.PQDelete()\n",
    "q.PQDelete()\n",
    "q.PQInsert('Carol',4)\n",
    "q.PQDelete()\n",
    "q.PQDelete()\n",
    "q.DisplayPQueue()"
   ]
  },
  {
   "cell_type": "code",
   "execution_count": 4,
   "metadata": {},
   "outputs": [
    {
     "name": "stdout",
     "output_type": "stream",
     "text": [
      "Error: List empty\n",
      "\n",
      "Front: 0\n",
      "Rear: 0\n",
      "Next free: 5\n",
      "\n",
      "1  : None : 2\n",
      "2  : None : 7\n",
      "3  : None : 4\n",
      "4  : None : 1\n",
      "5  : None : 6\n",
      "6  : None : 3\n",
      "7  : None : 8\n",
      "8  : None : 9\n",
      "9  : None : 10\n",
      "10  : None : 0\n"
     ]
    }
   ],
   "source": [
    "q.PQDelete()\n",
    "q.PQDelete()\n",
    "q.PQDelete()\n",
    "q.PQDelete()\n",
    "print()\n",
    "\n",
    "q.DisplayPQueue()"
   ]
  }
 ],
 "metadata": {
  "kernelspec": {
   "display_name": "Python 3",
   "language": "python",
   "name": "python3"
  },
  "language_info": {
   "codemirror_mode": {
    "name": "ipython",
    "version": 3
   },
   "file_extension": ".py",
   "mimetype": "text/x-python",
   "name": "python",
   "nbconvert_exporter": "python",
   "pygments_lexer": "ipython3",
   "version": "3.6.4"
  }
 },
 "nbformat": 4,
 "nbformat_minor": 2
}
