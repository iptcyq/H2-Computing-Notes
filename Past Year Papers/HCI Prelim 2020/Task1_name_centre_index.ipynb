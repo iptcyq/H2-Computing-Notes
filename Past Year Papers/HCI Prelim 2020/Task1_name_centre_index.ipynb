{
 "cells": [
  {
   "cell_type": "code",
   "execution_count": 12,
   "metadata": {},
   "outputs": [
    {
     "name": "stdout",
     "output_type": "stream",
     "text": [
      "Highest # cases (1426) is on 20 April 2020\n",
      "Lowest # cases (447) is on 15 April 2020, 02 May 2020\n"
     ]
    }
   ],
   "source": [
    "# Task 1.1\n",
    "f = open(\"resource/COVID19.TXT\")\n",
    "data = f.read().strip()\n",
    "f.close()\n",
    "\n",
    "days = data.split(\"\\n\")\n",
    "prev = int(days[0].split(\",\")[1])\n",
    "\n",
    "highestDate, lowestDate = [], []\n",
    "highestVal, lowestVal = 0, 30000\n",
    "newRecords = []\n",
    "\n",
    "for day in days[1:]:\n",
    "    date, record = day.split(\",\")\n",
    "    newCases = int(record) - prev\n",
    "    newRecords.append([date,newCases])\n",
    "    if newCases >= highestVal:\n",
    "        highestVal = newCases\n",
    "        highestDate = [date]\n",
    "    elif newCases == highestVal:\n",
    "        highestDate.append(date)\n",
    "    if newCases < lowestVal:\n",
    "        lowestVal = newCases\n",
    "        lowestDate = [date]\n",
    "    elif newCases == lowestVal:\n",
    "        lowestDate.append(date)\n",
    "    prev = int(record)\n",
    "\n",
    "month = [\"April\", \"May\"]\n",
    "highestWritten = []\n",
    "lowestWritten = []\n",
    "for date in highestDate:\n",
    "    out = date[:2] + \" \" + month[int(date[-2:])-4] + \" 2020\"\n",
    "    highestWritten.append(out)\n",
    "for date in lowestDate:\n",
    "    out = date[:2] + \" \" + month[int(date[-2:])-4] + \" 2020\"\n",
    "    lowestWritten.append(out)\n",
    "\n",
    "print(f\"Highest # cases ({highestVal}) is on {', '.join(highestWritten)}\")\n",
    "print(f\"Lowest # cases ({lowestVal}) is on {', '.join(lowestWritten)}\")"
   ]
  },
  {
   "cell_type": "code",
   "execution_count": 18,
   "metadata": {},
   "outputs": [
    {
     "name": "stdout",
     "output_type": "stream",
     "text": [
      "Longest ascending streak is 3 days\n"
     ]
    }
   ],
   "source": [
    "# Task 1.2\n",
    "streak = 1\n",
    "for i in range(1,len(newRecords)):\n",
    "    if newRecords[i][1] > newRecords[i-1][1]:\n",
    "        streak += 1\n",
    "    else:\n",
    "        streak = 1\n",
    "print(f\"Longest ascending streak is {streak} days\")"
   ]
  }
 ],
 "metadata": {
  "kernelspec": {
   "display_name": "Python 3",
   "language": "python",
   "name": "python3"
  },
  "language_info": {
   "codemirror_mode": {
    "name": "ipython",
    "version": 3
   },
   "file_extension": ".py",
   "mimetype": "text/x-python",
   "name": "python",
   "nbconvert_exporter": "python",
   "pygments_lexer": "ipython3",
   "version": "3.6.4"
  }
 },
 "nbformat": 4,
 "nbformat_minor": 2
}
