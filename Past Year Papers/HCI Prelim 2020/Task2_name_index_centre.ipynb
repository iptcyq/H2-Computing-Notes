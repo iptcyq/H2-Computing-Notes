{
 "cells": [
  {
   "cell_type": "code",
   "execution_count": 5,
   "metadata": {},
   "outputs": [],
   "source": [
    "# Task 2.1\n",
    "def HashKey(Country):\n",
    "    total = 0\n",
    "    for letter in Country.lower():\n",
    "        total += ord(letter)\n",
    "    hashAddr = total%30\n",
    "    return hashAddr"
   ]
  },
  {
   "cell_type": "code",
   "execution_count": 33,
   "metadata": {},
   "outputs": [
    {
     "name": "stdout",
     "output_type": "stream",
     "text": [
      "Error: full table\n",
      "Error: full table\n",
      "Error: full table\n",
      "Error: full table\n",
      "Error: full table\n",
      "['Spain', 'Canada', 'SaudiArabia', 'Russia', 'Belarus', 'Germany', 'Iran', 'Italy', 'India', 'China', 'Netherlands', 'Chile', 'Switzerland', 'Portugal', 'UK', 'Brazil', 'Turkey', 'Mexico', 'Sweden', 'Pakistan', 'Ecuador', 'Belgium', 'Singapore', 'France', 'Peru', 'Bangladesh', 'Indonesia', 'Qatar', 'Japan', 'USA']\n"
     ]
    }
   ],
   "source": [
    "# Task 4.2\n",
    "f = open(\"resource/COUNTRY1.TXT\")\n",
    "data = f.read().strip()\n",
    "f.close()\n",
    "\n",
    "hashTable = [None]*30\n",
    "\n",
    "countries = data.split(\"\\n\")\n",
    "for country in countries:\n",
    "    hashKey = HashKey(country)\n",
    "    if hashTable[hashKey] == None: # empty\n",
    "        hashTable[hashKey] = country\n",
    "    else:\n",
    "        currKey = hashKey + 1\n",
    "        currKey %= 30\n",
    "        while hashTable[currKey] != None and currKey != hashKey:\n",
    "            currKey += 1\n",
    "            currKey %= 30\n",
    "        if currKey != hashKey: \n",
    "            hashTable[currKey] = country\n",
    "        else: # full table\n",
    "            print(\"Error: full table\")\n",
    "\n",
    "print(hashTable)"
   ]
  },
  {
   "cell_type": "code",
   "execution_count": 40,
   "metadata": {},
   "outputs": [
    {
     "name": "stdout",
     "output_type": "stream",
     "text": [
      "Found Belarus at 4\n",
      "Found Canada at 1\n",
      "Arztotzka not found\n"
     ]
    }
   ],
   "source": [
    "# Task 2.3\n",
    "def SearchCountry(Country, HashTable):\n",
    "    hashKey = HashKey(Country)\n",
    "    currKey = hashKey + 1\n",
    "    currKey %= 30\n",
    "    while HashTable[currKey] != Country and currKey != hashKey:\n",
    "        currKey += 1\n",
    "        currKey %= 30\n",
    "    if currKey != hashKey:\n",
    "        print(f\"Found {Country} at {currKey}\")\n",
    "    elif HashTable[currKey] == Country:\n",
    "        print(f\"Found {Country} at {hashKey}\")\n",
    "    else:\n",
    "        print(f\"{Country} not found\")\n",
    "\n",
    "SearchCountry(\"Belarus\", hashTable) # collision\n",
    "SearchCountry(\"Canada\", hashTable) # normal\n",
    "SearchCountry(\"Arztotzka\", hashTable) # not in table"
   ]
  },
  {
   "cell_type": "code",
   "execution_count": 77,
   "metadata": {},
   "outputs": [
    {
     "name": "stdout",
     "output_type": "stream",
     "text": [
      "['Belgium', '16.4']\n",
      "['France', '15.4']\n",
      "['UK', '14.4']\n",
      "['Italy', '14.1']\n",
      "['Netherlands', '12.9']\n",
      "['Sweden', '12.4']\n",
      "['Mexico', '10.6']\n",
      "['Spain', '10.0']\n",
      "['Ecuador', '8.2']\n",
      "['Canada', '7.5']\n",
      "['Brazil', '6.7']\n",
      "['Philipines', '6.6']\n",
      "['Indonesia', '6.4']\n",
      "['Switzerland', '6.1']\n",
      "['USA', '6.0']\n",
      "['Iran', '5.9']\n",
      "['China', '5.6']\n",
      "['Germany', '4.6']\n",
      "['Japan', '4.5']\n",
      "['Portugal', '4.2']\n",
      "['Peru', '2.8']\n",
      "['India', '2.8']\n",
      "['Turkey', '2.8']\n",
      "['Pakistan', '2.1']\n",
      "['Thailand', '1.9']\n",
      "['Malaysia', '1.6']\n",
      "['Bangladesh', '1.5']\n",
      "['Australia', '1.4']\n",
      "['Chile', '1.0']\n",
      "['Russia', '0.9']\n",
      "['Belarus', '0.6']\n",
      "['SaudiArabia', '0.6']\n",
      "['Maldives', '0.4']\n",
      "['Singapore', '0.1']\n",
      "['Qatar', '0.0']\n"
     ]
    }
   ],
   "source": [
    "f = open(\"resource/COUNTRY2.TXT\")\n",
    "data = f.read().strip()\n",
    "f.close()\n",
    "\n",
    "sortedList = []\n",
    "\n",
    "records = data.split(\"\\n\")\n",
    "for record in records:\n",
    "    country, confirmed, deaths = record.split(\",\")\n",
    "    deathRate = round(int(deaths)*100/int(confirmed),1)\n",
    "    if len(sortedList) == 0:\n",
    "        sortedList.append([country, str(deathRate)])\n",
    "    else:\n",
    "        i = 0\n",
    "        while len(sortedList) > i and float(sortedList[i][1]) > deathRate: \n",
    "            i += 1\n",
    "        if i >= len(sortedList): \n",
    "            sortedList.append([country, str(deathRate)])\n",
    "        elif i == 0: # first item:\n",
    "            sortedList = [[country, str(deathRate)]] + sortedList\n",
    "        else:\n",
    "            sortedList = sortedList[:i] + [[country, str(deathRate)]] + sortedList[i:]\n",
    "            \n",
    "for rec in sortedList: # debugging\n",
    "    print(rec)\n",
    "\n",
    "newRecords = []\n",
    "for rec in sortedList:\n",
    "    newRecords.append(\",\".join(rec))\n",
    "    \n",
    "f = open(\"RATE.TXT\", 'w')\n",
    "f.write(\"\\n\".join(newRecords))\n",
    "f.close()"
   ]
  }
 ],
 "metadata": {
  "kernelspec": {
   "display_name": "Python 3",
   "language": "python",
   "name": "python3"
  },
  "language_info": {
   "codemirror_mode": {
    "name": "ipython",
    "version": 3
   },
   "file_extension": ".py",
   "mimetype": "text/x-python",
   "name": "python",
   "nbconvert_exporter": "python",
   "pygments_lexer": "ipython3",
   "version": "3.6.4"
  }
 },
 "nbformat": 4,
 "nbformat_minor": 2
}
