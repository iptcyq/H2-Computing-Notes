{
 "cells": [
  {
   "cell_type": "code",
   "execution_count": 2,
   "metadata": {},
   "outputs": [
    {
     "name": "stdout",
     "output_type": "stream",
     "text": [
      "dog, cow, bat, rat\n",
      "\n",
      "cow, bat\n",
      "\n",
      "False\n",
      "True\n"
     ]
    }
   ],
   "source": [
    "# Task 3.1 \n",
    "class Node():\n",
    "    def __init__(self, data, next_idx=None):\n",
    "        self.data = data\n",
    "        self.next_idx = next_idx\n",
    "    def __str__(self):\n",
    "        return self.data\n",
    "\n",
    "class LinkedList():\n",
    "    def __init__(self):\n",
    "        self.head = 0\n",
    "        self.size = 0\n",
    "    \n",
    "    def insert(self, word, p): # pth element - count, p index - 0\n",
    "        if self.size == 0: # empty list\n",
    "            self.head = Node(word)\n",
    "        elif p <= 1: # enter front of list\n",
    "            new_node = Node(word, self.head)\n",
    "            self.head = new_node\n",
    "        else:\n",
    "            curr = self.head\n",
    "            while curr.next_idx != None and p-2 != 0:\n",
    "                curr = curr.next_idx\n",
    "                p -= 1\n",
    "            new_node = Node(word, curr.next_idx)\n",
    "            curr.next_idx = new_node\n",
    "        self.size += 1\n",
    "\n",
    "    def delete(self, p):\n",
    "        if self.size == 0: # empty list\n",
    "            print(\"Error: Empty list\")\n",
    "        elif p == 1:\n",
    "            self.head = self.head.next_idx\n",
    "            self.size -= 1\n",
    "        else:\n",
    "            curr = self.head\n",
    "            while curr.next_idx != None and p-2 > 0:\n",
    "                curr = curr.next_idx\n",
    "                p -= 1\n",
    "            ret_node = curr.next_idx\n",
    "            curr.next_idx = ret_node.next_idx\n",
    "            self.size -= 1\n",
    "\n",
    "    def search(self, word):\n",
    "        curr = self.head\n",
    "        while curr != None:\n",
    "            if curr.data == word:\n",
    "                return True\n",
    "            curr = curr.next_idx\n",
    "        return False\n",
    "    \n",
    "    def to_string(self):\n",
    "        if self.size > 0:\n",
    "            outp = \"\"\n",
    "            curr = self.head\n",
    "            while curr != None:\n",
    "                outp += str(curr) + \", \"\n",
    "                curr = curr.next_idx\n",
    "            return outp[:-2]\n",
    "        \n",
    "l = LinkedList()\n",
    "l.insert(\"dog\",1)\n",
    "l.insert(\"cow\",2)\n",
    "l.insert(\"rat\",4)\n",
    "l.insert(\"bat\",3)\n",
    "print(l.to_string())\n",
    "print()\n",
    "\n",
    "l.delete(4)\n",
    "l.delete(1)\n",
    "print(l.to_string())\n",
    "print()\n",
    "\n",
    "print(l.search(\"rat\"))\n",
    "print(l.search(\"cow\"))"
   ]
  },
  {
   "cell_type": "code",
   "execution_count": 3,
   "metadata": {},
   "outputs": [
    {
     "name": "stdout",
     "output_type": "stream",
     "text": [
      "pear, apple\n"
     ]
    }
   ],
   "source": [
    "# Task 3.2\n",
    "class Stack(LinkedList):\n",
    "    def __init__(self):\n",
    "        super().__init__()\n",
    "    \n",
    "    def push(self, word):\n",
    "        self.insert(word, 1)\n",
    "    def pop(self):\n",
    "        self.delete(1)\n",
    "\n",
    "s = Stack()\n",
    "s.push(\"apple\")\n",
    "s.push(\"pear\")\n",
    "s.push(\"carrot\")\n",
    "s.pop()\n",
    "print(s.to_string())"
   ]
  },
  {
   "cell_type": "code",
   "execution_count": 5,
   "metadata": {},
   "outputs": [
    {
     "name": "stdout",
     "output_type": "stream",
     "text": [
      "pear, carrot\n"
     ]
    }
   ],
   "source": [
    "# Task 3.3\n",
    "class Queue(LinkedList):\n",
    "    def __init__(self):\n",
    "        super().__init__()\n",
    "    \n",
    "    def enqueue(self, word):\n",
    "        self.insert(word,1) # wrong\n",
    "        # should be self.insert(word, self.size + 1)\n",
    "    def dequeue(self):\n",
    "        self.delete(self.size) # wrong\n",
    "        # should be self.delete(1)\n",
    "    \n",
    "q = Queue()\n",
    "q.enqueue(\"apple\")\n",
    "q.enqueue(\"pear\")\n",
    "q.enqueue(\"carrot\")\n",
    "q.dequeue()\n",
    "print(q.to_string()) # wrong answer\n",
    "# answer should be 'pear, carrot'"
   ]
  }
 ],
 "metadata": {
  "kernelspec": {
   "display_name": "Python 3",
   "language": "python",
   "name": "python3"
  },
  "language_info": {
   "codemirror_mode": {
    "name": "ipython",
    "version": 3
   },
   "file_extension": ".py",
   "mimetype": "text/x-python",
   "name": "python",
   "nbconvert_exporter": "python",
   "pygments_lexer": "ipython3",
   "version": "3.6.4"
  }
 },
 "nbformat": 4,
 "nbformat_minor": 2
}
