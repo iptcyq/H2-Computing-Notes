{
 "cells": [
  {
   "cell_type": "code",
   "execution_count": 47,
   "metadata": {},
   "outputs": [
    {
     "name": "stdout",
     "output_type": "stream",
     "text": [
      ". . M . . . . \n",
      ". . . M . . . \n",
      ". . . . . . M \n",
      ". . . S M . . \n",
      ". . . . . . . \n",
      ". . . M . . . \n",
      ". . . . . . . \n"
     ]
    }
   ],
   "source": [
    "# task 1.1\n",
    "# open coordinates file\n",
    "f = open(\"resource/MINEFIELD.TXT\",'r')\n",
    "data = f.read().strip()\n",
    "f.close()\n",
    "\n",
    "# initialise grid\n",
    "grid = []\n",
    "n = int(data.split(\"\\n\")[0])\n",
    "for i in range(n):\n",
    "    row = []\n",
    "    for j in range(n):\n",
    "        row.append('.')\n",
    "    grid.append(row)\n",
    "\n",
    "# add mines at respective coordinates\n",
    "for rec in data.split(\"\\n\")[1:]:\n",
    "    x,y = rec.split(\",\")\n",
    "    grid[int(x)][int(y)] = 'M'\n",
    "\n",
    "# add soldier on grid\n",
    "soldierPosX = soldierPosY = int(n)//2\n",
    "grid[soldierPosX][soldierPosY] = 'S'\n",
    "\n",
    "# display grid\n",
    "def displaygrid(grid):\n",
    "    for row in grid:\n",
    "        for cell in row:\n",
    "            print(cell,end=' ')\n",
    "        print()\n",
    "        \n",
    "displaygrid(grid)"
   ]
  },
  {
   "cell_type": "code",
   "execution_count": 48,
   "metadata": {},
   "outputs": [
    {
     "name": "stdout",
     "output_type": "stream",
     "text": [
      "STEPS: LEFT DOWN DOWN LEFT UP UP DOWN LEFT UP RIGHT DOWN UP UP DOWN RIGHT UP LEFT UP LEFT LEFT\n",
      ". . M . . . . \n",
      "P P . M . . . \n",
      ". P P . . . M \n",
      "P P P S M . . \n",
      "P P P . . . . \n",
      ". P P M . . . \n",
      ". . . . . . . \n",
      "WIN! You walked to the boundary!\n"
     ]
    }
   ],
   "source": [
    "# Task 1.2\n",
    "import random\n",
    "\n",
    "print(\"STEPS:\", end = \" \")\n",
    "newPosX = soldierPosX\n",
    "newPosY = soldierPosY\n",
    "\n",
    "running = True\n",
    "while running:\n",
    "    # each time moved equally likely to go up down left right\n",
    "    direction = random.randint(1,4) # [left, right, up down]\n",
    "\n",
    "    dirs = [\"LEFT\",\"RIGHT\",\"UP\",\"DOWN\"]\n",
    "    if direction == 1:\n",
    "        newPosY -= 1\n",
    "    elif direction == 2:\n",
    "        newPosY += 1\n",
    "    elif direction == 3:\n",
    "        newPosX -= 1\n",
    "    elif direction == 4:\n",
    "        newPosX += 1\n",
    "    \n",
    "    # step on boundary, win\n",
    "    if newPosX < 0 or newPosX >= n or newPosY < 0 or newPosY >= n:\n",
    "        # win\n",
    "        print(dirs[direction-1])\n",
    "        displaygrid(grid)\n",
    "        print(\"WIN! You walked to the boundary!\")\n",
    "        running = False\n",
    "    elif grid[newPosX][newPosY] != 'M': # regardless of P or .\n",
    "        # safe\n",
    "        grid[newPosX][newPosY] = 'P'\n",
    "        print(dirs[direction-1], end=\" \")\n",
    "    else:\n",
    "        # step on mine, loses\n",
    "        print(dirs[direction-1])\n",
    "        displaygrid(grid)\n",
    "        print(\"LOSE! You walked to into the mine!\")\n",
    "        running = False"
   ]
  }
 ],
 "metadata": {
  "kernelspec": {
   "display_name": "Python 3",
   "language": "python",
   "name": "python3"
  },
  "language_info": {
   "codemirror_mode": {
    "name": "ipython",
    "version": 3
   },
   "file_extension": ".py",
   "mimetype": "text/x-python",
   "name": "python",
   "nbconvert_exporter": "python",
   "pygments_lexer": "ipython3",
   "version": "3.6.4"
  }
 },
 "nbformat": 4,
 "nbformat_minor": 2
}
