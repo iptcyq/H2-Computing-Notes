{
 "cells": [
  {
   "cell_type": "code",
   "execution_count": 2,
   "metadata": {},
   "outputs": [
    {
     "name": "stdout",
     "output_type": "stream",
     "text": [
      "Sport Facility           |Number of bookings            \n",
      "-------------------------------------------------------\n",
      "Badminton Bookings       |897381                        \n",
      "Table-Tennis Bookings    |233425                        \n",
      "Tennis Bookings          |206559                        \n",
      "Squash Bookings          |66718                         \n",
      "Football Bookings        |32022                         \n",
      "Basketball Bookings      |16970                         \n",
      "Volleyball Bookings      |14733                         \n",
      "Netball Bookings         |8700                          \n",
      "Hockey Bookings          |6726                          \n",
      "Athletics Bookings       |2570                          \n",
      "Rugby Bookings           |482                           \n"
     ]
    }
   ],
   "source": [
    "# Task 2.1\n",
    "\n",
    "def insertion_sort(arr):\n",
    "    for i in range(1, len(arr)):\n",
    "        key = arr[i]\n",
    "        j = i - 1\n",
    "        while j >= 0 and int(key[1]) > int(arr[j][1]):\n",
    "            arr[j + 1] = arr[j]\n",
    "            j -= 1\n",
    "        arr[j + 1] = key\n",
    "    return arr\n",
    "\n",
    "bookings = []\n",
    "\n",
    "with open(\"SPORTS-FACILITIES.txt\",\"r\") as datafile:\n",
    "    for line in datafile:\n",
    "        record = line.strip().split(\",\")\n",
    "        bookings.append(record)\n",
    "\n",
    "sorted_data = insertion_sort(bookings)\n",
    "\n",
    "print(f'{\"Sport Facility\":<25}|{\"Number of bookings\":<30}')\n",
    "print(\"-\"*55)\n",
    "for record in sorted_data:\n",
    "    print(f'{record[0]:<25}|{record[1]:<30}')"
   ]
  },
  {
   "cell_type": "code",
   "execution_count": 3,
   "metadata": {},
   "outputs": [
    {
     "name": "stdout",
     "output_type": "stream",
     "text": [
      "Sport Facility           |Number of bookings            \n",
      "-------------------------------------------------------\n",
      "Badminton Bookings       |897381                        \n",
      "Table-Tennis Bookings    |233425                        \n",
      "Tennis Bookings          |206559                        \n",
      "Squash Bookings          |66718                         \n",
      "Football Bookings        |32022                         \n",
      "Basketball Bookings      |16970                         \n",
      "Volleyball Bookings      |14733                         \n",
      "Netball Bookings         |8700                          \n",
      "Hockey Bookings          |6726                          \n",
      "Athletics Bookings       |2570                          \n",
      "Rugby Bookings           |482                           \n"
     ]
    }
   ],
   "source": [
    "# Task 2.2\n",
    "\n",
    "def quicksort(arr):\n",
    "    if len(arr) <= 1:\n",
    "        return arr\n",
    "\n",
    "    pivot = arr[len(arr) // 2] \n",
    "    left = [x for x in arr if int(x[1]) < int(pivot[1])]\n",
    "    middle = [x for x in arr if int(x[1]) == int(pivot[1])]\n",
    "    right = [x for x in arr if int(x[1]) > int(pivot[1])]\n",
    "\n",
    "    return quicksort(right) + middle + quicksort(left)\n",
    "\n",
    "bookings = []\n",
    "\n",
    "with open(\"SPORTS-FACILITIES.txt\",\"r\") as datafile:\n",
    "    for line in datafile:\n",
    "        record = line.strip().split(\",\")\n",
    "        bookings.append(record)\n",
    "\n",
    "sorted_data = quicksort(bookings)\n",
    "\n",
    "print(f'{\"Sport Facility\":<25}|{\"Number of bookings\":<30}')\n",
    "print(\"-\"*55)\n",
    "for record in sorted_data:\n",
    "    print(f'{record[0]:<25}|{record[1]:<30}')"
   ]
  },
  {
   "cell_type": "code",
   "execution_count": 10,
   "metadata": {
    "scrolled": false
   },
   "outputs": [
    {
     "name": "stdout",
     "output_type": "stream",
     "text": [
      "Number of comparisons by quicksort: 24\n",
      "Number of comparisons by insertion_sort: 40\n",
      "Quicksort performs better for this instance\n"
     ]
    }
   ],
   "source": [
    "# Task 2.3\n",
    "\n",
    "def quicksort_with_count(arr):\n",
    "    if len(arr) <= 1:\n",
    "        return arr, 0\n",
    "\n",
    "    pivot = arr[len(arr) // 2] \n",
    "    left = [x for x in arr if int(x[1]) < int(pivot[1])]\n",
    "    middle = [x for x in arr if int(x[1]) == int(pivot[1])]\n",
    "    right = [x for x in arr if int(x[1]) > int(pivot[1])]\n",
    "\n",
    "    comparisons = len(arr) - 1\n",
    "\n",
    "    left_sorted, left_count = quicksort_with_count(left)\n",
    "    right_sorted, right_count = quicksort_with_count(right)\n",
    "\n",
    "    return right_sorted + middle + left_sorted, comparisons + left_count + right_count\n",
    "\n",
    "def insertion_sort_with_count(arr):\n",
    "    \n",
    "    comparisons = 0\n",
    "    \n",
    "    for i in range(1, len(arr)):\n",
    "        key = arr[i]\n",
    "        j = i - 1\n",
    "        while j >= 0 and int(key[1]) > int(arr[j][1]):\n",
    "            comparisons += 1\n",
    "            arr[j + 1] = arr[j]\n",
    "            j -= 1\n",
    "        arr[j + 1] = key\n",
    "        \n",
    "        if j >= 0:\n",
    "            comparisons += 1\n",
    "            \n",
    "    return arr, comparisons\n",
    "\n",
    "bookings = []\n",
    "\n",
    "with open(\"SPORTS-FACILITIES.txt\",\"r\") as datafile:\n",
    "    for line in datafile:\n",
    "        record = line.strip().split(\",\")\n",
    "        bookings.append(record)\n",
    "        \n",
    "sorted_arr_quicksort, quicksort_count = quicksort_with_count(bookings)\n",
    "print(\"Number of comparisons by quicksort:\", quicksort_count) \n",
    "\n",
    "sorted_arr_insertion_sort, insertion_sort_count = insertion_sort_with_count(bookings)\n",
    "print(\"Number of comparisons by insertion_sort:\", insertion_sort_count) \n",
    "\n",
    "if quicksort_count < insertion_sort_count:\n",
    "    print(\"Quicksort performs better for this instance\")\n",
    "elif quicksort_count > insertion_sort_count:\n",
    "    print(\"Insertion sort performs better for this instance\")\n",
    "else:\n",
    "    print(\"Both sort produces equal performance for this instance\")"
   ]
  },
  {
   "cell_type": "code",
   "execution_count": 9,
   "metadata": {},
   "outputs": [
    {
     "name": "stdout",
     "output_type": "stream",
     "text": [
      "Sorted list in descending order based on bookings:\n",
      "['Badminton Bookings', '897381']\n",
      "['Table-Tennis Bookings', '233425']\n",
      "['Tennis Bookings', '206559']\n",
      "['Squash Bookings', '66718']\n",
      "['Football Bookings', '32022']\n",
      "['Basketball Bookings', '16970']\n",
      "['Volleyball Bookings', '14733']\n",
      "['Netball Bookings', '8700']\n",
      "['Hockey Bookings', '6726']\n",
      "['Athletics Bookings', '2570']\n",
      "['Rugby Bookings', '482']\n",
      "Number of comparisons: 24\n"
     ]
    }
   ],
   "source": [
    "#Alternative for counting comparisons in quicksort \n",
    "def quicksort_with_comparisons(alist, comparisons=0):\n",
    "    if len(alist) <= 1:\n",
    "        return alist, comparisons\n",
    "\n",
    "    pivot = int(alist[len(alist) // 2][1])\n",
    "\n",
    "    left = []\n",
    "    right = []\n",
    "    middle = []\n",
    "\n",
    "    for i in alist:\n",
    "        if int(i[1]) < pivot:\n",
    "            left.append(i)\n",
    "            comparisons += 1\n",
    "        elif int(i[1]) > pivot:\n",
    "            right.append(i)\n",
    "            comparisons += 1\n",
    "        else:\n",
    "            middle.append(i)\n",
    "\n",
    "    sorted_right, comparisons = quicksort_with_comparisons(right, comparisons)\n",
    "    sorted_left, comparisons = quicksort_with_comparisons(left, comparisons)\n",
    "\n",
    "    sorted_list = sorted_right + middle + sorted_left\n",
    "    return sorted_list, comparisons"
   ]
  },
  {
   "cell_type": "code",
   "execution_count": 3,
   "metadata": {},
   "outputs": [
    {
     "name": "stdout",
     "output_type": "stream",
     "text": [
      "Sorted list in descending order based on bookings:\n",
      "['Badminton Bookings', '897381']\n",
      "['Table-Tennis Bookings', '233425']\n",
      "['Tennis Bookings', '206559']\n",
      "['Squash Bookings', '66718']\n",
      "['Football Bookings', '32022']\n",
      "['Basketball Bookings', '16970']\n",
      "['Volleyball Bookings', '14733']\n",
      "['Netball Bookings', '8700']\n",
      "['Hockey Bookings', '6726']\n",
      "['Athletics Bookings', '2570']\n",
      "['Rugby Bookings', '482']\n",
      "Number of comparisons: 21\n"
     ]
    }
   ],
   "source": [
    "#Alternative for counting comparisons in quicksort \n",
    "def quicksort_with_comparisons_v2(arr):\n",
    "\n",
    "    def quicksort(arr, low, high):\n",
    "        comparisons = 0  # Initialize the comparison counter\n",
    "        if low < high:\n",
    "            pivot_index, comparisons = partition(arr, low, high)\n",
    "            comparisons += quicksort(arr, low, pivot_index - 1)\n",
    "            comparisons += quicksort(arr, pivot_index + 1, high)\n",
    "        return comparisons\n",
    "\n",
    "    def partition(arr, low, high):\n",
    "        pivot = arr[high]\n",
    "        i = low - 1\n",
    "        comparisons = 0\n",
    "        \n",
    "        for j in range(low, high):\n",
    "            if int(arr[j][1]) >= int(pivot[1]):\n",
    "                i += 1\n",
    "                arr[i], arr[j] = arr[j], arr[i]\n",
    "                comparisons += 1\n",
    "        \n",
    "        arr[i + 1], arr[high] = arr[high], arr[i + 1]\n",
    "        comparisons += 1\n",
    "        \n",
    "        return i + 1, comparisons\n",
    "\n",
    "    comparison_count = quicksort(arr, 0, len(arr) - 1)\n",
    "    return comparison_count"
   ]
  }
 ],
 "metadata": {
  "kernelspec": {
   "display_name": "Python 3",
   "language": "python",
   "name": "python3"
  },
  "language_info": {
   "codemirror_mode": {
    "name": "ipython",
    "version": 3
   },
   "file_extension": ".py",
   "mimetype": "text/x-python",
   "name": "python",
   "nbconvert_exporter": "python",
   "pygments_lexer": "ipython3",
   "version": "3.6.4"
  }
 },
 "nbformat": 4,
 "nbformat_minor": 2
}
