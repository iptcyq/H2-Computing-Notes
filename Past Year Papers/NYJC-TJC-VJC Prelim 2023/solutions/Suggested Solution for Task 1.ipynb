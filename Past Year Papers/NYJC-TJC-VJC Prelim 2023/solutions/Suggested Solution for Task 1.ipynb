{
 "cells": [
  {
   "cell_type": "code",
   "execution_count": 7,
   "metadata": {},
   "outputs": [],
   "source": [
    "# Task 1.1\n",
    "\n",
    "def task1_1(input_value):\n",
    "    \n",
    "    if(len(input_value) != 11 or not input_value[0:4].isalpha() or not input_value[4:].isdigit()):\n",
    "        return False\n",
    "    \n",
    "    return True \n"
   ]
  },
  {
   "cell_type": "code",
   "execution_count": 13,
   "metadata": {},
   "outputs": [
    {
     "name": "stdout",
     "output_type": "stream",
     "text": [
      "False\n",
      "False\n",
      "True\n",
      "False\n"
     ]
    }
   ],
   "source": [
    "# Task 1.2\n",
    "\n",
    "print(task1_1(\"12345678901\"))\n",
    "print(task1_1(\"abcdefghijk\"))\n",
    "print(task1_1(\"MSKU3881107\"))\n",
    "print(task1_1(\"juid123\"))"
   ]
  },
  {
   "cell_type": "code",
   "execution_count": 19,
   "metadata": {},
   "outputs": [],
   "source": [
    "# Task 1.3\n",
    "\n",
    "def task1_3(input_value):\n",
    "    \n",
    "    letter_map = {'A':10, 'B':12, 'C':13, 'D':14, 'E':15, 'F':16, 'G':17, 'H':18, 'I':19, 'J':20, 'K':21,\n",
    "                 'L':23, 'M':24, 'N':25, 'O':26, 'P':27, 'Q':28, 'R':29, 'S':30, 'T':31, 'U':32, 'V':34,\n",
    "                 'W':35, 'X':36, 'Y':37, 'Z':38,}\n",
    "    \n",
    "    input_value = list(input_value)\n",
    "    \n",
    "    for i in range(4):\n",
    "        input_value[i] = letter_map[input_value[i].upper()]\n",
    "    \n",
    "    \n",
    "    sum = 0\n",
    "    \n",
    "    for i in range(len(input_value)):\n",
    "        sum += int(input_value[i])*(2**i)\n",
    "        \n",
    "    check_digit = sum%11%10\n",
    "    \n",
    "    return check_digit\n",
    "    "
   ]
  },
  {
   "cell_type": "code",
   "execution_count": 20,
   "metadata": {},
   "outputs": [
    {
     "name": "stdout",
     "output_type": "stream",
     "text": [
      "True\n",
      "False\n"
     ]
    }
   ],
   "source": [
    "# Task 1.4\n",
    "\n",
    "def task1_4(input_value):\n",
    "    \n",
    "    if task1_1(input_value):\n",
    "        return str(task1_3(input_value[:-1])) == input_value[-1]\n",
    "    \n",
    "    return False\n",
    "\n",
    "print(task1_4('PONU2079674'))\n",
    "print(task1_4('XONU2079674'))\n"
   ]
  },
  {
   "cell_type": "code",
   "execution_count": 21,
   "metadata": {},
   "outputs": [
    {
     "name": "stdout",
     "output_type": "stream",
     "text": [
      "True\n",
      "True\n"
     ]
    }
   ],
   "source": [
    "#Task 1.5\n",
    "\n",
    "print(task1_4('AONU2079679'))\n",
    "print(task1_4('KONU2079679'))"
   ]
  }
 ],
 "metadata": {
  "kernelspec": {
   "display_name": "Python 3",
   "language": "python",
   "name": "python3"
  },
  "language_info": {
   "codemirror_mode": {
    "name": "ipython",
    "version": 3
   },
   "file_extension": ".py",
   "mimetype": "text/x-python",
   "name": "python",
   "nbconvert_exporter": "python",
   "pygments_lexer": "ipython3",
   "version": "3.6.4"
  }
 },
 "nbformat": 4,
 "nbformat_minor": 2
}
