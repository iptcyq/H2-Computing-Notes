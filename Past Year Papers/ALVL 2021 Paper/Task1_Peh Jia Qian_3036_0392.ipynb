{
 "cells": [
  {
   "cell_type": "code",
   "execution_count": 40,
   "metadata": {},
   "outputs": [],
   "source": [
    "# Task 1.1\n",
    "def task1_1(input_value):\n",
    "    # either integer or string containing valid integer\n",
    "    if type(input_value) == int or input_value.isnumeric():\n",
    "        # 14 digits in length\n",
    "        if len(str(input_value)) == 14:\n",
    "            # calculate check digit\n",
    "            IMEI = str(input_value)[:14]\n",
    "            sum = 0\n",
    "            for i in range(1,len(IMEI)+1):\n",
    "                if i%2 == 1: # odd\n",
    "                    doubled = str(int(IMEI[-i])*2)\n",
    "                    if int(doubled) >= 10:\n",
    "                        sum += int(doubled[0]) + int(doubled[1])\n",
    "                    else:\n",
    "                        sum += int(doubled)\n",
    "                else: # even\n",
    "                    sum += int(IMEI[-i])\n",
    "            check_dig = (10 - sum%10)%10\n",
    "            return check_dig\n",
    "    return -1"
   ]
  },
  {
   "cell_type": "code",
   "execution_count": 42,
   "metadata": {},
   "outputs": [
    {
     "name": "stdout",
     "output_type": "stream",
     "text": [
      "True\n",
      "True\n",
      "True\n",
      "True\n"
     ]
    }
   ],
   "source": [
    "# Task 1.2\n",
    "# string containing valid integer\n",
    "print(task1_1(\"04576567650904\") == 0)\n",
    "# valid integer\n",
    "print(task1_1(14576567650904) == 9)\n",
    "# string containing char not numbers\n",
    "print(task1_1(\"aaaaaaaaaaaaaa\") == -1)\n",
    "# value of incorrect length\n",
    "print(task1_1(14576567) == -1)"
   ]
  },
  {
   "cell_type": "code",
   "execution_count": 47,
   "metadata": {},
   "outputs": [
    {
     "name": "stdout",
     "output_type": "stream",
     "text": [
      "True\n",
      "True\n",
      "True\n",
      "True\n"
     ]
    }
   ],
   "source": [
    "# Task 1.3\n",
    "def task1_3(input_value):\n",
    "    # validate integer/ string\n",
    "    if type(input_value) == int or input_value.isnumeric():\n",
    "        # 15 digits in length\n",
    "        if len(str(input_value)) == 15:\n",
    "            check_dig = int(str(input_value)[-1])\n",
    "            # check check digit\n",
    "            # return outcome\n",
    "            return task1_1(str(input_value)[:-1]) == check_dig\n",
    "    return False # invalid\n",
    "\n",
    "print(task1_3(\"045765676509040\"))\n",
    "print(task1_3(145765676509049))\n",
    "print(not task1_3(145765676509041))\n",
    "print(not task1_3(14576567))"
   ]
  }
 ],
 "metadata": {
  "kernelspec": {
   "display_name": "Python 3",
   "language": "python",
   "name": "python3"
  },
  "language_info": {
   "codemirror_mode": {
    "name": "ipython",
    "version": 3
   },
   "file_extension": ".py",
   "mimetype": "text/x-python",
   "name": "python",
   "nbconvert_exporter": "python",
   "pygments_lexer": "ipython3",
   "version": "3.6.4"
  }
 },
 "nbformat": 4,
 "nbformat_minor": 2
}
