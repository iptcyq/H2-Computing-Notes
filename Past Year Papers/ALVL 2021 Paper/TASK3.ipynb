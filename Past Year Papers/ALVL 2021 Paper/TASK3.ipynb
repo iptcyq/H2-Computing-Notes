{
 "cells": [
  {
   "cell_type": "code",
   "execution_count": 5,
   "metadata": {},
   "outputs": [
    {
     "name": "stdout",
     "output_type": "stream",
     "text": [
      "[0, 6, 9, 4, 8, 2, 3, 1, 7, 5]\n"
     ]
    }
   ],
   "source": [
    "# task 3.1\n",
    "class Node():\n",
    "    def __init__(self, data, Next=None):\n",
    "        self.data = data\n",
    "        self.Next = Next\n",
    "\n",
    "class LinkedList():\n",
    "    def __init__(self):\n",
    "        self.head = None\n",
    "        \n",
    "    def insert(self, integer_value):\n",
    "        if self.head == None: # empty\n",
    "            self.head = Node(integer_value)\n",
    "        else:\n",
    "            newNode = Node(integer_value, self.head)\n",
    "            self.head = newNode\n",
    "            \n",
    "    def delete(self, integer_value):\n",
    "        curr = self.head\n",
    "        while curr.Next != None:\n",
    "            if curr.Next.data == integer_value: # found\n",
    "                curr.Next = curr.Next.Next\n",
    "                return\n",
    "            curr = curr.Next\n",
    "        return None # not found\n",
    "            \n",
    "    def search(self, integer_value):\n",
    "        curr = self.head\n",
    "        while curr != None:\n",
    "            if curr.data == integer_value:\n",
    "                return True\n",
    "            curr = curr.Next\n",
    "        return False\n",
    "    \n",
    "    def count(self):\n",
    "        curr = self.head\n",
    "        count = 0\n",
    "        while curr != None:\n",
    "            count +=1\n",
    "            curr = curr.Next\n",
    "        return count\n",
    "    \n",
    "    def to_string(self):\n",
    "        curr = self.head\n",
    "        outp = \"[\"\n",
    "        while curr != None:\n",
    "            outp += str(curr.data) + \", \"\n",
    "            curr = curr.Next\n",
    "        outp = outp[:-2] +  \"]\"\n",
    "        return outp \n",
    "    \n",
    "f = open(\"resource/Task3data.txt\", 'r')\n",
    "data = f.read().strip().split(\"\\n\")\n",
    "f.close()\n",
    "\n",
    "l = LinkedList()\n",
    "for item in data:\n",
    "    l.insert(item)\n",
    "    \n",
    "print(l.to_string())"
   ]
  },
  {
   "cell_type": "code",
   "execution_count": 11,
   "metadata": {},
   "outputs": [
    {
     "name": "stdout",
     "output_type": "stream",
     "text": [
      "[0, 1, 2, 3, 4, 5, 6, 7, 8, 9]\n",
      "False\n"
     ]
    }
   ],
   "source": [
    "# task 3.2\n",
    "class SortedLinkedList(LinkedList):\n",
    "    def __init__(self):\n",
    "        super().__init__()\n",
    "    \n",
    "    def insert(self, integer_value):\n",
    "        if self.head == None: # empty\n",
    "            self.head = Node(integer_value)\n",
    "        elif self.head.data > integer_value: # insert at head\n",
    "            newNode = Node(integer_value, self.head)\n",
    "            self.head = newNode\n",
    "        else:\n",
    "            curr = self.head\n",
    "            while curr.Next != None and curr.Next.data < integer_value:\n",
    "                curr = curr.Next\n",
    "            newNode = Node(integer_value, curr.Next)\n",
    "            curr.Next = newNode\n",
    " \n",
    "f = open(\"resource/Task3data.txt\", 'r')\n",
    "data = f.read().strip().split(\"\\n\")\n",
    "f.close()\n",
    "\n",
    "sl = SortedLinkedList()\n",
    "for item in data:\n",
    "    sl.insert(item)\n",
    "    \n",
    "print(sl.to_string())\n",
    "\n",
    "print(sl.search(94))"
   ]
  },
  {
   "cell_type": "code",
   "execution_count": 17,
   "metadata": {},
   "outputs": [
    {
     "name": "stdout",
     "output_type": "stream",
     "text": [
      "[5, 7, 1, 3, 2, 8, 4, 9, 6, 0]\n",
      "5\n",
      "7\n",
      "1\n",
      "3\n",
      "2\n"
     ]
    }
   ],
   "source": [
    "# task 3.3\n",
    "class Queue(LinkedList):\n",
    "    def __init__(self):\n",
    "        super().__init__()\n",
    "        \n",
    "    def enqueue(self, integer_value):\n",
    "        if self.head == None: # empty\n",
    "            self.head = Node(integer_value)\n",
    "        else:\n",
    "            curr = self.head\n",
    "            while curr.Next != None:\n",
    "                curr = curr.Next\n",
    "            # curr is now on the last node\n",
    "            newNode = Node(integer_value)\n",
    "            curr.Next = newNode\n",
    "    \n",
    "    def dequeue(self):\n",
    "        if self.head == None: # empty\n",
    "            return None\n",
    "        else:\n",
    "            ret = self.head.data\n",
    "            self.head = self.head.Next\n",
    "            return ret\n",
    "\n",
    "f = open(\"resource/Task3data.txt\", 'r')\n",
    "data = f.read().strip().split(\"\\n\")\n",
    "f.close()\n",
    "\n",
    "q = Queue()\n",
    "for item in data:\n",
    "    q.enqueue(item)\n",
    "    \n",
    "print(q.to_string())\n",
    "\n",
    "for i in range(5):\n",
    "    print(q.dequeue())"
   ]
  }
 ],
 "metadata": {
  "kernelspec": {
   "display_name": "Python 3",
   "language": "python",
   "name": "python3"
  },
  "language_info": {
   "codemirror_mode": {
    "name": "ipython",
    "version": 3
   },
   "file_extension": ".py",
   "mimetype": "text/x-python",
   "name": "python",
   "nbconvert_exporter": "python",
   "pygments_lexer": "ipython3",
   "version": "3.6.4"
  }
 },
 "nbformat": 4,
 "nbformat_minor": 2
}
