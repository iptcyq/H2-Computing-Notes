{
 "cells": [
  {
   "cell_type": "code",
   "execution_count": 3,
   "metadata": {},
   "outputs": [
    {
     "name": "stdout",
     "output_type": "stream",
     "text": [
      "[1636, 3555, 3006, 653, 1665, 3865, 1447, 2568, 619, 2029]\n",
      "10\n"
     ]
    }
   ],
   "source": [
    "# task 2.1\n",
    "def task2_1(filename):\n",
    "    f = open(filename, 'r')\n",
    "    data = f.read().strip().split(\"\\n\")\n",
    "    f.close()\n",
    "    \n",
    "    numbers = []\n",
    "    for i in data:\n",
    "        numbers.append(int(i))\n",
    "        \n",
    "    return numbers\n",
    "\n",
    "result = task2_1(\"resource/TEN.txt\")\n",
    "print(result)\n",
    "print(len(result))"
   ]
  },
  {
   "cell_type": "code",
   "execution_count": 18,
   "metadata": {},
   "outputs": [
    {
     "name": "stdout",
     "output_type": "stream",
     "text": [
      "[619, 653, 1447, 1636, 1665, 2568, 3006, 3555, 3865, 2029]\n"
     ]
    }
   ],
   "source": [
    "# task 2.2\n",
    "def task2_2(list_of_integers):\n",
    "    if len(list_of_integers) <= 1:\n",
    "        return list_of_integers\n",
    "    \n",
    "    for i in range(len(list_of_integers)):\n",
    "        curr = i-1\n",
    "        while curr>0 and list_of_integers[curr]<list_of_integers[curr-1]:\n",
    "            list_of_integers[curr], list_of_integers[curr-1] = list_of_integers[curr-1], list_of_integers[curr]\n",
    "            curr -= 1\n",
    "        \n",
    "    return list_of_integers\n",
    "\n",
    "print(task2_2(task2_1(\"resource/TEN.txt\")))"
   ]
  },
  {
   "cell_type": "code",
   "execution_count": 16,
   "metadata": {},
   "outputs": [
    {
     "data": {
      "text/plain": [
       "[619, 653, 1447, 1636, 1665, 2029, 2568, 3006, 3555, 3865]"
      ]
     },
     "execution_count": 16,
     "metadata": {},
     "output_type": "execute_result"
    }
   ],
   "source": [
    "# Task 2.3\n",
    "def task2_3(list_of_integers, left=0, right=None):\n",
    "    if len(list_of_integers) <= 1:\n",
    "        return list_of_integers\n",
    "    elif right == None:\n",
    "        right = len(list_of_integers)\n",
    "\n",
    "    if right - left <= 1: # base case\n",
    "        return list_of_integers\n",
    "        \n",
    "    mid = left+ 1\n",
    "    for i in range(left+1,right):\n",
    "        if list_of_integers[i] < list_of_integers[left]:\n",
    "            list_of_integers[mid], list_of_integers[i] = list_of_integers[i], list_of_integers[mid]\n",
    "            mid += 1\n",
    "    list_of_integers[mid-1], list_of_integers[left] = list_of_integers[left], list_of_integers[mid-1]\n",
    "    \n",
    "    task2_3(list_of_integers, left, mid-1)\n",
    "    task2_3(list_of_integers, mid, right)\n",
    "    \n",
    "    \n",
    "    return list_of_integers\n",
    "    \n",
    "task2_3(task2_1(\"resource/TEN.txt\"))"
   ]
  },
  {
   "cell_type": "code",
   "execution_count": 22,
   "metadata": {},
   "outputs": [
    {
     "name": "stdout",
     "output_type": "stream",
     "text": [
      "As number increases: \n",
      "Insertion sort: 3.209999999853608e-05\t0.0015494999999816628\t0.1357486999999935\n",
      "Quick sort: 3.519999998502499e-05\t0.0005712999999900603\t0.06554539999999065\n",
      "\n",
      "Insertion vs Quick sort: \n",
      "Small list size: 3.209999999853608e-05\t3.519999998502499e-05\n",
      "Large list size: 0.1357486999999935\t0.06554539999999065\n",
      "\n",
      "3.209999999853608e-05 0.0015494999999816628 0.1357486999999935 3.519999998502499e-05 0.0005712999999900603 0.06554539999999065\n"
     ]
    }
   ],
   "source": [
    "# task 2.4\n",
    "import timeit\n",
    "\n",
    "# tens\n",
    "t10 = task2_1('resource/TEN.txt')\n",
    "t2210 = timeit.timeit(lambda: task2_2(t10), number=1)\n",
    "t2310 = timeit.timeit(lambda: task2_3(t10), number=1)\n",
    "\n",
    "# hundreds\n",
    "t100 = task2_1('resource/HUNDRED.txt')\n",
    "t22100 = timeit.timeit(lambda: task2_2(t100), number=1)\n",
    "t23100 = timeit.timeit(lambda: task2_3(t100), number=1)\n",
    "\n",
    "# thousands\n",
    "t1000 = task2_1('resource/THOUSAND.txt')\n",
    "t221000 = timeit.timeit(lambda: task2_2(t1000), number=1)\n",
    "t231000 = timeit.timeit(lambda: task2_3(t1000), number=1)\n",
    "\n",
    "print(\"As number increases: \")\n",
    "print(f\"Insertion sort: {t2210}\\t{t22100}\\t{t221000}\")\n",
    "print(f\"Quick sort: {t2310}\\t{t23100}\\t{t231000}\")\n",
    "print()\n",
    "\n",
    "print(\"Insertion vs Quick sort: \")\n",
    "print(f\"Small list size: {t2210}\\t{t2310}\")\n",
    "print(f\"Large list size: {t221000}\\t{t231000}\")\n",
    "print()\n",
    "\n",
    "print(t2210, t22100, t221000, t2310, t23100, t231000)"
   ]
  }
 ],
 "metadata": {
  "kernelspec": {
   "display_name": "Python 3",
   "language": "python",
   "name": "python3"
  },
  "language_info": {
   "codemirror_mode": {
    "name": "ipython",
    "version": 3
   },
   "file_extension": ".py",
   "mimetype": "text/x-python",
   "name": "python",
   "nbconvert_exporter": "python",
   "pygments_lexer": "ipython3",
   "version": "3.6.4"
  }
 },
 "nbformat": 4,
 "nbformat_minor": 2
}
