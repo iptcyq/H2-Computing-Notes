{
 "cells": [
  {
   "cell_type": "code",
   "execution_count": null,
   "metadata": {},
   "outputs": [],
   "source": [
    "# Task 1.1\n",
    "class Animal():\n",
    "    def __init__(self, name, mass, volume, age):\n",
    "        self.name = name\n",
    "        self.mass = mass\n",
    "        self.volume = volume\n",
    "        self.age = age\n",
    "        \n",
    "    def getName(self):\n",
    "        return self.name\n",
    "    def getMass(self):\n",
    "        return self.mass\n",
    "    def getVolume(self):\n",
    "        return self.volume\n",
    "    def getAge(self):\n",
    "        return self.age\n",
    "    \n",
    "    def isSick(self):\n",
    "        density = self.mass/self.volume\n",
    "        return density < 0.8\n",
    "    \n",
    "    def __str__(self):\n",
    "        return f\"Name: {self.name} \\tAge: {self.age} \\tMass: {self.mass} \\tVolume: {self.volume}\"\n",
    "    \n",
    "class WarmBloodAnimal(Animal):\n",
    "    def __init__(self, name, mass, volume, age, bodytemp):\n",
    "        super.__init__(name, mass, volume, age)\n",
    "        self.bodytemp = bodytemp\n",
    "        \n",
    "class ColdBloodAnimal(Animal):\n",
    "    def __init__(self, name, mass, volume, age, isPosionous):\n",
    "        super.__init__(name, mass, volume, age)\n",
    "        self.isPosionous = isPosionous\n",
    "        \n",
    "    def getIsPosionous(self):\n",
    "        return self.isPosionous\n",
    "    \n",
    "class Dog(WarmBloodedAnimal):\n",
    "    def __init__(self, self, name, mass, volume, age, bodytemp, hasOwner):\n",
    "        super.__init__(self, name, mass, volume, age, bodytemp)\n",
    "        self.hasOwner = hasOwner\n",
    "        \n",
    "    def hasFever(self):\n",
    "        return self.bodyTemp > 39.0\n",
    "    \n",
    "    def isSick(self):\n",
    "        return super().isSick() or self.hasFever()\n",
    "    \n",
    "    def isYoung(self):\n",
    "        return self.age < 1.0\n",
    "    \n",
    "    def __str__(self):\n",
    "        animalstr = super().__str__()\n",
    "        return animalstr + f\" Has fever: {self.hasFever}, Is sick: {self.isSick}, Is Young: {self.isYoung}\"\n",
    "    "
   ]
  }
 ],
 "metadata": {
  "kernelspec": {
   "display_name": "Python 3",
   "language": "python",
   "name": "python3"
  },
  "language_info": {
   "codemirror_mode": {
    "name": "ipython",
    "version": 3
   },
   "file_extension": ".py",
   "mimetype": "text/x-python",
   "name": "python",
   "nbconvert_exporter": "python",
   "pygments_lexer": "ipython3",
   "version": "3.6.4"
  }
 },
 "nbformat": 4,
 "nbformat_minor": 2
}
