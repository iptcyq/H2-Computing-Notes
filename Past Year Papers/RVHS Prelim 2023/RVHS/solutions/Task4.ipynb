{
 "cells": [
  {
   "cell_type": "code",
   "execution_count": 12,
   "metadata": {},
   "outputs": [
    {
     "name": "stdout",
     "output_type": "stream",
     "text": [
      "table guardians already exists\n",
      "table students already exists\n",
      "table results already exists\n"
     ]
    }
   ],
   "source": [
    "#Task 4.1\n",
    "import sqlite3\n",
    "from sqlite3 import Error\n",
    "\n",
    "def db_connect(filename):\n",
    "    try:\n",
    "        conn = sqlite3.connect(filename)\n",
    "        return conn\n",
    "    except Error as e:\n",
    "        print(e)\n",
    "        \n",
    "def db_create_table(conn, sql):\n",
    "    try:\n",
    "        conn.execute(sql)\n",
    "    except Error as e:\n",
    "        print(e)\n",
    "\n",
    "students_sql = '''\n",
    "               CREATE TABLE students (\n",
    "                   student_id INTEGER,\n",
    "                   stu_name TEXT NOT NULL,\n",
    "                   gender TEXT NOT NULL,\n",
    "                   primary_sch TEXT NOT NULL,\n",
    "                   guardian_id INTEGER NOT NULL,\n",
    "                   PRIMARY KEY(student_id),\n",
    "                   FOREIGN KEY(guardian_id) REFERENCES guardians(guardian_id),\n",
    "                   CHECK ( gender = 'male' OR gender = 'female')\n",
    "                   );\n",
    "               '''\n",
    "\n",
    "guardians_sql = '''\n",
    "               CREATE TABLE guardians (\n",
    "                   guardian_id INTEGER,\n",
    "                   guardian_name TEXT NOT NULL,\n",
    "                   guardian_email TEXT NOT NULL,\n",
    "                   PRIMARY KEY(guardian_id)\n",
    "                   )\n",
    "               '''\n",
    "results_sql = '''\n",
    "               CREATE TABLE results (\n",
    "                   student_id INTEGER,\n",
    "                   subject TEXT NOT NULL,\n",
    "                   al INTEGER NOT NULL,\n",
    "                   PRIMARY KEY(student_id, subject),\n",
    "                   FOREIGN KEY(student_id) REFERENCES students(student_id),\n",
    "                   CHECK ( al > 0 AND al < 9)\n",
    "                   );\n",
    "               ''' \n",
    "table_sql = [guardians_sql, students_sql, results_sql ]\n",
    "\n",
    "db_conn = db_connect(\"ENROLMENT.db\")\n",
    "for sql in table_sql:\n",
    "    db_create_table(db_conn, sql)\n",
    "db_conn.close()"
   ]
  },
  {
   "cell_type": "code",
   "execution_count": 13,
   "metadata": {},
   "outputs": [],
   "source": [
    "#Task 4.2\n",
    "import csv\n",
    "filename1 = 'GUARDIAN.csv'\n",
    "filename2 = 'STUDENT.csv'\n",
    "filename3 = 'RESULT.csv'\n",
    "\n",
    "sql1 = '''\n",
    "       INSERT INTO guardians(guardian_id, guardian_name, guardian_email)\n",
    "           VALUES(?,?,?);\n",
    "       '''\n",
    "sql2 = '''\n",
    "       INSERT INTO students(student_id, stu_name, gender, primary_sch, guardian_id)\n",
    "           VALUES(?,?,?,?,?);\n",
    "       '''\n",
    "sql3 = '''\n",
    "       INSERT INTO results(student_id, subject, al)\n",
    "           VALUES(?,?,?);\n",
    "       '''\n",
    "\n",
    "db_conn = db_connect(\"ENROLMENT.db\")\n",
    "import_seq = [[filename1, sql1],[filename2, sql2], [filename3, sql3]]\n",
    "for filename, sql in import_seq:\n",
    "    with open(filename,'r') as csvfile:\n",
    "        csvreader = csv.reader(csvfile)\n",
    "        next(csvreader)\n",
    "        for row in csvreader:\n",
    "            try:\n",
    "                db_conn.execute(sql, row)\n",
    "                db_conn.commit()\n",
    "            except Error as e:\n",
    "                print(e)\n",
    "db_conn.close()"
   ]
  },
  {
   "cell_type": "code",
   "execution_count": 14,
   "metadata": {},
   "outputs": [
    {
     "name": "stdout",
     "output_type": "stream",
     "text": [
      "update completed\n"
     ]
    }
   ],
   "source": [
    "#Task 4.3\n",
    "def update_guardian_email(conn, guardian_id, new_email):\n",
    "    sql = '''\n",
    "          UPDATE guardians\n",
    "              SET guardian_email = ?\n",
    "              WHERE guardian_id = ?\n",
    "          '''\n",
    "    try:\n",
    "        conn.execute(sql, (new_email, guardian_id))\n",
    "        conn.commit()\n",
    "        print(\"update completed\")\n",
    "    except Error as e:\n",
    "        print(e)\n",
    "    \n",
    "db_conn = db_connect(\"ENROLMENT.db\")\n",
    "update_guardian_email(db_conn, 900005, \"see@see.com\")\n",
    "db_conn.close()"
   ]
  },
  {
   "cell_type": "code",
   "execution_count": 15,
   "metadata": {},
   "outputs": [
    {
     "name": "stdout",
     "output_type": "stream",
     "text": [
      "[('Boon Day Park Primary', 4, 9.25), ('Lurang Primary', 4, 10.75), ('Shuqu Primary', 3, 8.33)]\n"
     ]
    }
   ],
   "source": [
    "#Task 4.4 Web app page 1\n",
    "def pri_sch_summary(conn):\n",
    "    sql = '''\n",
    "          SELECT primary_sch, count(*)/4 as 'no of student', round(sum(al)*1.0/count(*)*4,2) as 'mean overall AL' FROM results\n",
    "              JOIN students\n",
    "              ON results.student_id = students.student_id\n",
    "              GROUP by primary_sch\n",
    "              ORDER BY primary_sch;\n",
    "          '''\n",
    "    cur = conn.execute(sql)\n",
    "    rows = cur.fetchall()\n",
    "    return list(rows)\n",
    "db_conn = db_connect(\"ENROLMENT.db\")\n",
    "print(pri_sch_summary(db_conn))\n",
    "db_conn.close()"
   ]
  },
  {
   "cell_type": "code",
   "execution_count": 16,
   "metadata": {},
   "outputs": [
    {
     "name": "stdout",
     "output_type": "stream",
     "text": [
      "[('Python Gopal', 'Boon Day Park Primary', 7, 'Gopal', 'gopal_fam@kmail.com'), ('JinJa Oh', 'Boon Day Park Primary', 8, 'Oh', 'oh_fam@kmail.com'), ('Sequl Lite', 'Lurang Primary', 8, 'Lite', 'lite_fam@kmail.com'), ('Perl Tan', 'Lurang Primary', 9, 'Tan', 'tan_fam@imail.com'), ('See Sharp', 'Shuqu Primary', 7, 'See', 'see@see.com'), ('Flask Chan', 'Shuqu Primary', 9, 'Chan', 'chan_fam@imail.com'), ('Mac Ahmad', 'Shuqu Primary', 9, 'Ahmad', 'ahmad_fam@kmail.com')]\n"
     ]
    }
   ],
   "source": [
    "#Task 4.5 web app page 2\n",
    "def get_students(conn, cutoff):\n",
    "    \n",
    "    sql = '''SELECT stu_name, primary_sch, sum(al) as overall_al, guardian_name, guardian_email FROM results\n",
    "                 LEFT JOIN students\n",
    "                     ON students.student_id = results.student_id\n",
    "                 LEFT JOIN guardians\n",
    "                     ON students.guardian_id = guardians.guardian_id\n",
    "                 GROUP BY results.student_id\n",
    "                 HAVING overall_al < ?\n",
    "                 ORDER BY primary_sch, overall_al\n",
    "          '''\n",
    "    cur = conn.execute(sql,(cutoff,))\n",
    "    rows = cur.fetchall()\n",
    "    return list(rows)\n",
    "db_conn = db_connect(\"ENROLMENT.db\")\n",
    "print(get_students(db_conn, 10))\n",
    "db_conn.close()"
   ]
  },
  {
   "cell_type": "code",
   "execution_count": null,
   "metadata": {},
   "outputs": [],
   "source": []
  }
 ],
 "metadata": {
  "kernelspec": {
   "display_name": "Python 3",
   "language": "python",
   "name": "python3"
  },
  "language_info": {
   "codemirror_mode": {
    "name": "ipython",
    "version": 3
   },
   "file_extension": ".py",
   "mimetype": "text/x-python",
   "name": "python",
   "nbconvert_exporter": "python",
   "pygments_lexer": "ipython3",
   "version": "3.7.2"
  }
 },
 "nbformat": 4,
 "nbformat_minor": 5
}
