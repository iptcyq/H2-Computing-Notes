{
 "cells": [
  {
   "cell_type": "code",
   "execution_count": 4,
   "metadata": {},
   "outputs": [],
   "source": [
    "# Task 2.1\n",
    "class Node:\n",
    "    def __init__(self, data):\n",
    "        self.data = data\n",
    "        self.next_ptr = -1\n",
    "\n",
    "class SortedLinkedList: \n",
    "    def __init__(self): #[3]\n",
    "        # (/1) initialise self.nodes with the correct number of nodes\n",
    "        # (/2) next_ptr of all the node instance in self.nodes correctly initialised\n",
    "        self.start = -1\n",
    "        self.nodes = []\n",
    "        # Next Free slot is at index 1\n",
    "        self.next_free = 0\n",
    "        for i in range(50):\n",
    "            temp = Node(None)\n",
    "            temp.next_ptr = i+1\n",
    "            self.nodes.append(temp)\n",
    "        # Last slot 0 index is a null terminator\n",
    "        self.nodes[-1].next_ptr = -1\n",
    "\n",
    "    def addNode(self, data): #[5]\n",
    "        # (/1) Code to show unable to insert when full\n",
    "        # (/1) Code to show next_free is updated to its second element when the first is used for adding a new node\n",
    "        # (/1) Able to add new data as the head of the linked list when linked list is empty\n",
    "        # (/1) Able to add new data as the head of the linked list when not empty\n",
    "        # (/1) Able to add new data in the middle of the linked list\n",
    "        if self.next_free != -1:\n",
    "            # If link list is not empty and there is empty node available.\n",
    "            new_slot = self.next_free\n",
    "            self.next_free = self.nodes[self.next_free].next_ptr\n",
    "\n",
    "            self.nodes[new_slot].data = data\n",
    "\n",
    "            # To find the position in the linked list to insert teh new node.\n",
    "            cur_index = self.start\n",
    "            prev_index = -1\n",
    "            while cur_index !=-1 and self.nodes[cur_index].data < data:\n",
    "                prev_index = cur_index\n",
    "                cur_index = self.nodes[cur_index].next_ptr\n",
    "\n",
    "            if prev_index == -1:\n",
    "                # to insert new node at the head.\n",
    "                self.start = new_slot    \n",
    "                self.nodes[new_slot].next_ptr = cur_index                      \n",
    "            else:\n",
    "                # to insert new node at the middle or at the tail\n",
    "                self.nodes[prev_index].next_ptr = new_slot\n",
    "                self.nodes[new_slot].next_ptr = cur_index #next item\n",
    "\n",
    "    \n",
    "    def findCommonItems(self, sorted_list): # [5]\n",
    "        # (/3) Algorithm used to identify the common itemsn between self and sorted_linked_list\n",
    "        # (/1) Code reflects understanding of self and sorted_linked_list\n",
    "        # (/1) return a list with all the comomn items\n",
    "        result = []\n",
    "        sl_curr = self.start\n",
    "        s2_curr = sorted_list.start\n",
    "        if sl_curr == -1 or s2_curr == -1:\n",
    "            return []\n",
    "        else:\n",
    "            while sl_curr != -1 and s2_curr != -1:\n",
    "                firstItem1 = self.nodes[sl_curr].data\n",
    "                firstItem2 = sorted_list.nodes[s2_curr].data\n",
    "                \n",
    "                if firstItem1 < firstItem2:\n",
    "                    #print(\"A\", firstItem1, firstItem2)\n",
    "                    sl_curr = self.nodes[sl_curr].next_ptr\n",
    "                elif firstItem1 > firstItem2:\n",
    "                    s2_curr = sorted_list.nodes[s2_curr].next_ptr\n",
    "                    #print(\"B\", firstItem1, firstItem2)\n",
    "                else:\n",
    "                    sl_curr = self.nodes[sl_curr].next_ptr\n",
    "                    s2_curr = sorted_list.nodes[s2_curr].next_ptr\n",
    "                    #print(\"C\", firstItem1, firstItem2)\n",
    "                    result.append(firstItem1)\n",
    "            return result\n",
    "    \n",
    "    def firstItem(self):\n",
    "        if self.size() == 0:\n",
    "            return None\n",
    "        else:\n",
    "            return self.nodes[self.start].data\n",
    "            \n",
    "    def display_content(self): # [2]\n",
    "        # (/1) code to traverse the linkedlist from start to end\n",
    "        # (/1) output in correct format\n",
    "        print(\"The items in the list in alphabetical order: \", end = \"\")\n",
    "        result = \"\"\n",
    "        cur_index = self.start\n",
    "        while cur_index !=-1:\n",
    "            result += self.nodes[cur_index].data + \", \"\n",
    "            cur_index = self.nodes[cur_index].next_ptr\n",
    "        print(result[:-2])\n",
    "        \n",
    "\n",
    "\n"
   ]
  },
  {
   "cell_type": "code",
   "execution_count": 5,
   "metadata": {},
   "outputs": [
    {
     "name": "stdout",
     "output_type": "stream",
     "text": [
      "The items in the list in alphabetical order: Apple, Banana, Eggplant, Grapes, Lemon, Orange\n"
     ]
    }
   ],
   "source": [
    "# Task 2.2\n",
    "def Task_2_2(): # [2]\n",
    "    # (/1) code to add six elements\n",
    "    # (/1) output the content of the linked list\n",
    "    ll = SortedLinkedList()\n",
    "    ll.addNode(\"Orange\")\n",
    "    ll.addNode(\"Banana\")\n",
    "    ll.addNode(\"Grapes\")\n",
    "    ll.addNode(\"Apple\")\n",
    "    ll.addNode(\"Lemon\")\n",
    "    ll.addNode(\"Eggplant\")\n",
    "    \n",
    "    ll.display_content()\n",
    "    \n",
    "Task_2_2()"
   ]
  },
  {
   "cell_type": "code",
   "execution_count": 6,
   "metadata": {},
   "outputs": [
    {
     "name": "stdout",
     "output_type": "stream",
     "text": [
      "['Playhouse', 'Grapes', 'Toolset', 'Dollhouse', 'Honeydew', 'Swing', 'Rubikscube', 'Toybox', 'Sandpit', 'Trampoline', 'Bicycle', 'Pencil', 'Ruler', 'Notebook', 'Boardgame', 'Checkersboard', 'Dollset', 'Eraser', 'Slide', 'Cardgame', 'Jigsawpuzzle', 'Cantaloupe', 'Chessboard', 'Lego', 'Policehat', 'Puzzlebo', 'Scissors', 'Doctorset', 'Scooter', 'Kitchenplayset', 'Trainset', 'Buildingblocks', 'Firefighterhat', 'Teddybea']\n",
      "['Robot', 'Mango', 'Banana', 'Pear', 'Plum', 'Balloon', 'Cherry', 'Blueberry', 'Blackberry', 'Firefighterhat', 'Apple', 'Trainset', 'Watermelo', 'Pineapple', 'Doctorset', 'Lemon', 'Kitchenplayset', 'Marble', 'Grapefruit', 'Puzzle', 'Raspberry', 'Boardgame', 'Checkersboard', 'Orange', 'Strawberry', 'Lime', 'Policehat', 'Lego', 'Chessboard', 'Cardgame', 'Buildingblocks', 'Kite', 'Dollset', 'Carrot', 'Rubikscube', 'Kiwi', 'Toolset', 'Jigsawpuzzle', 'Peac']\n"
     ]
    }
   ],
   "source": [
    "# Task 2.3\n",
    "def Task_2_3(filename): # [2]\n",
    "    # (/1) read the line in the file\n",
    "    # (/1) split the content and return in a list\n",
    "   \n",
    "    f = open(filename, 'r')\n",
    "    line = f.readline()\n",
    "    items = line[:-1].split(',')\n",
    "    f.close()\n",
    "    return items\n",
    "\n",
    "# (/1) output both conent of the file using the following statements\n",
    "itemlst1 = Task_2_3(\"Task2a.txt\")\n",
    "print(itemlst1)\n",
    "\n",
    "itemlst2 = Task_2_3(\"Task2b.txt\")\n",
    "print(itemlst2)"
   ]
  },
  {
   "cell_type": "code",
   "execution_count": 7,
   "metadata": {},
   "outputs": [
    {
     "name": "stdout",
     "output_type": "stream",
     "text": [
      "['Boardgame', 'Buildingblocks', 'Cardgame', 'Checkersboard', 'Chessboard', 'Doctorset', 'Dollset', 'Firefighterhat', 'Jigsawpuzzle', 'Kitchenplayset', 'Lego', 'Policehat', 'Rubikscube', 'Toolset', 'Trainset']\n"
     ]
    }
   ],
   "source": [
    "# Task 2.4\n",
    "def Task_2_4(): # [1]\n",
    "    # (/1) Use the class function findCommon() to output all the common items in the two linked lists\n",
    "    sl1 = SortedLinkedList()\n",
    "    sl2 = SortedLinkedList()\n",
    "\n",
    "    itemlst1 = Task_2_3(\"Task2a.txt\")\n",
    "    for item in itemlst1:\n",
    "        sl1.addNode(item)\n",
    "    #print(sl1.returnAsList())\n",
    "    itemlst2 = Task_2_3(\"Task2b.txt\")\n",
    "    for item in itemlst2:\n",
    "        sl2.addNode(item)\n",
    "    #print(sl2.returnAsList())\n",
    "\n",
    "    print(sl1.findCommonItems(sl2))\n",
    "\n",
    "Task_2_4()"
   ]
  },
  {
   "cell_type": "code",
   "execution_count": 8,
   "metadata": {},
   "outputs": [],
   "source": [
    "#Task 1.1\n",
    "#Your Program Code"
   ]
  },
  {
   "cell_type": "code",
   "execution_count": 9,
   "metadata": {},
   "outputs": [],
   "source": [
    "#Task 2.1\n",
    "#Your Program Code"
   ]
  },
  {
   "cell_type": "code",
   "execution_count": 3,
   "metadata": {},
   "outputs": [],
   "source": [
    "#Task 3.1\n",
    "#Your Program Code"
   ]
  },
  {
   "cell_type": "code",
   "execution_count": null,
   "metadata": {},
   "outputs": [],
   "source": []
  }
 ],
 "metadata": {
  "kernelspec": {
   "display_name": "Python 3",
   "language": "python",
   "name": "python3"
  },
  "language_info": {
   "codemirror_mode": {
    "name": "ipython",
    "version": 3
   },
   "file_extension": ".py",
   "mimetype": "text/x-python",
   "name": "python",
   "nbconvert_exporter": "python",
   "pygments_lexer": "ipython3",
   "version": "3.7.2"
  }
 },
 "nbformat": 4,
 "nbformat_minor": 2
}
