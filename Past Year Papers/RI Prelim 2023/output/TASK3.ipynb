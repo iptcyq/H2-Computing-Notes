{
 "cells": [
  {
   "cell_type": "code",
   "execution_count": 45,
   "metadata": {},
   "outputs": [],
   "source": [
    "# Task 3.1\n",
    "class Node():\n",
    "    def __init__(self, data):\n",
    "        self.Data = data\n",
    "        self.Pointer = None\n",
    "\n",
    "class LinkedList():\n",
    "    def __init__(self):\n",
    "        self.Start = None\n",
    "        \n",
    "    def insert_last(self, data):\n",
    "        newNode = Node(data)\n",
    "        \n",
    "        if self.Start == None:\n",
    "            self.Start = newNode\n",
    "        else:\n",
    "            curr = self.Start\n",
    "            while curr.Pointer != None:\n",
    "                curr = curr.Pointer\n",
    "            curr.Pointer = newNode\n",
    "            \n",
    "    def display(self, n):\n",
    "        curr = self.Start\n",
    "        counter = 1\n",
    "        while curr != None and counter <= n:\n",
    "            print(f\"{counter}: {curr.Data}\")\n",
    "            curr = curr.Pointer\n",
    "            counter += 1"
   ]
  },
  {
   "cell_type": "code",
   "execution_count": 46,
   "metadata": {},
   "outputs": [
    {
     "name": "stdout",
     "output_type": "stream",
     "text": [
      "1: (9, 'Chin Wong', 6502)\n",
      "2: (442, 'Citra Wijaya', 1701)\n",
      "3: (328, 'Yige Ren', 1818)\n",
      "4: (155, 'Xin Wong', 1395)\n",
      "5: (91, 'Jintana Chaiyapoom', 9156)\n",
      "6: (345, 'Nhung Do', 9534)\n",
      "7: (331, 'Wati Santoso', 6472)\n",
      "8: (175, 'Kazuya Kato', 3730)\n"
     ]
    }
   ],
   "source": [
    "f = open(\"GAMERS.txt\")\n",
    "data = f.read().strip().split('\\n')\n",
    "f.close()\n",
    "\n",
    "ll = LinkedList()\n",
    "for gamer in data:\n",
    "    gamerid, name, score = gamer.split(',')\n",
    "    ll.insert_last((int(gamerid), name, int(score)))\n",
    "    \n",
    "ll.display(8)"
   ]
  },
  {
   "cell_type": "code",
   "execution_count": 51,
   "metadata": {},
   "outputs": [
    {
     "name": "stdout",
     "output_type": "stream",
     "text": [
      "14 :\n",
      "1: (14, 'Haruka Tanaka', 6636)\n",
      "2: (415, 'Sun Choi', 8393)\n"
     ]
    }
   ],
   "source": [
    "# Task 3.2\n",
    "class HashTable():\n",
    "    def __init__(self, Size):\n",
    "        self.Size = Size\n",
    "        self.Slots = []\n",
    "        for i in range(Size):\n",
    "            self.Slots.append(None)\n",
    "        # or [None] * size\n",
    "                              \n",
    "    def hash_function(self, gamerid):\n",
    "        remainder = int(gamerid) % self.Size\n",
    "        return remainder          \n",
    "    \n",
    "    def insert_record(self, data): \n",
    "        # data is (gamer id, name, score)\n",
    "        hashkey = self.hash_function(data[0])\n",
    "        if self.Slots[hashkey] == None:\n",
    "            self.Slots[hashkey] = Node(data)\n",
    "        elif type(self.Slots[hashkey]) == Node: \n",
    "            newlist = LinkedList()\n",
    "            newlist.insert_last(self.Slots[hashkey].Data)\n",
    "            newlist.insert_last(data)\n",
    "            self.Slots[hashkey] = newlist\n",
    "        else:\n",
    "            self.Slots[hashkey].insert_last(data)\n",
    "                \n",
    "    def display_records(self, i): # i is slot number\n",
    "        if self.Slots[i] == None:\n",
    "            print(f\"{i}: -\")\n",
    "        elif type(self.Slots[i]) == Node: \n",
    "            print(f\"{i}: {self.Slots[i].Data}\")\n",
    "        else:\n",
    "            print(i,\":\")\n",
    "            self.Slots[i].display(401)\n",
    "                \n",
    "def linked_list_to_hash_table(linkedlist, size):\n",
    "    hashtable = HashTable(size)\n",
    "    \n",
    "    curr = linkedlist.Start\n",
    "    while curr!= None:\n",
    "        data = curr.Data\n",
    "        hashtable.insert_record(data)\n",
    "        curr = curr.Pointer\n",
    "    \n",
    "    return hashtable\n",
    "    \n",
    "ht = linked_list_to_hash_table(ll, 401)\n",
    "ht.display_records(14)"
   ]
  }
 ],
 "metadata": {
  "kernelspec": {
   "display_name": "Python 3",
   "language": "python",
   "name": "python3"
  },
  "language_info": {
   "codemirror_mode": {
    "name": "ipython",
    "version": 3
   },
   "file_extension": ".py",
   "mimetype": "text/x-python",
   "name": "python",
   "nbconvert_exporter": "python",
   "pygments_lexer": "ipython3",
   "version": "3.6.4"
  }
 },
 "nbformat": 4,
 "nbformat_minor": 2
}
