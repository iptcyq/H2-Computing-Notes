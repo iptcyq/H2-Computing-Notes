{
 "cells": [
  {
   "cell_type": "code",
   "execution_count": 32,
   "metadata": {},
   "outputs": [],
   "source": [
    "import random\n",
    "\n",
    "# Task 1.1\n",
    "class IslandClass:\n",
    "    SAND, TREASURE, FOUND, HOLE  = '.', 'T', 'X', 'O'\n",
    "    \n",
    "    def __init__(self):\n",
    "        self.Constructor()\n",
    "        \n",
    "    def Constructor(self):\n",
    "        self.Grid = []\n",
    "        row = [self.SAND] * 30\n",
    "        for i in range(10):\n",
    "            self.Grid.append(row.copy())\n",
    "        \n",
    "    def GetSquare(self, Row, Column):\n",
    "        return self.Grid[Row][Column]\n",
    "    \n",
    "    def DisplayGrid(self):\n",
    "        for row in range(10):\n",
    "            for col in range(30):\n",
    "                print(self.GetSquare(row, col), end=\"\")\n",
    "            print()    \n",
    "    \n",
    "    # Task 1.2\n",
    "    def HideTreasure(self):\n",
    "        hid_treasure =  False\n",
    "        while not hid_treasure:\n",
    "            row, col = random.randint(0,9), random.randint(0,29)\n",
    "            if self.GetSquare(row,col) == self.SAND:\n",
    "                self.Grid[row][col] = self.TREASURE\n",
    "                hid_treasure = True\n",
    "    \n",
    "    # Task 1.4\n",
    "    def DigHole(self, Row, Column):\n",
    "        if self.GetSquare(Row, Column) == self.TREASURE:\n",
    "            self.Grid[Row][Column] = self.FOUND\n",
    "        else:\n",
    "            self.Grid[Row][Column] = self.HOLE"
   ]
  },
  {
   "cell_type": "code",
   "execution_count": 38,
   "metadata": {},
   "outputs": [
    {
     "name": "stdout",
     "output_type": "stream",
     "text": [
      "..............................\n",
      "..............................\n",
      "..............................\n",
      "..............................\n",
      ".....................T...T....\n",
      "..............................\n",
      "....................T.........\n",
      "..............................\n",
      "..............................\n",
      "..............................\n"
     ]
    }
   ],
   "source": [
    "# Task 1.3\n",
    "island = IslandClass()\n",
    "island.HideTreasure()\n",
    "island.HideTreasure()\n",
    "island.HideTreasure()\n",
    "island.DisplayGrid()"
   ]
  },
  {
   "cell_type": "code",
   "execution_count": 40,
   "metadata": {},
   "outputs": [],
   "source": [
    "# Task 1.5\n",
    "def main():\n",
    "    row = -1\n",
    "    col = -1\n",
    "    while (row < 0 or row > 9) or (col < 0 or col > 29):\n",
    "        row = input(\"Enter row index: \")\n",
    "        col = input(\"Enter column index: \")\n",
    "        if row.isdigit():\n",
    "            row = int(row)\n",
    "        else: \n",
    "            row = -1\n",
    "        if col.isdigit():\n",
    "            col = int(col)\n",
    "        else:\n",
    "            col = -1\n",
    "\n",
    "    island.DigHole(row, col)\n",
    "    island.DisplayGrid()"
   ]
  },
  {
   "cell_type": "code",
   "execution_count": 41,
   "metadata": {},
   "outputs": [
    {
     "name": "stdout",
     "output_type": "stream",
     "text": [
      "Enter row index: 3\n",
      "Enter column index: 26\n",
      "..............................\n",
      "..............................\n",
      "..............................\n",
      "..........................O...\n",
      ".....................T...T....\n",
      "..............................\n",
      "....................T....O....\n",
      "..............................\n",
      "..............................\n",
      "..............................\n",
      "Enter row index: 4\n",
      "Enter column index: 25\n",
      "..............................\n",
      "..............................\n",
      "..............................\n",
      "..........................O...\n",
      ".....................T...X....\n",
      "..............................\n",
      "....................T....O....\n",
      "..............................\n",
      "..............................\n",
      "..............................\n"
     ]
    }
   ],
   "source": [
    "main()\n",
    "main()"
   ]
  }
 ],
 "metadata": {
  "kernelspec": {
   "display_name": "Python 3",
   "language": "python",
   "name": "python3"
  },
  "language_info": {
   "codemirror_mode": {
    "name": "ipython",
    "version": 3
   },
   "file_extension": ".py",
   "mimetype": "text/x-python",
   "name": "python",
   "nbconvert_exporter": "python",
   "pygments_lexer": "ipython3",
   "version": "3.6.4"
  }
 },
 "nbformat": 4,
 "nbformat_minor": 2
}
