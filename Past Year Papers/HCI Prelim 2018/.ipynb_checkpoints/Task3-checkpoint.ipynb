{
 "cells": [
  {
   "cell_type": "code",
   "execution_count": null,
   "metadata": {},
   "outputs": [],
   "source": [
    "# Task 3.1\n",
    "class ListNode():\n",
    "    def __init__(self):\n",
    "        self.Name = \"\"\n",
    "        self.Pointer = None\n",
    "    \n",
    "    def SetName(self, Name):\n",
    "        self.Name = Name\n",
    "    def SetPointer(self, Pointer):\n",
    "        self.Pointer = Pointer\n",
    "    def GetName(self):\n",
    "        return self.Name\n",
    "    def GetPointer(self):\n",
    "        return self.Pointer\n",
    "\n",
    "class LinkedList(): # This system sucks i dont get it\n",
    "    def __init__(self):\n",
    "        self.Node = [None] * 10\n",
    "        self.Start = -1\n",
    "        self.NextFree = -1\n",
    "    \n",
    "    def Insert(self, name, position):\n",
    "        pass"
   ]
  }
 ],
 "metadata": {
  "kernelspec": {
   "display_name": "Python 3",
   "language": "python",
   "name": "python3"
  },
  "language_info": {
   "codemirror_mode": {
    "name": "ipython",
    "version": 3
   },
   "file_extension": ".py",
   "mimetype": "text/x-python",
   "name": "python",
   "nbconvert_exporter": "python",
   "pygments_lexer": "ipython3",
   "version": "3.6.4"
  }
 },
 "nbformat": 4,
 "nbformat_minor": 2
}
