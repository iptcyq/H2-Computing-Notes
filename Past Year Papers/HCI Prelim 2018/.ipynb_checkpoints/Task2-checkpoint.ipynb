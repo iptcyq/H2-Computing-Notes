{
 "cells": [
  {
   "cell_type": "code",
   "execution_count": 37,
   "metadata": {},
   "outputs": [
    {
     "name": "stdout",
     "output_type": "stream",
     "text": [
      "GB00WEST12345698765432\n",
      "82\n",
      "GB00NWBK60161331926819\n",
      "29\n",
      "GB00LOYD30952013145983\n",
      "05\n"
     ]
    }
   ],
   "source": [
    "# Task 2.1\n",
    "def CheckDigits(IBAN):\n",
    "    # Initialise check digits and move to the end\n",
    "    IBAN += IBAN[:2] + \"00\"\n",
    "    IBAN = IBAN[4:]\n",
    "    \n",
    "    # Replace each alphabet\n",
    "    new_IBAN = \"\"\n",
    "    for char in IBAN:\n",
    "        if char.isalpha():\n",
    "            new_IBAN += str(ord(char)-55)\n",
    "        else:\n",
    "            new_IBAN += char\n",
    "    \n",
    "    # Convert to integer and calc remainder\n",
    "    remainder = int(new_IBAN)%97\n",
    "    \n",
    "    # Check digit\n",
    "    check_dig = str(98 - remainder)\n",
    "    if len(check_dig) == 1:\n",
    "        check_dig = \"0\" + check_dig\n",
    "    \n",
    "    return check_dig\n",
    "\n",
    "# should paste text but im lazy\n",
    "f = open(\"Materials/IBANS.txt\", \"r\")\n",
    "data = f.read().split(\"\\n\")[:-1]\n",
    "f.close()\n",
    "for iban in data:\n",
    "    print(iban)\n",
    "    print(CheckDigits(iban))"
   ]
  },
  {
   "cell_type": "code",
   "execution_count": 35,
   "metadata": {},
   "outputs": [],
   "source": [
    "# Task 2.2\n",
    "def ValidateIBAN(IBAN):\n",
    "    return CheckDigits(IBAN) == IBAN[2:4]"
   ]
  },
  {
   "cell_type": "code",
   "execution_count": 64,
   "metadata": {},
   "outputs": [
    {
     "name": "stdout",
     "output_type": "stream",
     "text": [
      "GB82WEST12345698765432 OK\n",
      "GB26AIBK23929012345678 OK\n",
      "GB28RBOS22333444455555 OK\n",
      "GB88260005601001611379 OK\n",
      "GB22LOYD30952013145983 Invalid. Expected check digits: 05\n",
      "GB65NWBK60161331926819 Invalid. Expected check digits: 29\n",
      "GB29RBOS60161331926819 Invalid. Expected check digits: 86\n",
      "GB21BARC20570640736805 OK\n",
      "GB28RBOS22333444455555 OK\n",
      "GB26AIBK23929012345678 OK\n"
     ]
    }
   ],
   "source": [
    "# Task 2.3\n",
    "def CheckIBAN():\n",
    "    f = open(\"Materials/TRANSACTIONS_Original.txt\", \"r\")\n",
    "    data = f.read().split(\"\\n\")[:-1]\n",
    "    f.close()\n",
    "    \n",
    "    new_data = \"\"\n",
    "    for row in data:\n",
    "        IBAN = row[:22]\n",
    "        if ValidateIBAN(IBAN):\n",
    "            print(IBAN + \" OK\")\n",
    "            new_data += row + \"\\n\"\n",
    "        else:\n",
    "            check_dig = CheckDigits(IBAN)\n",
    "            print(f\"{IBAN} Invalid. Expected check digits: {check_dig}\")\n",
    "            new_IBAN = IBAN[:2] + check_dig + IBAN[4:]\n",
    "            new_data += new_IBAN + row[22:] + \"\\n\"\n",
    "    \n",
    "    f = open(\"Materials/TRANSACTIONS.txt\", \"w\")\n",
    "    data = f.write(new_data)\n",
    "    f.close()\n",
    "\n",
    "CheckIBAN()"
   ]
  },
  {
   "cell_type": "code",
   "execution_count": null,
   "metadata": {},
   "outputs": [],
   "source": [
    "# Task 2.4 - not done\n",
    "def UpdateBalance():\n",
    "    f = open(\"Materials/TRANSACTIONS.txt\", \"r\")\n",
    "    transactions = f.read().split(\"\\n\")[:-1]\n",
    "    f.close()\n",
    "    f = open(\"Materials/ACCOUNTS_Original.txt\", \"r\")\n",
    "    accounts = f.read().split(\"\\n\")[:-1]\n",
    "    f.close()\n",
    "    \n",
    "    for account in transactions:\n",
    "        IBAN = account[:22]\n",
    "        for i in range(len(accounts)):\n",
    "            if IBAN in accounts[i]:\n",
    "                IBAN_row = i\n",
    "        \n",
    "        amount = float(account[-7:].strip())\n",
    "        # withdraw or deposit\n",
    "        if transactions[22] == \"W\":\n",
    "            accounts[IBAN_row] = accounts[] + str(amount - float(transactions[-4:]))"
   ]
  }
 ],
 "metadata": {
  "kernelspec": {
   "display_name": "Python 3",
   "language": "python",
   "name": "python3"
  },
  "language_info": {
   "codemirror_mode": {
    "name": "ipython",
    "version": 3
   },
   "file_extension": ".py",
   "mimetype": "text/x-python",
   "name": "python",
   "nbconvert_exporter": "python",
   "pygments_lexer": "ipython3",
   "version": "3.6.4"
  }
 },
 "nbformat": 4,
 "nbformat_minor": 2
}
