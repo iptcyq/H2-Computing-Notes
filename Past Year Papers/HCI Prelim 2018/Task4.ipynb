{
 "cells": [
  {
   "cell_type": "code",
   "execution_count": 16,
   "metadata": {},
   "outputs": [
    {
     "name": "stdout",
     "output_type": "stream",
     "text": [
      "Input an integer (1-20): 19\n",
      "XIX\n"
     ]
    }
   ],
   "source": [
    "# Task 4.1\n",
    "denary = input(\"Input an integer (1-20): \")\n",
    "while not denary.isnumeric() or not (int(denary)<21 and 0<int(denary)):\n",
    "    denary = input(\"Input an *integer (1-20)*: \")\n",
    "denary = int(denary)\n",
    "\n",
    "roman = \"\"\n",
    "while denary > 0:\n",
    "    if denary >= 10:\n",
    "        roman += 'X' \n",
    "        denary -= 10\n",
    "    elif denary >= 9:\n",
    "        roman += 'IX'\n",
    "        denary -= 9\n",
    "    elif denary >= 5:\n",
    "        roman += 'V'\n",
    "        denary -= 5\n",
    "    elif denary >= 4:\n",
    "        roman += 'IV'\n",
    "        denary -= 4\n",
    "    else:\n",
    "        roman += 'I' \n",
    "        denary -= 1\n",
    "\n",
    "print(roman)"
   ]
  },
  {
   "cell_type": "code",
   "execution_count": 29,
   "metadata": {},
   "outputs": [
    {
     "name": "stdout",
     "output_type": "stream",
     "text": [
      "Input a roman numeral (1-20): XIX\n",
      "Input another roman numeral (1-20): OSK\n"
     ]
    },
    {
     "ename": "ValueError",
     "evalue": "'O' is not in list",
     "output_type": "error",
     "traceback": [
      "\u001b[1;31m---------------------------------------------------------------------------\u001b[0m",
      "\u001b[1;31mValueError\u001b[0m                                Traceback (most recent call last)",
      "\u001b[1;32m<ipython-input-29-096f1fc59d3e>\u001b[0m in \u001b[0;36m<module>\u001b[1;34m()\u001b[0m\n\u001b[0;32m     15\u001b[0m \u001b[0msum\u001b[0m\u001b[1;33m,\u001b[0m \u001b[0midx\u001b[0m \u001b[1;33m=\u001b[0m \u001b[1;36m0\u001b[0m\u001b[1;33m,\u001b[0m \u001b[1;36m0\u001b[0m\u001b[1;33m\u001b[0m\u001b[0m\n\u001b[0;32m     16\u001b[0m \u001b[1;32mwhile\u001b[0m \u001b[0mlen\u001b[0m\u001b[1;33m(\u001b[0m\u001b[0mroman1\u001b[0m\u001b[1;33m)\u001b[0m \u001b[1;33m>\u001b[0m \u001b[1;36m0\u001b[0m \u001b[1;32mor\u001b[0m \u001b[0mlen\u001b[0m\u001b[1;33m(\u001b[0m\u001b[0mroman2\u001b[0m\u001b[1;33m)\u001b[0m\u001b[1;33m>\u001b[0m\u001b[1;36m0\u001b[0m\u001b[1;33m:\u001b[0m\u001b[1;33m\u001b[0m\u001b[0m\n\u001b[1;32m---> 17\u001b[1;33m     \u001b[1;32mif\u001b[0m \u001b[0mlen\u001b[0m\u001b[1;33m(\u001b[0m\u001b[0mroman1\u001b[0m\u001b[1;33m)\u001b[0m\u001b[1;33m>\u001b[0m\u001b[1;36m1\u001b[0m \u001b[1;32mand\u001b[0m \u001b[0mref\u001b[0m\u001b[1;33m.\u001b[0m\u001b[0mindex\u001b[0m\u001b[1;33m(\u001b[0m\u001b[0mroman1\u001b[0m\u001b[1;33m[\u001b[0m\u001b[0midx\u001b[0m\u001b[1;33m]\u001b[0m\u001b[1;33m)\u001b[0m \u001b[1;33m<\u001b[0m \u001b[0mref\u001b[0m\u001b[1;33m.\u001b[0m\u001b[0mindex\u001b[0m\u001b[1;33m(\u001b[0m\u001b[0mroman1\u001b[0m\u001b[1;33m[\u001b[0m\u001b[0midx\u001b[0m \u001b[1;33m+\u001b[0m \u001b[1;36m1\u001b[0m\u001b[1;33m]\u001b[0m\u001b[1;33m)\u001b[0m\u001b[1;33m:\u001b[0m\u001b[1;33m\u001b[0m\u001b[0m\n\u001b[0m\u001b[0;32m     18\u001b[0m         \u001b[0msum\u001b[0m \u001b[1;33m+=\u001b[0m \u001b[0mref\u001b[0m\u001b[1;33m.\u001b[0m\u001b[0mindex\u001b[0m\u001b[1;33m(\u001b[0m\u001b[0mroman1\u001b[0m\u001b[1;33m[\u001b[0m\u001b[0midx\u001b[0m\u001b[1;33m:\u001b[0m\u001b[0midx\u001b[0m\u001b[1;33m+\u001b[0m\u001b[1;36m2\u001b[0m\u001b[1;33m]\u001b[0m\u001b[1;33m)\u001b[0m\u001b[1;33m\u001b[0m\u001b[0m\n\u001b[0;32m     19\u001b[0m         \u001b[0mroman1\u001b[0m \u001b[1;33m=\u001b[0m \u001b[0mroman1\u001b[0m\u001b[1;33m[\u001b[0m\u001b[1;36m2\u001b[0m\u001b[1;33m:\u001b[0m\u001b[1;33m]\u001b[0m\u001b[1;33m\u001b[0m\u001b[0m\n",
      "\u001b[1;31mValueError\u001b[0m: 'O' is not in list"
     ]
    }
   ],
   "source": [
    "# Task 4.3\n",
    "roman1 = input(\"Input a roman numeral (1-20): \")\n",
    "for char in roman1:\n",
    "    if char in [\"X\",\"V\",\"I\"] and len(roman1)<5:\n",
    "        break\n",
    "roman2 = input(\"Input another roman numeral (1-20): \")\n",
    "for char in roman2:\n",
    "    if char in [\"X\",\"V\",\"I\"] and len(roman2)<5:\n",
    "        break\n",
    "\n",
    "# roman1 = \"XIX\" # 19\n",
    "# roman2 = \"VII\" # 7\n",
    "\n",
    "ref = [\"\",\"I\",\"\",\"\",\"IV\",\"V\",\"\",\"\",\"\",\"IX\",\"X\"]\n",
    "sum, idx = 0, 0\n",
    "while len(roman1) > 0 or len(roman2)>0:\n",
    "    if len(roman1)>1 and ref.index(roman1[idx]) < ref.index(roman1[idx + 1]):\n",
    "        sum += ref.index(roman1[idx:idx+2])\n",
    "        roman1 = roman1[2:]\n",
    "    else:\n",
    "        sum += ref.index(roman1[idx])\n",
    "        roman1 = roman1[1:]\n",
    "    if len(roman1) <= 0:\n",
    "        roman1 = roman2\n",
    "        roman2 = \"\"\n",
    "    \n",
    "print(sum)"
   ]
  }
 ],
 "metadata": {
  "kernelspec": {
   "display_name": "Python 3",
   "language": "python",
   "name": "python3"
  }
 },
 "nbformat": 4,
 "nbformat_minor": 2
}
