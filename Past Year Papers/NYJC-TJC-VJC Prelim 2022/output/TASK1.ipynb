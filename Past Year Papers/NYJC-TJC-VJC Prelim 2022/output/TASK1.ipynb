{
 "cells": [
  {
   "cell_type": "code",
   "execution_count": 2,
   "metadata": {},
   "outputs": [
    {
     "name": "stdout",
     "output_type": "stream",
     "text": [
      "['1', '10', '11', '100', '101', '111', '1100']\n"
     ]
    }
   ],
   "source": [
    "# Task 1.1\n",
    "def task1_1(list_of_strings):\n",
    "    if len(list_of_strings) <= 1:\n",
    "        return list_of_strings\n",
    "    \n",
    "    mid = len(list_of_strings)//2\n",
    "    left = task1_1(list_of_strings[:mid])\n",
    "    right = task1_1(list_of_strings[mid:])\n",
    "    \n",
    "    ret = []\n",
    "    while len(left)>0 and len(right)>0:\n",
    "        if int(left[0]) < int(right[0]):\n",
    "            ret.append(left.pop(0))\n",
    "        else:\n",
    "            ret.append(right.pop(0))\n",
    "    ret = ret + left + right\n",
    "    \n",
    "    return ret\n",
    "\n",
    "l = ['11', '101', '10', '1', '111', '1100', '100']\n",
    "print(task1_1(l))"
   ]
  },
  {
   "cell_type": "code",
   "execution_count": 5,
   "metadata": {},
   "outputs": [
    {
     "name": "stdout",
     "output_type": "stream",
     "text": [
      "['1', '8', '31', '66', '79', '88', '110', '149', '157', '228', '255', '273', '310', '404', '443', '452', '667', '1100']\n"
     ]
    }
   ],
   "source": [
    "# Task 1.2\n",
    "def task1_2(filename):\n",
    "    f = open(filename)\n",
    "    data = f.read().strip().split()\n",
    "    f.close()\n",
    "    \n",
    "    sortd = task1_1(data)\n",
    "    return sortd\n",
    "\n",
    "print(task1_2(\"../Resource/NUMBERS.txt\"))"
   ]
  },
  {
   "cell_type": "code",
   "execution_count": 15,
   "metadata": {},
   "outputs": [
    {
     "name": "stdout",
     "output_type": "stream",
     "text": [
      "16\n",
      "-1\n"
     ]
    }
   ],
   "source": [
    "# task 1.3\n",
    "def task1_3(list_of_sorted_strings, num):\n",
    "    low, high = 0, len(list_of_sorted_strings)\n",
    "    \n",
    "    while low < high:\n",
    "        mid = (high+low)//2\n",
    "        if int(list_of_sorted_strings[mid]) > int(num):\n",
    "            high = mid\n",
    "        elif int(list_of_sorted_strings[mid]) < int(num):\n",
    "            low = mid + 1\n",
    "        else:\n",
    "            return mid\n",
    "    return -1\n",
    "\n",
    "print(task1_3(task1_2('../Resource/NUMBERS.txt'), '667'))\n",
    "print(task1_3(task1_2('../Resource/NUMBERS.txt'), '130'))"
   ]
  }
 ],
 "metadata": {
  "kernelspec": {
   "display_name": "Python 3",
   "language": "python",
   "name": "python3"
  },
  "language_info": {
   "codemirror_mode": {
    "name": "ipython",
    "version": 3
   },
   "file_extension": ".py",
   "mimetype": "text/x-python",
   "name": "python",
   "nbconvert_exporter": "python",
   "pygments_lexer": "ipython3",
   "version": "3.6.4"
  }
 },
 "nbformat": 4,
 "nbformat_minor": 2
}
