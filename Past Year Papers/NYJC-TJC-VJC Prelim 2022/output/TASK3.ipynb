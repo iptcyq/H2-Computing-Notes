{
 "cells": [
  {
   "cell_type": "code",
   "execution_count": 4,
   "metadata": {},
   "outputs": [
    {
     "name": "stdout",
     "output_type": "stream",
     "text": [
      "Error: Address occupied\n",
      ", , , , , , , , , , , , , John, , Junior, , , , Jerry, James, , , , , , , , , , \n"
     ]
    }
   ],
   "source": [
    "# Task 3.1\n",
    "def hash_algo(k):\n",
    "    address = k%31\n",
    "    return address\n",
    "\n",
    "def add(hashtable, number, name):\n",
    "    key = hash_algo(number)\n",
    "    if hashtable[key] != '': # occupied\n",
    "        print(\"Error: Address occupied\")\n",
    "    else:\n",
    "        hashtable[key] = name\n",
    "    \n",
    "def display(hashtable):\n",
    "    print(', '.join(hashtable))\n",
    "    \n",
    "hashtable = ['']*31\n",
    "\n",
    "f = open(\"../resource/IDS.txt\")\n",
    "data = f.read().strip().split('\\n')\n",
    "f.close()\n",
    "\n",
    "for d in data:\n",
    "    number, name = d.split(',')\n",
    "    add(hashtable, int(number), name)\n",
    "    \n",
    "display(hashtable)"
   ]
  },
  {
   "cell_type": "code",
   "execution_count": 5,
   "metadata": {},
   "outputs": [],
   "source": [
    "# Task 3.2\n",
    "def search(hashtable, membershipNo):\n",
    "    key = hash_algo(membershipNo)\n",
    "    if hashtable[key] == '': # occupied\n",
    "        print(\"Error: No member found\")\n",
    "    else:\n",
    "        return hashtable[key]"
   ]
  },
  {
   "cell_type": "code",
   "execution_count": 6,
   "metadata": {},
   "outputs": [
    {
     "name": "stdout",
     "output_type": "stream",
     "text": [
      "Jack, , , , , , , , , , , , , John, , Junior, , , , Jerry, James, , , , , , , , , , \n"
     ]
    }
   ],
   "source": [
    "# Task 3.3\n",
    "import math\n",
    "def second_hash_algo(k):\n",
    "    address = (2**k) & 31\n",
    "    return address\n",
    "\n",
    "def add(hashtable, number, name):\n",
    "    key = hash_algo(number)\n",
    "    if hashtable[key] == '': \n",
    "        hashtable[key] = name\n",
    "    else:\n",
    "        key = second_hash_algo(number)\n",
    "        if hashtable[key] == '':\n",
    "            hashtable[key] = name\n",
    "        else:\n",
    "            print(\"Error: Address occupied\")\n",
    "    \n",
    "hashtable = ['']*31\n",
    "\n",
    "f = open(\"../resource/IDS.txt\")\n",
    "data = f.read().strip().split('\\n')\n",
    "f.close()\n",
    "\n",
    "for d in data:\n",
    "    number, name = d.split(',')\n",
    "    add(hashtable, int(number), name)\n",
    "    \n",
    "display(hashtable)"
   ]
  }
 ],
 "metadata": {
  "kernelspec": {
   "display_name": "Python 3",
   "language": "python",
   "name": "python3"
  },
  "language_info": {
   "codemirror_mode": {
    "name": "ipython",
    "version": 3
   },
   "file_extension": ".py",
   "mimetype": "text/x-python",
   "name": "python",
   "nbconvert_exporter": "python",
   "pygments_lexer": "ipython3",
   "version": "3.6.4"
  }
 },
 "nbformat": 4,
 "nbformat_minor": 2
}
