{
 "cells": [
  {
   "cell_type": "code",
   "execution_count": 4,
   "metadata": {},
   "outputs": [],
   "source": [
    "# task 2.1\n",
    "class Item():\n",
    "    def Constructor(self):\n",
    "        self.CatalogueNumber = -1\n",
    "        self.Brand = \"\"\n",
    "        self.Style = \"\"\n",
    "        self.Colour = \"\"\n",
    "        self.Rental = 0\n",
    "        \n",
    "    def getCatalogueNumber(self):\n",
    "        return self.CatalogueNumber\n",
    "    def setCatalogueNumber(self, catnum):\n",
    "        self.CatalogueNumber = int(catnum)\n",
    "    def getBrand(self):\n",
    "        return self.Brand\n",
    "    def setBrand(self, brand):\n",
    "        self.Brand = str(brand)\n",
    "    def getStyle(self):\n",
    "        return self.Style\n",
    "    def setStyle(self, style):\n",
    "        self.Style = str(style)\n",
    "    def getColour(self):\n",
    "        return self.Colour\n",
    "    def setColour(self, colour):\n",
    "        self.Colour = str(colour)\n",
    "    def getRental(self):\n",
    "        return self.Rental\n",
    "    def setRental(self, rental):\n",
    "        self.Rental = int(rental)\n",
    "        \n",
    "class Apparel(Item):\n",
    "    def Constructor(self):\n",
    "        super().__init__()\n",
    "        self.Size = 0\n",
    "        self.Fabrication = \"\"\n",
    "        \n",
    "    def getSize(self):\n",
    "        return self.Size\n",
    "    def setSize(self, size):\n",
    "        self.Size = int(size)\n",
    "    def getFabrication(self):\n",
    "        return self.Fabrication\n",
    "    def setFabrication(self, fabric):\n",
    "        self.Fabrication = fabric\n",
    "        \n",
    "class Bag(Item):\n",
    "    def Constructor(self):\n",
    "        self.Length = 0\n",
    "        self.Breadth = 0\n",
    "        self.Leather = False\n",
    "        \n",
    "    def getLength(self):\n",
    "        return self.Length\n",
    "    def setLength(self, length):\n",
    "        self.Length = int(length)\n",
    "    def getBreadth(self):\n",
    "        return self.Breadth\n",
    "    def setBreadth(self, breadth):\n",
    "        self.Breadth = breadth\n",
    "    def getLeather(self):\n",
    "        return self.Leather\n",
    "    def setLeather(self, leather):\n",
    "        self.Leather = leather"
   ]
  },
  {
   "cell_type": "code",
   "execution_count": 19,
   "metadata": {},
   "outputs": [],
   "source": [
    "# task 2.1\n",
    "hashtable = [None]*100\n",
    "\n",
    "import csv\n",
    "f = open(\"resource/RECORDS.csv\")\n",
    "data = list(csv.reader(f, delimiter=','))\n",
    "f.close()\n",
    "\n",
    "for item in data[1:]:\n",
    "    if item[1] == \"Apparel\":\n",
    "        i = Apparel()\n",
    "    elif item[1] == \"Bag\":\n",
    "        i = Bag()\n",
    "    \n",
    "    i.setCatalogueNumber(int(item[0]))\n",
    "    i.setBrand(item[2])\n",
    "    i.setStyle(item[3])\n",
    "    i.setColour(item[4])\n",
    "    i.setRental(int(item[5]))\n",
    "    \n",
    "    if item[1] == \"Apparel\":\n",
    "        i.setSize(int(item[6]))\n",
    "        i.setFabrication(item[7])\n",
    "    elif item[1] == \"Bag\":\n",
    "        i.setLength(int(item[8]))\n",
    "        i.setBreadth(int(item[9]))\n",
    "        i.setLeather(bool(item[10]))\n",
    "    \n",
    "    hashkey = int(item[0]) % 100\n",
    "    currkey = hashkey\n",
    "    if hashtable[hashkey] != None:\n",
    "        # linear probe\n",
    "        currkey = (currkey+1)%100\n",
    "        while currkey != hashkey and hashtable[currkey] != None:\n",
    "            currkey = (currkey+1)%100\n",
    "        if currkey == hashkey:\n",
    "            print(\"Error full table\")\n",
    "        else:\n",
    "            hashkey = currkey\n",
    "    hashtable[hashkey] = (i, item[-1])"
   ]
  },
  {
   "cell_type": "code",
   "execution_count": 22,
   "metadata": {},
   "outputs": [
    {
     "name": "stdout",
     "output_type": "stream",
     "text": [
      "0\t1000\twendy@hotmail.com\n",
      "1\t1001\tpraveen@gmail.com\n",
      "2\t1100\tjoycelee@singnet.com\n",
      "3\t1200\tmark123@gmail.com\n",
      "4\t1004\tshawn@gmail.com\n",
      "5\t1103\tawanghazzy@hotmail.com\n",
      "6\t1399\tmagicalcode@singnet.com\n",
      "7\tNone\n",
      "8\tNone\n",
      "9\tNone\n"
     ]
    }
   ],
   "source": [
    "# task 2.3\n",
    "for i in range(10):\n",
    "    # index\n",
    "    print(i, end=\"\\t\")\n",
    "    if hashtable[i] != None:\n",
    "        # catalogue\n",
    "        print(hashtable[i][0].getCatalogueNumber(), end=\"\\t\")\n",
    "        # customer email\n",
    "        print(hashtable[i][1])\n",
    "    else:\n",
    "        print(\"None\")\n",
    "    "
   ]
  },
  {
   "cell_type": "code",
   "execution_count": 30,
   "metadata": {},
   "outputs": [],
   "source": [
    "# task 2.4\n",
    "def HashTableSearch(hashtable, CatalogueNumber):\n",
    "    hashkey = CatalogueNumber%100\n",
    "    currkey = hashkey\n",
    "    if hashtable[hashkey] != None:\n",
    "        if hashtable[currkey][0].getCatalogueNumber() == CatalogueNumber:\n",
    "            return hashtable[currkey][1]\n",
    "        currkey = (currkey+1)%100\n",
    "        while currkey != hashkey and hashtable[currkey] != None:\n",
    "            if hashtable[currkey][0].getCatalogueNumber() == CatalogueNumber:\n",
    "                return hashtable[currkey][1]\n",
    "            currkey = (currkey+1)%100\n",
    "    return \"Not Found\""
   ]
  },
  {
   "cell_type": "code",
   "execution_count": 31,
   "metadata": {},
   "outputs": [
    {
     "name": "stdout",
     "output_type": "stream",
     "text": [
      "magicalcode@singnet.com\n",
      "Not Found\n"
     ]
    }
   ],
   "source": [
    "print(HashTableSearch(hashtable,1399))\n",
    "print(HashTableSearch(hashtable,1220))"
   ]
  }
 ],
 "metadata": {
  "kernelspec": {
   "display_name": "Python 3",
   "language": "python",
   "name": "python3"
  },
  "language_info": {
   "codemirror_mode": {
    "name": "ipython",
    "version": 3
   },
   "file_extension": ".py",
   "mimetype": "text/x-python",
   "name": "python",
   "nbconvert_exporter": "python",
   "pygments_lexer": "ipython3",
   "version": "3.6.4"
  }
 },
 "nbformat": 4,
 "nbformat_minor": 2
}
