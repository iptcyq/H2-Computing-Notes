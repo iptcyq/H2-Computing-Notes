{
 "cells": [
  {
   "cell_type": "code",
   "execution_count": null,
   "metadata": {},
   "outputs": [],
   "source": [
    "#Task 1.1\n",
    "\n",
    "def JumpSearch(arr, x, m):\n",
    "    #initialise index [1]\n",
    "    index = 0\n",
    "    \n",
    "    while index < len(arr) and arr[index] < x: #jump [3]      \n",
    "        index += m\n",
    "    \n",
    "    for i in range(index-4,index): #linear search [3]\n",
    "        if arr[i] == x: #found\n",
    "            return i\n",
    "    \n",
    "    return -1 #not found [1]\n",
    "\n",
    "#Main Program\n",
    "arr = [ 0, 1, 2, 3, 5, 8, 13, 21, 34, 55, 89, 144, 233, 377, 610, 999 ]\n",
    "\n",
    "print(JumpSearch(arr, 55, 4)) #[1]\n",
    "print(JumpSearch(arr, 1000, 4)) #[1]         \n",
    "        \n",
    "        "
   ]
  },
  {
   "cell_type": "code",
   "execution_count": null,
   "metadata": {},
   "outputs": [],
   "source": [
    "#Task 1.2\n",
    "\n",
    "def JumpSearchRecursive(arr, x, m, currentLastIndex): #[1]\n",
    "    if currentLastIndex < len(arr) and arr[currentLastIndex] < x: #jump [3]\n",
    "        return JumpSearchRecursive(arr, x, m, currentLastIndex+m)\n",
    "    else:\n",
    "        for i in range(currentLastIndex-4,currentLastIndex): #linear search\n",
    "            if arr[i] == x: #found\n",
    "                return i\n",
    "    return -1 #not found [1]\n",
    "\n",
    "#Main Program\n",
    "arr = [ 0, 1, 2, 3, 5, 8, 13, 21, 34, 55, 89, 144, 233, 377, 610, 999 ]\n",
    "\n",
    "print(JumpSearchRecursive(arr, 55, 4, 0)) #[1] \n",
    "print(JumpSearchRecursive(arr, 1000, 4, 0))    "
   ]
  },
  {
   "cell_type": "code",
   "execution_count": 1,
   "metadata": {},
   "outputs": [],
   "source": [
    "#Task 2.1\n",
    "class Item:\n",
    "    def __init__(self):\n",
    "        self.__CatalogueNumber = 0\n",
    "        self.__Brand = \"\"\n",
    "        self.__Style = \"\"\n",
    "        self.Colour = \"\"\n",
    "        self.__Rental = 0\n",
    "        \n",
    "    def getCatalogueNumber(self):\n",
    "        return self.__CatalogueNumber\n",
    "    \n",
    "    def setCatalogueNumber(self, cat):\n",
    "        self.__CatalogueNumber = cat\n",
    "        \n",
    "    def getBrand(self):\n",
    "        return self.__Brand\n",
    "    \n",
    "    def setBrand(self, brand):\n",
    "        self.__Brand = brand\n",
    "        \n",
    "    def getStyle(self):\n",
    "        return self.__Style\n",
    "    \n",
    "    def setStyle(self, style):\n",
    "        self.__Style = style\n",
    "        \n",
    "    def getColour(self):\n",
    "        return self.__Colour\n",
    "    \n",
    "    def setColour(self, colour):\n",
    "        self.__Colour = colour\n",
    "        \n",
    "    def getRental(self):\n",
    "        return self.__Rental\n",
    "    \n",
    "    def setRental(self, rental):\n",
    "        self.__Rental = rental\n",
    "        \n",
    "class Apparel(Item):\n",
    "    def __init__(self):\n",
    "        super().__init__()\n",
    "        self.__Size = 0\n",
    "        self.__Fabrication = \"\"\n",
    "    \n",
    "    def getSize(self):\n",
    "        return self.__Size\n",
    "    \n",
    "    def setSize(self, size):\n",
    "        self.__Size = size\n",
    "        \n",
    "    def getFabrication(self):\n",
    "        return self.__Fabrication\n",
    "    \n",
    "    def setFabrication(self, fabrication):\n",
    "        self.__Fabrication = fabrication    \n",
    "        \n",
    "class Bag(Item):\n",
    "    def __init__(self):\n",
    "        super().__init__()\n",
    "        self.__Length = 0\n",
    "        self.__Breadth = 0\n",
    "        self.__Leather = False\n",
    "    \n",
    "    def getLength(self):\n",
    "        return self.__Length\n",
    "    \n",
    "    def setLength(self, length):\n",
    "        self.__Length = length\n",
    "     \n",
    "    def getBreadth(self):\n",
    "        return self.__Breadth\n",
    "    \n",
    "    def setBreadth(self, breadth):\n",
    "        self.__Breadth = breadth\n",
    "        \n",
    "    def getLeather(self):\n",
    "        return self.__Leather\n",
    "    \n",
    "    def setLeather(self, leather):\n",
    "        self.__Leather = leather"
   ]
  },
  {
   "cell_type": "code",
   "execution_count": 2,
   "metadata": {},
   "outputs": [
    {
     "data": {
      "text/plain": [
       "<function TextIOWrapper.close()>"
      ]
     },
     "execution_count": 2,
     "metadata": {},
     "output_type": "execute_result"
    }
   ],
   "source": [
    "#Task 2.2\n",
    "\n",
    "hashtable = [(Item(), \"\") for i in range(100)] #first element in tuple is either Apparel or Bag object\n",
    "\n",
    "file = open(\"RECORDS.csv\",'r')\n",
    "\n",
    "header = file.readline()\n",
    "\n",
    "for line in file:\n",
    "    line = line.strip()\n",
    "    CatalogueNumber,Type,Brand,Style,Colour,Rental,Size,Fabrication,Length,Breadth,Leather,Email = line.split(',')\n",
    "    \n",
    "    if Type == \"Bag\":\n",
    "        bag = Bag()\n",
    "        bag.setCatalogueNumber(int(CatalogueNumber))\n",
    "        bag.setBrand(Brand)\n",
    "        bag.setStyle(Style)\n",
    "        bag.setColour(Colour)\n",
    "        bag.setRental(int(Rental))\n",
    "        bag.setLength(int(Length))\n",
    "        bag.setBreadth(int(Breadth))\n",
    "        bag.setLeather(Leather)\n",
    "        \n",
    "        tup = (bag, Email)\n",
    "    else:\n",
    "        apparel = Apparel()\n",
    "        apparel.setCatalogueNumber(int(CatalogueNumber))\n",
    "        apparel.setBrand(Brand)\n",
    "        apparel.setStyle(Style)\n",
    "        apparel.setColour(Colour)\n",
    "        apparel.setRental(int(Rental))\n",
    "        apparel.setSize(int(Size))\n",
    "        apparel.setFabrication(Fabrication)\n",
    "        \n",
    "        tup = (apparel, Email)\n",
    "        \n",
    "    index = int(CatalogueNumber) % 100\n",
    "    \n",
    "    while hashtable[index][0].getRental() != 0:\n",
    "        index = (index + 1) % 100\n",
    "        \n",
    "    hashtable[index] = tup       \n",
    "    \n",
    "file.close"
   ]
  },
  {
   "cell_type": "code",
   "execution_count": 3,
   "metadata": {},
   "outputs": [
    {
     "name": "stdout",
     "output_type": "stream",
     "text": [
      "0    1000                wendy@hotmail.com\n",
      "1    1001                praveen@gmail.com\n",
      "2    1100                joycelee@singnet.com\n",
      "3    1200                mark123@gmail.com\n",
      "4    1004                shawn@gmail.com\n",
      "5    1103                awanghazzy@hotmail.com\n",
      "6    1399                magicalcode@singnet.com\n",
      "7    0                   \n",
      "8    0                   \n",
      "9    0                   \n"
     ]
    }
   ],
   "source": [
    "#Task 2.3\n",
    "\n",
    "for index in range(10):\n",
    "    print(str(index).ljust(5) + str(hashtable[index][0].getCatalogueNumber()).ljust(20) + hashtable[index][1])\n"
   ]
  },
  {
   "cell_type": "code",
   "execution_count": 6,
   "metadata": {},
   "outputs": [],
   "source": [
    "#Task 2.4\n",
    "\n",
    "def HashTableSearch(hashtable, CatalogueNumber):\n",
    "    index = int(CatalogueNumber) % 100\n",
    "    \n",
    "    while True:\n",
    "        if hashtable[index][0].getCatalogueNumber() == CatalogueNumber:\n",
    "            return hashtable[index][1]\n",
    "        \n",
    "        if hashtable[index][0].getRental() == 0:\n",
    "            return \"Not Found\"\n",
    "        \n",
    "        index = (index + 1) % 100\n",
    "        "
   ]
  },
  {
   "cell_type": "code",
   "execution_count": 8,
   "metadata": {},
   "outputs": [
    {
     "name": "stdout",
     "output_type": "stream",
     "text": [
      "magicalcode@singnet.com\n",
      "Not Found\n"
     ]
    }
   ],
   "source": [
    "#Task 2.5\n",
    "\n",
    "print(HashTableSearch(hashtable, 1399))\n",
    "print(HashTableSearch(hashtable, 1220))"
   ]
  },
  {
   "cell_type": "code",
   "execution_count": null,
   "metadata": {},
   "outputs": [],
   "source": [
    "from datetime import date\n",
    "f_date = date(2014, 7, 2)\n",
    "l_date = date(2014, 7, 11)\n",
    "delta = l_date - f_date\n",
    "print(delta.days)"
   ]
  }
 ],
 "metadata": {
  "kernelspec": {
   "display_name": "Python 3",
   "language": "python",
   "name": "python3"
  },
  "language_info": {
   "codemirror_mode": {
    "name": "ipython",
    "version": 3
   },
   "file_extension": ".py",
   "mimetype": "text/x-python",
   "name": "python",
   "nbconvert_exporter": "python",
   "pygments_lexer": "ipython3",
   "version": "3.6.4"
  }
 },
 "nbformat": 4,
 "nbformat_minor": 2
}
