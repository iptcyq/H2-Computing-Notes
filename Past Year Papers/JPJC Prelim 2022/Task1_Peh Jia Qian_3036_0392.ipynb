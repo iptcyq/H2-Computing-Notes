{
 "cells": [
  {
   "cell_type": "code",
   "execution_count": 4,
   "metadata": {},
   "outputs": [
    {
     "name": "stdout",
     "output_type": "stream",
     "text": [
      "9\n",
      "-1\n"
     ]
    }
   ],
   "source": [
    "# task 1.1\n",
    "def JumpSearch(arr, x, m):\n",
    "    idx = 0\n",
    "    while idx < len(arr) and arr[idx] < x:\n",
    "        idx += m\n",
    "    if idx < len(arr):\n",
    "        idx -= m\n",
    "        for i in range(idx, idx+m):\n",
    "            if arr[i] ==  x:\n",
    "                return i\n",
    "    return -1\n",
    "\n",
    "a = [0, 1, 2, 3, 5, 8, 13, 21, 34, 55, 89, 144, 233, 377, 610, 999] \n",
    "print(JumpSearch(a, 55, 4))\n",
    "\n",
    "a = [0, 1, 2, 3, 5, 8, 13, 21, 34, 55, 89, 144, 233, 377, 610, 999]\n",
    "print(JumpSearch(a, 1000,4))"
   ]
  },
  {
   "cell_type": "code",
   "execution_count": 10,
   "metadata": {},
   "outputs": [
    {
     "name": "stdout",
     "output_type": "stream",
     "text": [
      "9\n",
      "-1\n"
     ]
    }
   ],
   "source": [
    "# task 1.2\n",
    "def JumpSearchRecursive(arr, x, m, currentLastIndex):\n",
    "    if currentLastIndex >= len(arr):\n",
    "        return -1\n",
    "    elif currentLastIndex+m < len(arr) and arr[currentLastIndex + m] > x:\n",
    "        for i in range(currentLastIndex, currentLastIndex+m):\n",
    "            if arr[i] == x:\n",
    "                return i\n",
    "        return -1\n",
    "    else:\n",
    "        return JumpSearchRecursive(arr, x, m, currentLastIndex+m)\n",
    "    \n",
    "a = [0, 1, 2, 3, 5, 8, 13, 21, 34, 55, 89, 144, 233, 377, 610, 999] \n",
    "print(JumpSearchRecursive(a, 55, 4, 0))\n",
    "\n",
    "a = [0, 1, 2, 3, 5, 8, 13, 21, 34, 55, 89, 144, 233, 377, 610, 999]\n",
    "print(JumpSearchRecursive(a, 1000,4, 0))"
   ]
  }
 ],
 "metadata": {
  "kernelspec": {
   "display_name": "Python 3",
   "language": "python",
   "name": "python3"
  },
  "language_info": {
   "codemirror_mode": {
    "name": "ipython",
    "version": 3
   },
   "file_extension": ".py",
   "mimetype": "text/x-python",
   "name": "python",
   "nbconvert_exporter": "python",
   "pygments_lexer": "ipython3",
   "version": "3.6.4"
  }
 },
 "nbformat": 4,
 "nbformat_minor": 2
}
