{
 "cells": [
  {
   "cell_type": "code",
   "execution_count": 1,
   "metadata": {},
   "outputs": [],
   "source": [
    "# Task 2.1\n",
    "def isPrime(n):\n",
    "    if (n==2):\n",
    "        return True\n",
    "    elif (n==0) or (n==1): #or just <2\n",
    "        return False\n",
    "    for i in range(2,int(n)): #should just test to sqrt of n\n",
    "        if n%i == 0:\n",
    "            return False\n",
    "    return True"
   ]
  },
  {
   "cell_type": "code",
   "execution_count": 2,
   "metadata": {},
   "outputs": [
    {
     "name": "stdout",
     "output_type": "stream",
     "text": [
      "[2, 3, 5, 7, 11, 13, 17, 19, 23, 29, 31, 37, 41, 43, 47, 53, 59, 61, 67, 71, 73, 79, 83, 89, 97]\n",
      "Total: 25\n"
     ]
    }
   ],
   "source": [
    "# Task 2.2\n",
    "primes = []\n",
    "for i in range(100):\n",
    "    if isPrime(i):\n",
    "        primes.append(i)\n",
    "print(primes)\n",
    "print(\"Total: \"+ str(len(primes)))"
   ]
  },
  {
   "cell_type": "code",
   "execution_count": 23,
   "metadata": {},
   "outputs": [
    {
     "name": "stdout",
     "output_type": "stream",
     "text": [
      "[2, 3, 5, 7, 11, 13, 17, 19, 23, 29, 31, 37, 41, 43, 47, 53, 59, 61, 67, 71, 73, 79, 83, 89, 97]\n"
     ]
    }
   ],
   "source": [
    "# Task 2.3\n",
    "n, p = 100, 2\n",
    "all_num = list(range(n+1))[2:] #remove 0 and 1\n",
    "multiples = []\n",
    "\n",
    "while p < len(all_num):\n",
    "    #multiples of p\n",
    "    for num in all_num:\n",
    "        if num%p == 0 and num != p: #multiples of p\n",
    "            all_num.remove(num)\n",
    "    p = all_num[all_num.index(p)+1]\n",
    "print(all_num)"
   ]
  }
 ],
 "metadata": {
  "kernelspec": {
   "display_name": "Python 3",
   "language": "python",
   "name": "python3"
  },
  "language_info": {
   "codemirror_mode": {
    "name": "ipython",
    "version": 3
   },
   "file_extension": ".py",
   "mimetype": "text/x-python",
   "name": "python",
   "nbconvert_exporter": "python",
   "pygments_lexer": "ipython3",
   "version": "3.6.4"
  }
 },
 "nbformat": 4,
 "nbformat_minor": 2
}
