{
 "cells": [
  {
   "cell_type": "code",
   "execution_count": 20,
   "metadata": {},
   "outputs": [
    {
     "name": "stdout",
     "output_type": "stream",
     "text": [
      "Father Night\n",
      "Mother Night\n",
      "Programming C## 6.0\n",
      "Introduction to Python\n",
      "Travel with Dogs\n"
     ]
    }
   ],
   "source": [
    "# should have been .py not .ipynb \n",
    "from pymongo import MongoClient \n",
    "client = MongoClient(\"127.0.0.1\", 27017)\n",
    "client.drop_database('library')\n",
    "db = client.get_database(\"library\")\n",
    "col = db.get_collection(\"books\")\n",
    "\n",
    "data = [{\"book_id\": 234, \"title\": \"Father Night\", \"author\": \"Kurt\", \"publisher\": \"APress\", \"page_count\": 433, \"year\": \"2018\"},{\"book_id\": 134, \"title\": \"Mother Night\", \"author\": [\"Kurt\", \"Dan\"], \"publisher\": \"APress\", \"year\": \"2015\"},{\"book_id\": 334, \"title\": \"Programming C## 6.0\", \"author\": [\"Andrew\", \"Dan\"], \"page_count\": 300, \"year\": \"2000\"},{\"book_id\": 534, \"title\": \"Introduction to Python\", \"publisher\": \"MPH\", \"year\": \"1999\"},{\"book_id\": 434, \"title\": \"Travel with Dogs\", \"author\": \"Andy\", \"publisher\": \"APress\", \"page_count\": 100, \"year\": \"2017\"}]\n",
    "\n",
    "col.insert_many(data)\n",
    "result = col.find()\n",
    "for item in result:\n",
    "    print(item.get('title'))\n",
    "    \n",
    "client.close()"
   ]
  },
  {
   "cell_type": "code",
   "execution_count": 21,
   "metadata": {},
   "outputs": [
    {
     "name": "stdout",
     "output_type": "stream",
     "text": [
      "134 Mother Night is written by ['Kurt', 'Dan']\n",
      "\n",
      "{'_id': ObjectId('6451b9637e2e273f987b8254'), 'book_id': 334, 'title': 'Programming C## 6.0', 'author': ['Andrew', 'Dan'], 'page_count': 300, 'year': '2000'}\n",
      "{'_id': ObjectId('6451b9637e2e273f987b8256'), 'book_id': 434, 'title': 'Travel with Dogs', 'author': 'Andy', 'publisher': 'APress', 'page_count': 100, 'year': '2017'}\n",
      "\n",
      "\n",
      "Father Night published in 2018 has 433.\n",
      "Travel with Dogs published in 2017 has 100.\n",
      "Mother Night published in 2015 has Less than 100 Pages.\n",
      "Programming C## 6.0 published in 2000 has 300.\n",
      "Introduction to Python published in 1999 has Less than 100 Pages.\n"
     ]
    }
   ],
   "source": [
    "from pymongo import MongoClient\n",
    "client = MongoClient(\"127.0.0.1\",27017)\n",
    "db = client.get_database('library')\n",
    "col = db.get_collection('books')\n",
    "\n",
    "# display the book id, title and author for those books published in 2015.\n",
    "query = {'year':'2015'}\n",
    "results = col.find(query)\n",
    "for item in results:\n",
    "    print(f\"{item.get('book_id')} {item.get('title')} is written by {item.get('author')}\")\n",
    "print()\n",
    "    \n",
    "# display all book documents with page_count greater than or equal to 100 and less than 400\n",
    "# query = {'$and':[{'page_count':{'$gte':100}}, {'page_count':{'$lt':400}}]}\n",
    "query = {'page_count':{\"$gte\":100,\"$lt\":400}} #or this\n",
    "results = col.find(query)\n",
    "for item in results:\n",
    "    print(item)\n",
    "print()\n",
    "              \n",
    "# update page_count field to ‘Less Than 100 Pages’ for those books where page_count field does not exist\n",
    "search = {'page_count':{'$exists':False}}\n",
    "update = {'$set':{'page_count':'Less than 100 Pages'}}\n",
    "col.update_many(search, update)\n",
    "print()\n",
    "\n",
    "#display the book title, page_count and year of publication according to the year in descending order\n",
    "results = col.find()\n",
    "data = []\n",
    "for item in results:\n",
    "    title, pages, year = item.get('title'), item.get('page_count'), item.get('year')\n",
    "    index, running = 0, True\n",
    "    while index != len(data) and running:\n",
    "        if year >= data[index][2]:\n",
    "            running = False\n",
    "        else:\n",
    "            index += 1\n",
    "    data.insert(index, [title, pages, year])    \n",
    "\n",
    "# or .find().sort(\"year\",-1)    \n",
    "\n",
    "for i in data:\n",
    "    print(f\"{i[0]} published in {i[2]} has {i[1]}.\")\n",
    "\n",
    "client.close()"
   ]
  }
 ],
 "metadata": {
  "kernelspec": {
   "display_name": "Python 3",
   "language": "python",
   "name": "python3"
  },
  "language_info": {
   "codemirror_mode": {
    "name": "ipython",
    "version": 3
   },
   "file_extension": ".py",
   "mimetype": "text/x-python",
   "name": "python",
   "nbconvert_exporter": "python",
   "pygments_lexer": "ipython3",
   "version": "3.6.4"
  }
 },
 "nbformat": 4,
 "nbformat_minor": 2
}
