{
 "cells": [
  {
   "cell_type": "code",
   "execution_count": 1,
   "metadata": {},
   "outputs": [
    {
     "name": "stdout",
     "output_type": "stream",
     "text": [
      "random 100 int 1D-list: [29, 88, 57, 49, 96, 79, 90, 66, 72, 60, 19, 25, 50, 51, 99, 77, 87, 99, 91, 77, 81, 29, 80, 55, 76, 63, 98, 87, 17, 81, 7, 82, 3, 11, 91, 95, 25, 22, 59, 33, 86, 79, 65, 94, 28, 19, 40, 64, 51, 100, 47, 23, 12, 83, 1, 34, 23, 75, 43, 40, 65, 100, 95, 39, 36, 93, 7, 70, 7, 78, 15, 57, 62, 26, 8, 33, 32, 1, 53, 54, 28, 31, 46, 49, 3, 30, 48, 64, 17, 60, 72, 97, 55, 97, 76, 4, 90, 54, 57, 48]\n"
     ]
    }
   ],
   "source": [
    "# Task 2.1\n",
    "from random import randint\n",
    "\n",
    "def task2_1():\n",
    "    global list1D # declares that 'list1D' will be global in this func\n",
    "    list1D = [] # create a 1-dimension list named 'list1D'\n",
    "    for i in range(100):\n",
    "        list1D.append(randint(1,100))    \n",
    "    print(f\"random 100 int 1D-list: {list1D}\") # function must output the list\n",
    "\n",
    "task2_1()"
   ]
  },
  {
   "cell_type": "code",
   "execution_count": 2,
   "metadata": {},
   "outputs": [
    {
     "name": "stdout",
     "output_type": "stream",
     "text": [
      "random 100 int 1D-list: [61, 85, 31, 1, 9, 70, 46, 56, 87, 73, 21, 5, 95, 47, 99, 81, 50, 8, 96, 21, 5, 57, 61, 23, 7, 54, 31, 12, 63, 53, 19, 19, 11, 11, 44, 94, 69, 16, 7, 63, 10, 89, 87, 26, 82, 47, 57, 36, 42, 92, 72, 24, 72, 83, 55, 60, 94, 18, 66, 61, 16, 76, 60, 62, 39, 39, 10, 3, 88, 3, 41, 25, 22, 90, 17, 98, 45, 25, 85, 26, 46, 1, 25, 64, 90, 68, 89, 69, 83, 34, 88, 87, 2, 67, 75, 36, 20, 13, 43, 6]\n",
      "bubble sorted 1D-list: [1, 1, 2, 3, 3, 5, 5, 6, 7, 7, 8, 9, 10, 10, 11, 11, 12, 13, 16, 16, 17, 18, 19, 19, 20, 21, 21, 22, 23, 24, 25, 25, 25, 26, 26, 31, 31, 34, 36, 36, 39, 39, 41, 42, 43, 44, 45, 46, 46, 47, 47, 50, 53, 54, 55, 56, 57, 57, 60, 60, 61, 61, 61, 62, 63, 63, 64, 66, 67, 68, 69, 69, 70, 72, 72, 73, 75, 76, 81, 82, 83, 83, 85, 85, 87, 87, 87, 88, 88, 89, 89, 90, 90, 92, 94, 94, 95, 96, 98, 99]\n"
     ]
    }
   ],
   "source": [
    "# Task 2.2\n",
    "\n",
    "def bubble():\n",
    "    n = len(list1D)\n",
    "    for i in range(n-1):\n",
    "        for j in range(n-1-i):\n",
    "            if list1D[j] > list1D[j+1]:\n",
    "                list1D[j], list1D[j+1] = list1D[j+1], list1D[j]\n",
    "    # procedure ends with no return (ie. mutator method)\n",
    "\n",
    "task2_1() # creates random global 'list1D' and print\n",
    "bubble() # bubble sort and print 'list1D'\n",
    "print(f\"bubble sorted 1D-list: {list1D}\")"
   ]
  },
  {
   "cell_type": "code",
   "execution_count": 3,
   "metadata": {},
   "outputs": [
    {
     "name": "stdout",
     "output_type": "stream",
     "text": [
      "sort? bubble/merge: no\n",
      "Invalid choice: 'bubble' for bubble sort and 'merge' for merge sort\n",
      "sort? bubble/merge: bubble\n",
      "random 100 int 1D-list: [66, 57, 10, 70, 70, 77, 30, 18, 79, 37, 69, 76, 11, 94, 9, 22, 64, 69, 83, 11, 36, 67, 55, 70, 2, 95, 94, 52, 89, 76, 99, 12, 100, 35, 36, 34, 22, 72, 76, 62, 9, 34, 32, 90, 30, 98, 56, 1, 39, 6, 98, 45, 54, 45, 29, 32, 32, 84, 80, 94, 38, 49, 15, 82, 51, 13, 14, 36, 47, 76, 23, 31, 97, 52, 100, 67, 30, 4, 55, 58, 65, 11, 46, 26, 82, 23, 89, 79, 3, 76, 45, 72, 1, 39, 25, 55, 51, 21, 57, 59]\n",
      "merge sorted 1D-list: [1, 1, 2, 3, 4, 6, 9, 9, 10, 11, 11, 11, 12, 13, 14, 15, 18, 21, 22, 22, 23, 23, 25, 26, 29, 30, 30, 30, 31, 32, 32, 32, 34, 34, 35, 36, 36, 36, 37, 38, 39, 39, 45, 45, 45, 46, 47, 49, 51, 51, 52, 52, 54, 55, 55, 55, 56, 57, 57, 58, 59, 62, 64, 65, 66, 67, 67, 69, 69, 70, 70, 70, 72, 72, 76, 76, 76, 76, 76, 77, 79, 79, 80, 82, 82, 83, 84, 89, 89, 90, 94, 94, 94, 95, 97, 98, 98, 99, 100, 100]\n"
     ]
    }
   ],
   "source": [
    "# Task 2.3\n",
    "\n",
    "def merge(left = 0, right = -1):\n",
    "    \"\"\"\n",
    "    Since the procedure cannot return, it must be a mutator.\n",
    "    Mutator merge sort needs left and right parameters in function.\n",
    "    \"\"\"\n",
    "\n",
    "    # if no left or right parameters input, we set the default\n",
    "    if right == -1:\n",
    "        merge(left, len(list1D)-1)\n",
    "    \n",
    "    # if merge sorting <= 1 element(s)\n",
    "    if right - left <= 0:\n",
    "        return # or return (blank)\n",
    "        # suggested soln has no return here to show that this is a mutator\n",
    "    \n",
    "    \n",
    "    # merge sort proceeds normally if length 2 or more\n",
    "    # 'else' not required here if return is used\n",
    "    else:\n",
    "        # split in half recursively\n",
    "        mid = (left + right)//2\n",
    "        merge(left, mid)\n",
    "        merge(mid+1, right)\n",
    "\n",
    "        # merging\n",
    "        temp = []\n",
    "        l = left   # left pointer\n",
    "        r = mid+1  # right pointer\n",
    "        while l <= mid or r <= right:\n",
    "            if l == mid+1: # left sub-list empty\n",
    "                temp.append(list1D[r])\n",
    "                r += 1\n",
    "            elif r == right+1: # right sub-list empty\n",
    "                temp.append(list1D[l])\n",
    "                l += 1\n",
    "            elif list1D[l] <= list1D[r]: # left smaller\n",
    "                temp.append(list1D[l])\n",
    "                l += 1\n",
    "            else: # right smaller\n",
    "                temp.append(list1D[r])\n",
    "                r += 1\n",
    "        \n",
    "        # mutating the array\n",
    "        for i in range(len(temp)):\n",
    "            list1D[left+i] = temp[i]\n",
    "\n",
    "    # no return, no print as recursive means, many prints\n",
    "\n",
    "# MAIN\n",
    "choice = input(\"sort? bubble/merge: \")\n",
    "while choice.lower() not in ('bubble', 'merge'): # loop until valid\n",
    "    print(\"Invalid choice: 'bubble' for bubble sort and 'merge' for merge sort\")\n",
    "    choice = input(\"sort? bubble/merge: \")\n",
    "\n",
    "task2_1() # create list1D\n",
    "if choice.lower() == \"bubble\":\n",
    "    bubble()\n",
    "elif choice.lower() == \"merge\":\n",
    "    merge()\n",
    "print(f\"merge sorted 1D-list: {list1D}\") # merge() has no print, but bubble() has"
   ]
  },
  {
   "cell_type": "code",
   "execution_count": 4,
   "metadata": {},
   "outputs": [
    {
     "name": "stdout",
     "output_type": "stream",
     "text": [
      "search key? 1\n",
      "1 found at index 0\n",
      "search key? 5\n",
      "5 not found in list1D\n"
     ]
    }
   ],
   "source": [
    "# Task 2.4\n",
    "\n",
    "def bin_search(key, left=0, right=-1):\n",
    "    '''same as merge, recursive bin_search requires left/right pointers'''\n",
    "    \n",
    "    if right == -1: # initialise for first entry\n",
    "        right = len(list1D)-1\n",
    "        return bin_search(key, left, right)\n",
    "    elif left > right: # invalid range to search\n",
    "        return -1\n",
    "    \n",
    "    # if there's valid search range:\n",
    "\n",
    "    mid = (left+right)//2\n",
    "    if list1D[mid] == key: # key = mid-value\n",
    "        return mid\n",
    "    elif list1D[mid] > key: # key < mid-value\n",
    "        return bin_search(key, left, mid-1)\n",
    "    elif list1D[mid] < key: # key > mid-value\n",
    "        return bin_search(key, mid+1, right)\n",
    "\n",
    "\"\"\"\n",
    "question testing requirement:\n",
    "1. smallest integer in the list (refer to 2.3)\n",
    "2. integer not in the list (refer to 2.3)\n",
    "\"\"\"\n",
    "    \n",
    "# main for testing\n",
    "for i in range(2):\n",
    "    key = int(input(\"search key? \"))\n",
    "    pos = bin_search(key)\n",
    "    if pos == -1:\n",
    "        print(f\"{key} not found in list1D\")\n",
    "    else:\n",
    "        print(f\"{key} found at index {pos}\")"
   ]
  },
  {
   "cell_type": "code",
   "execution_count": null,
   "metadata": {},
   "outputs": [],
   "source": []
  }
 ],
 "metadata": {
  "kernelspec": {
   "display_name": "Python 3",
   "language": "python",
   "name": "python3"
  },
  "language_info": {
   "codemirror_mode": {
    "name": "ipython",
    "version": 3
   },
   "file_extension": ".py",
   "mimetype": "text/x-python",
   "name": "python",
   "nbconvert_exporter": "python",
   "pygments_lexer": "ipython3",
   "version": "3.6.4"
  }
 },
 "nbformat": 4,
 "nbformat_minor": 2
}
