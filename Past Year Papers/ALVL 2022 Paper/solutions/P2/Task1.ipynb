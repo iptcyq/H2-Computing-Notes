{
 "cells": [
  {
   "cell_type": "code",
   "execution_count": 1,
   "metadata": {},
   "outputs": [],
   "source": [
    "# Task 1.1\n",
    "\n",
    "def encrypt(char):\n",
    "    if char == \" \": # edge case\n",
    "        return ord('!')\n",
    "    elif 65 <= ord(char) <= 90: # upper case\n",
    "        return (ord(char)-65 + 10)%26 + 65\n",
    "    elif 97 <= ord(char) <= 122: # lower case\n",
    "        return (ord(char)-97 + 10)%26 + 97\n",
    "    else: # invalid char\n",
    "        return -1\n"
   ]
  },
  {
   "cell_type": "code",
   "execution_count": 2,
   "metadata": {},
   "outputs": [
    {
     "name": "stdout",
     "output_type": "stream",
     "text": [
      "test char: A\n",
      "K\n",
      "test char: a\n",
      "k\n",
      "test char: #\n",
      "Invalid character found.\n",
      "test char:  \n",
      "!\n"
     ]
    }
   ],
   "source": [
    "#Task 1.2\n",
    "\n",
    "for i in range(4): # run the test 4 times\n",
    "    input_char = input(\"test char: \")\n",
    "    ascii = encrypt(input_char)\n",
    "    if ascii == -1:\n",
    "        print(\"Invalid character found.\")\n",
    "    else:\n",
    "        print(chr(ascii))\n",
    "        \n",
    "# use 'A', 'a', '#' and ' ' to test\n",
    "# MUST SHOW ALL 4 RESULTS"
   ]
  },
  {
   "cell_type": "code",
   "execution_count": 3,
   "metadata": {},
   "outputs": [
    {
     "name": "stdout",
     "output_type": "stream",
     "text": [
      "Drsc!sc!wi!combod!wocckqo!drkd!S!xoon!dy!oxmbizd\n"
     ]
    }
   ],
   "source": [
    "# Task 1.3\n",
    "\n",
    "# read the file\n",
    "txtfile = open(\"DATATOENCRYPT.txt\", \"r\")\n",
    "message = txtfile.read()\n",
    "txtfile.close()\n",
    "\n",
    "# encrypt the message\n",
    "ret = \"\"\n",
    "for new in message:\n",
    "    ascii = encrypt(new)\n",
    "    if ascii != -1: # do not append invalid char\n",
    "        ret += chr(ascii)\n",
    "\n",
    "# write the encrypted 'ret' message\n",
    "encrypt = open(\"ENCRYPTEDMESSAGE.txt\", 'w')\n",
    "encrypt.write(ret)\n",
    "encrypt.close()\n",
    "\n",
    "# read the written message\n",
    "enc_file = open(\"ENCRYPTEDMESSAGE.txt\", \"r\")\n",
    "encrypted = enc_file.read()\n",
    "print(encrypted)\n",
    "enc_file.close()\n"
   ]
  },
  {
   "cell_type": "code",
   "execution_count": null,
   "metadata": {},
   "outputs": [],
   "source": []
  }
 ],
 "metadata": {
  "kernelspec": {
   "display_name": "Python 3",
   "language": "python",
   "name": "python3"
  },
  "language_info": {
   "codemirror_mode": {
    "name": "ipython",
    "version": 3
   },
   "file_extension": ".py",
   "mimetype": "text/x-python",
   "name": "python",
   "nbconvert_exporter": "python",
   "pygments_lexer": "ipython3",
   "version": "3.6.4"
  }
 },
 "nbformat": 4,
 "nbformat_minor": 2
}
