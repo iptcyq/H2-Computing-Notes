{
 "cells": [
  {
   "cell_type": "code",
   "execution_count": 1,
   "metadata": {},
   "outputs": [
    {
     "name": "stdout",
     "output_type": "stream",
     "text": [
      "printing inorder\n",
      "139\n",
      "152\n",
      "173\n",
      "433\n",
      "576\n",
      "715\n",
      "822\n",
      "853\n",
      "905\n",
      "957\n",
      "\n",
      "printing postorder\n",
      "139\n",
      "433\n",
      "576\n",
      "173\n",
      "152\n",
      "905\n",
      "853\n",
      "957\n",
      "822\n",
      "715\n"
     ]
    }
   ],
   "source": [
    "# Task 3.1\n",
    "from random import randint\n",
    "\n",
    "class Tree():\n",
    "    def __init__(self, data):\n",
    "        self.data = data\n",
    "        self.left_pointer = None\n",
    "        self.right_pointer = None\n",
    "        \n",
    "    def add(self, data): # store parameter\n",
    "        if data < self.data: # should be on left\n",
    "            if self.left_pointer == None: # reached the end\n",
    "                self.left_pointer = Tree(data) # add\n",
    "            else:\n",
    "                self.left_pointer.add(data) # continue\n",
    "        elif data > self.data: # should be on the right\n",
    "            if self.right_pointer == None: # reached the end\n",
    "                self.right_pointer = Tree(data) # add \n",
    "            else:\n",
    "                self.right_pointer.add(data)\n",
    "        else: # data is the same - should not be possible\n",
    "            print(f\"Error: {data} already exists\")\n",
    "            \n",
    "    def inorder(self): # calls left, itself, right\n",
    "        if self.left_pointer != None:\n",
    "            self.left_pointer.inorder()\n",
    "        print(self.data)\n",
    "        if self.right_pointer != None:\n",
    "            self.right_pointer.inorder()\n",
    "            \n",
    "    def postorder(self):\n",
    "        if self.left_pointer != None:\n",
    "            self.left_pointer.postorder()\n",
    "        if self.right_pointer != None:\n",
    "            self.right_pointer.postorder()\n",
    "        print(self.data)\n",
    "     \n",
    "\n",
    "    \n",
    "r = randint(0,999) \n",
    "t = Tree(r) # new instance of tree\n",
    "for i in range(9): # loop remaining 9\n",
    "    r = randint(0,999)\n",
    "    t.add(r)\n",
    "    \n",
    "print(\"printing inorder\")\n",
    "t.inorder()\n",
    "print()\n",
    "\n",
    "print(\"printing postorder\")\n",
    "t.postorder()"
   ]
  }
 ],
 "metadata": {
  "kernelspec": {
   "display_name": "Python 3",
   "language": "python",
   "name": "python3"
  },
  "language_info": {
   "codemirror_mode": {
    "name": "ipython",
    "version": 3
   },
   "file_extension": ".py",
   "mimetype": "text/x-python",
   "name": "python",
   "nbconvert_exporter": "python",
   "pygments_lexer": "ipython3",
   "version": "3.6.4"
  }
 },
 "nbformat": 4,
 "nbformat_minor": 2
}
