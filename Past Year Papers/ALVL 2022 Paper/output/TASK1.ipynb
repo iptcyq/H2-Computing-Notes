{
 "cells": [
  {
   "cell_type": "code",
   "execution_count": 21,
   "metadata": {},
   "outputs": [
    {
     "name": "stdout",
     "output_type": "stream",
     "text": [
      "K\n",
      "J\n",
      "h\n",
      "!\n"
     ]
    }
   ],
   "source": [
    "# Task 1.1\n",
    "def encrypt(char):\n",
    "    asciival = ord(char) # get ascii value\n",
    "    if asciival == 32: # space\n",
    "        return '!'\n",
    "    elif 65 <= asciival <= 90: # if A to Z\n",
    "        asciival += 10\n",
    "        if asciival > 90:\n",
    "            asciival = asciival%65 - 25 + 64\n",
    "        return chr(asciival)\n",
    "    elif 97 <= asciival <= 122: # if a to z\n",
    "        asciival += 10\n",
    "        if asciival > 122:\n",
    "            asciival = asciival%97 - 25 + 96\n",
    "        return chr(asciival)\n",
    "    else: # invalid\n",
    "        return -1\n",
    "    \n",
    "# Test\n",
    "print(encrypt('A'))\n",
    "print(encrypt('Z'))\n",
    "print(encrypt('x'))\n",
    "print(encrypt(' '))"
   ]
  },
  {
   "cell_type": "code",
   "execution_count": 28,
   "metadata": {},
   "outputs": [
    {
     "name": "stdout",
     "output_type": "stream",
     "text": [
      "Enter single character: A\n",
      "Character valid\n",
      "\n",
      "Enter single character: a\n",
      "Character valid\n",
      "\n",
      "Enter single character: #\n",
      "Error: character invalid\n",
      "\n",
      "Enter single character:  \n",
      "Character valid\n",
      "\n"
     ]
    }
   ],
   "source": [
    "# Task 1.2\n",
    "for i in range(4): # repeat 4 times\n",
    "    char = input(\"Enter single character: \")\n",
    "    outp = encrypt(char)\n",
    "    if outp == -1: # invalid character\n",
    "        print(\"Error: character invalid\")\n",
    "    else:\n",
    "        print(\"Character valid\")\n",
    "    print()"
   ]
  },
  {
   "cell_type": "code",
   "execution_count": 30,
   "metadata": {},
   "outputs": [
    {
     "name": "stdout",
     "output_type": "stream",
     "text": [
      "Drsc!sc!wi!combod!wocckqo!drkd!S!xoon!dy!oxmbizd\n"
     ]
    }
   ],
   "source": [
    "# Task 1.3\n",
    "f = open(\"DATATOENCRYPT.txt\", 'r')\n",
    "data = f.read()\n",
    "f.close()\n",
    "\n",
    "def checkvalid(char):\n",
    "    outp = encrypt(char)\n",
    "    return not outp == -1 # true if valid\n",
    "\n",
    "result = \"\"\n",
    "for char in data:\n",
    "    if checkvalid(char): # valid\n",
    "        result += encrypt(char)\n",
    "    \n",
    "# created file\n",
    "f = open(\"ENCRYPTEDMESSAGE.txt\", 'w')\n",
    "f.write(result) # write encrypted\n",
    "f.close()\n",
    "\n",
    "f = open(\"ENCRYPTEDMESSAGE.txt\", 'r')\n",
    "print(f.read()) # read file\n",
    "f.close()"
   ]
  }
 ],
 "metadata": {
  "kernelspec": {
   "display_name": "Python 3",
   "language": "python",
   "name": "python3"
  },
  "language_info": {
   "codemirror_mode": {
    "name": "ipython",
    "version": 3
   },
   "file_extension": ".py",
   "mimetype": "text/x-python",
   "name": "python",
   "nbconvert_exporter": "python",
   "pygments_lexer": "ipython3",
   "version": "3.6.4"
  }
 },
 "nbformat": 4,
 "nbformat_minor": 2
}
