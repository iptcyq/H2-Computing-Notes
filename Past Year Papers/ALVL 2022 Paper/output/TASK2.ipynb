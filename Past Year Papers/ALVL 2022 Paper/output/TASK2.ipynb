{
 "cells": [
  {
   "cell_type": "code",
   "execution_count": 2,
   "metadata": {},
   "outputs": [
    {
     "name": "stdout",
     "output_type": "stream",
     "text": [
      "[40, 12, 83, 64, 99, 13, 6, 31, 60, 10, 88, 62, 85, 6, 61, 44, 68, 41, 78, 26, 41, 22, 22, 68, 42, 12, 16, 50, 97, 80, 32, 90, 96, 93, 74, 3, 86, 6, 4, 71, 87, 21, 2, 43, 26, 52, 33, 42, 72, 32, 22, 21, 51, 38, 42, 54, 44, 4, 41, 75, 98, 22, 66, 1, 17, 73, 68, 89, 6, 56, 71, 79, 24, 69, 74, 25, 90, 24, 55, 59, 62, 92, 36, 64, 66, 52, 66, 6, 80, 28, 18, 1, 17, 45, 30, 51, 70, 97, 86, 5]\n"
     ]
    }
   ],
   "source": [
    "# Task 2.1\n",
    "from random import randint\n",
    "\n",
    "def task2_1():\n",
    "    l = []\n",
    "    for i in range(100): # looping 100 times\n",
    "        l.append(randint(1,100)) # randomly choose an integer\n",
    "    return l\n",
    "\n",
    "print(task2_1())"
   ]
  },
  {
   "cell_type": "code",
   "execution_count": 3,
   "metadata": {},
   "outputs": [
    {
     "name": "stdout",
     "output_type": "stream",
     "text": [
      "[1, 1, 2, 2, 2, 4, 4, 5, 7, 7, 7, 9, 11, 15, 16, 17, 19, 19, 19, 20, 21, 21, 24, 24, 25, 28, 30, 31, 31, 31, 32, 33, 33, 33, 34, 34, 34, 35, 35, 35, 35, 35, 38, 38, 42, 43, 43, 43, 45, 45, 45, 46, 47, 51, 52, 53, 54, 55, 57, 58, 58, 58, 58, 59, 61, 61, 62, 64, 64, 67, 67, 67, 68, 72, 72, 73, 73, 74, 75, 76, 76, 78, 78, 79, 80, 81, 82, 84, 85, 85, 87, 88, 92, 93, 93, 95, 98, 98, 99, 100]\n"
     ]
    }
   ],
   "source": [
    "# Task 2.2\n",
    "def bubblesort(arr):\n",
    "    for i in range(len(arr)-1): # looping through entire list\n",
    "        for j in range(len(arr)-1-i): # looping through list for each char\n",
    "            if arr[j] > arr[j+1]: # if unordered, swap\n",
    "                arr[j], arr[j+1] = arr[j+1], arr[j]\n",
    "    return arr\n",
    "\n",
    "arr = task2_1()\n",
    "arr = bubblesort(arr)\n",
    "print(arr)"
   ]
  },
  {
   "cell_type": "code",
   "execution_count": 5,
   "metadata": {},
   "outputs": [
    {
     "name": "stdout",
     "output_type": "stream",
     "text": [
      "Which algorithm? (bubble/merge): no\n",
      "invalid input try again\n",
      "\n",
      "Which algorithm? (bubble/merge): bubble\n",
      "[1, 1, 1, 3, 4, 4, 4, 5, 5, 5, 6, 7, 9, 12, 13, 13, 14, 14, 14, 15, 15, 15, 16, 16, 17, 18, 18, 21, 21, 22, 22, 22, 22, 23, 24, 25, 25, 25, 26, 26, 27, 27, 27, 30, 30, 32, 33, 33, 34, 35, 35, 36, 37, 37, 38, 42, 44, 48, 51, 52, 54, 55, 59, 60, 62, 65, 66, 67, 68, 68, 69, 69, 73, 73, 74, 75, 77, 78, 78, 79, 79, 80, 80, 80, 82, 83, 83, 84, 86, 87, 87, 88, 88, 88, 94, 95, 95, 98, 99, 100]\n"
     ]
    }
   ],
   "source": [
    "# Task 2.3\n",
    "def mergesort(arr):\n",
    "    if len(arr) <= 1: # terminal case\n",
    "        return arr\n",
    "    else:\n",
    "        separator = len(arr)//2 \n",
    "        left = mergesort(arr[:separator])\n",
    "        right = mergesort(arr[separator:])\n",
    "        \n",
    "        ret = [] # return list\n",
    "        while len(left)>0 and len(right)>0:\n",
    "            if left[0] < right[0]: # left value lower than right\n",
    "                ret.append(left.pop(0))\n",
    "            else: # right value lower or equal to left\n",
    "                ret.append(right.pop(0))\n",
    "        \n",
    "        ret += left + right\n",
    "        return ret\n",
    "\n",
    "arr = task2_1()\n",
    "\n",
    "inp = input(\"Which algorithm? (bubble/merge): \")\n",
    "while inp != 'bubble' and inp != 'merge':\n",
    "    print(\"invalid input try again\\n\")\n",
    "    inp = input(\"Which algorithm? (bubble/merge): \")\n",
    "    \n",
    "if inp == \"bubble\":\n",
    "    arr = bubblesort(arr)\n",
    "elif inp == \"merge\":\n",
    "    arr = mergesort(arr)\n",
    "\n",
    "print(arr)"
   ]
  },
  {
   "cell_type": "code",
   "execution_count": 6,
   "metadata": {},
   "outputs": [
    {
     "name": "stdout",
     "output_type": "stream",
     "text": [
      "Enter an integer: 1\n",
      "1\n",
      "Enter an integer: 2\n",
      "Not found\n"
     ]
    }
   ],
   "source": [
    "# Task 2.4\n",
    "def binsearch(arr, target, left=0, right=-1):\n",
    "    if right == -1: # first root case\n",
    "        right = len(arr)\n",
    "    elif left >= right: # base case\n",
    "        return -1 # not found\n",
    "    \n",
    "    mid = (left+right)//2\n",
    "    if target < arr[mid]: # target is left\n",
    "        return binsearch(arr, target, left, mid)\n",
    "    elif target > arr[mid]: # target is \n",
    "        return binsearch(arr, target, mid+1, right)\n",
    "    else: # target is found\n",
    "        return mid\n",
    "            \n",
    "for i in range(2): # do two times\n",
    "    inp = input(\"Enter an integer: \")\n",
    "    result = binsearch(arr, int(inp))\n",
    "    if result == -1: # not found\n",
    "        print(\"Not found\")\n",
    "    else:\n",
    "        print(result)"
   ]
  }
 ],
 "metadata": {
  "kernelspec": {
   "display_name": "Python 3",
   "language": "python",
   "name": "python3"
  },
  "language_info": {
   "codemirror_mode": {
    "name": "ipython",
    "version": 3
   },
   "file_extension": ".py",
   "mimetype": "text/x-python",
   "name": "python",
   "nbconvert_exporter": "python",
   "pygments_lexer": "ipython3",
   "version": "3.6.4"
  }
 },
 "nbformat": 4,
 "nbformat_minor": 2
}
