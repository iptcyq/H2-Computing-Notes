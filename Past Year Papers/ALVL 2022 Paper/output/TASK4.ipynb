{
 "cells": [
  {
   "cell_type": "code",
   "execution_count": 6,
   "metadata": {},
   "outputs": [],
   "source": [
    "# Task 4.1\n",
    "import sqlite3\n",
    "\n",
    "conn = sqlite3.connect(\"LIBRARY.db\")\n",
    "\n",
    "query = '''CREATE TABLE `Book` \n",
    "        (`BookID` INTEGER NOT NULL UNIQUE, \n",
    "        `Title` TEXT, \n",
    "        `Genre` TEXT, \n",
    "        PRIMARY KEY(`BookID`));'''\n",
    "conn.execute(query)\n",
    "\n",
    "query = '''CREATE TABLE `Member` \n",
    "        (`MemberNumber` INTEGER NOT NULL UNIQUE, \n",
    "        `FamilyName` TEXT, \n",
    "        `GivenName` TEXT,\n",
    "        PRIMARY KEY(`MemberNumber`));'''\n",
    "conn.execute(query)\n",
    "\n",
    "query = '''CREATE TABLE `Loan` \n",
    "        (`LoanID` INTEGER NOT NULL UNIQUE, \n",
    "        `MemberNumber` INTEGER, \n",
    "        `BookID` INTEGER,\n",
    "        `DateLoaned` TEXT,\n",
    "        `Returned` BOOLEAN,\n",
    "        PRIMARY KEY(`LoanID`),\n",
    "        FOREIGN KEY(`BookID`) REFERENCES `Book`(`BookID`),\n",
    "        FOREIGN KEY(`MemberNumber`) REFERENCES `Member`(`MemberNumber`));'''\n",
    "conn.execute(query)\n",
    "\n",
    "conn.close()"
   ]
  },
  {
   "cell_type": "code",
   "execution_count": 7,
   "metadata": {},
   "outputs": [],
   "source": [
    "# Task 4.2\n",
    "f = open(\"BOOK.txt\")\n",
    "books = f.read().strip().split('\\n')\n",
    "f.close()\n",
    "\n",
    "f = open(\"MEMBER.txt\")\n",
    "members = f.read().strip().split('\\n')\n",
    "f.close()\n",
    "\n",
    "f = open(\"LOAN.txt\")\n",
    "loans = f.read().strip().split('\\n')\n",
    "f.close()\n",
    "\n",
    "conn = sqlite3.connect(\"LIBRARY.db\")\n",
    "\n",
    "for book in books:\n",
    "    bookid, title, genre = book.split(',')\n",
    "    conn.execute('''INSERT INTO Book(BookID, Title, Genre) \n",
    "                VALUES(?,?,?)''', (int(bookid), title, genre))\n",
    "    \n",
    "for member in members:\n",
    "    membernum, famname, givenname = member.split(',')\n",
    "    conn.execute('''INSERT INTO Member(MemberNumber, FamilyName, GivenName) \n",
    "                VALUES(?,?,?)''', (int(membernum), famname, givenname))\n",
    "    \n",
    "for loan in loans:\n",
    "    loanid, memnum, bookid, dateloan, returned = loan.split(',')\n",
    "    conn.execute('''INSERT INTO Loan(LoanID, MemberNumber, BookID, DateLoaned, Returned) \n",
    "                VALUES(?,?,?,?,?)''', (int(loanid), int(memnum), int(bookid), dateloan, returned))\n",
    "    \n",
    "conn.commit()\n",
    "conn.close()"
   ]
  },
  {
   "cell_type": "code",
   "execution_count": 8,
   "metadata": {},
   "outputs": [
    {
     "name": "stdout",
     "output_type": "stream",
     "text": [
      "Enter a member number: 200\n",
      "('Monkey puzzle', 'FALSE')\n",
      "('Contemplating Camelias', 'FALSE')\n",
      "('Sandy shores', 'FALSE')\n",
      "('Propogation', 'TRUE')\n"
     ]
    }
   ],
   "source": [
    "# Task 4.3\n",
    "membernumber = int(input(\"Enter a member number: \"))\n",
    "\n",
    "conn = sqlite3.connect(\"LIBRARY.db\")\n",
    "\n",
    "query = '''SELECT Book.Title, Loan.Returned FROM Loan \n",
    "        INNER JOIN Member ON Loan.MemberNumber = Member.MemberNumber\n",
    "        INNER JOIN Book ON Loan.BookID = Book.BookID\n",
    "        WHERE Member.MemberNumber = ?'''\n",
    "result = conn.execute(query, (membernumber,)).fetchall()\n",
    "\n",
    "for item in result:\n",
    "    print(item)\n",
    "\n",
    "conn.close()"
   ]
  }
 ],
 "metadata": {
  "kernelspec": {
   "display_name": "Python 3",
   "language": "python",
   "name": "python3"
  },
  "language_info": {
   "codemirror_mode": {
    "name": "ipython",
    "version": 3
   },
   "file_extension": ".py",
   "mimetype": "text/x-python",
   "name": "python",
   "nbconvert_exporter": "python",
   "pygments_lexer": "ipython3",
   "version": "3.6.4"
  }
 },
 "nbformat": 4,
 "nbformat_minor": 2
}
