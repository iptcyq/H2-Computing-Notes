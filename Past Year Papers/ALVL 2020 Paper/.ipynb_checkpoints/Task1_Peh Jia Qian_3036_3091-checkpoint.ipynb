{
 "cells": [
  {
   "cell_type": "code",
   "execution_count": 2,
   "metadata": {},
   "outputs": [
    {
     "name": "stdout",
     "output_type": "stream",
     "text": [
      "549\n",
      "417\n",
      "53\n"
     ]
    }
   ],
   "source": [
    "# Task 1.1\n",
    "def task1_1(string_value):\n",
    "    h = 0\n",
    "    for i in range(0, len(string_value)-1):\n",
    "        val = 33 * ord(string_value[i])\n",
    "        h = (h+val) % 1024\n",
    "    return h\n",
    "\n",
    "print(task1_1(\"Hello\"))\n",
    "print(task1_1(\"Hallo\"))\n",
    "print(task1_1(\"Hullo\"))"
   ]
  },
  {
   "cell_type": "code",
   "execution_count": 3,
   "metadata": {},
   "outputs": [
    {
     "name": "stdout",
     "output_type": "stream",
     "text": [
      "821\n",
      "589\n",
      "715\n"
     ]
    }
   ],
   "source": [
    "# Task 1.2\n",
    "def task1_2(seed, string_value):\n",
    "    new_value = seed + string_value\n",
    "    return task1_1(new_value)\n",
    "    \n",
    "print(task1_2(\"seed-one\", \"Hello\"))\n",
    "print(task1_2(\"seed-two\", \"Hello\"))\n",
    "print(task1_2(\"seed-three\", \"Hello\"))"
   ]
  }
 ],
 "metadata": {
  "kernelspec": {
   "display_name": "Python 3",
   "language": "python",
   "name": "python3"
  },
  "language_info": {
   "codemirror_mode": {
    "name": "ipython",
    "version": 3
   },
   "file_extension": ".py",
   "mimetype": "text/x-python",
   "name": "python",
   "nbconvert_exporter": "python",
   "pygments_lexer": "ipython3",
   "version": "3.6.4"
  }
 },
 "nbformat": 4,
 "nbformat_minor": 2
}
