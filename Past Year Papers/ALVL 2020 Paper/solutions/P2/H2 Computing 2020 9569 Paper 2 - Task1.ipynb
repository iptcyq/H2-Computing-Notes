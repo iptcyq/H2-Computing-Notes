{
 "cells": [
  {
   "cell_type": "code",
   "execution_count": 2,
   "metadata": {},
   "outputs": [
    {
     "name": "stdout",
     "output_type": "stream",
     "text": [
      "116 1008 644\n"
     ]
    }
   ],
   "source": [
    "# Task 1.1\n",
    "def task1_1(string_value):\n",
    "    h=0\n",
    "    val=0\n",
    "    for i in range(0, len(string_value)):\n",
    "        val = 33 * ord(string_value[i])\n",
    "        h = (h + val)%1024\n",
    "    return h\n",
    "x=task1_1(\"Hello\")\n",
    "y=task1_1(\"Hallo\")\n",
    "z=task1_1(\"Hullo\")\n",
    "\n",
    "print(x,y,z)"
   ]
  },
  {
   "cell_type": "code",
   "execution_count": 3,
   "metadata": {},
   "outputs": [
    {
     "name": "stdout",
     "output_type": "stream",
     "text": [
      "388 156 282\n"
     ]
    }
   ],
   "source": [
    "# Task 1.2\n",
    "\n",
    "def task1_2(seed, string_value):\n",
    "    h=0\n",
    "    hashstring = seed + string_value\n",
    "    h=task1_1(hashstring)\n",
    "    return h\n",
    "\n",
    "x=task1_2(\"seed-one\",\"Hello\")\n",
    "y=task1_2(\"seed-two\",\"Hello\")\n",
    "z=task1_2(\"seed-three\",\"Hello\")\n",
    "\n",
    "print(x,y,z)"
   ]
  }
 ],
 "metadata": {
  "kernelspec": {
   "display_name": "Python 3",
   "language": "python",
   "name": "python3"
  },
  "language_info": {
   "codemirror_mode": {
    "name": "ipython",
    "version": 3
   },
   "file_extension": ".py",
   "mimetype": "text/x-python",
   "name": "python",
   "nbconvert_exporter": "python",
   "pygments_lexer": "ipython3",
   "version": "3.8.5"
  }
 },
 "nbformat": 4,
 "nbformat_minor": 4
}
