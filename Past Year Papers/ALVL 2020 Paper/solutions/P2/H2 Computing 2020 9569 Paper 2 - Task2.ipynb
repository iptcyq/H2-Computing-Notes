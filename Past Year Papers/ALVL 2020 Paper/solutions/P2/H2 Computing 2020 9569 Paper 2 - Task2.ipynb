{
 "cells": [
  {
   "cell_type": "code",
   "execution_count": 2,
   "metadata": {},
   "outputs": [],
   "source": [
    "# Task 2.1\n",
    "from random import randint\n",
    "\n",
    "def task2_1(filename, quantity, maximum):\n",
    "    with open(filename, \"w\") as outfile:\n",
    "        for n in range(quantity):\n",
    "            randomNum = randint(0, maximum)\n",
    "            outfile.write(str(randomNum) +'\\n')\n",
    "    \n",
    "task2_1(\"randomnumbers.txt\", 1000, 5000)"
   ]
  },
  {
   "cell_type": "code",
   "execution_count": 5,
   "metadata": {},
   "outputs": [
    {
     "name": "stdout",
     "output_type": "stream",
     "text": [
      "True\n"
     ]
    }
   ],
   "source": [
    "# Task 2.2\n",
    "\n",
    "def merge(list1 , list2):\n",
    "    mergeList = []\n",
    "    len1 = len(list1)\n",
    "    len2 = len(list2)\n",
    "    n1=0\n",
    "    n2=0\n",
    "    \n",
    "    while n1<len1 and n2<len2:\n",
    "        if list1[n1] < list2[n2]:\n",
    "            mergeList.append(list1[n1])\n",
    "            n1 += 1\n",
    "        elif list1[n1] > list2[n2]:\n",
    "            mergeList.append(list2[n2])\n",
    "            n2 += 1\n",
    "        else:\n",
    "            mergeList.append(list1[n1])\n",
    "            mergeList.append(list2[n2])\n",
    "            n1 += 1\n",
    "            n2 += 1\n",
    "    if n1>=len1:\n",
    "        while n2<len2:\n",
    "            mergeList.append(list2[n2])\n",
    "            n2 += 1\n",
    "            \n",
    "    if n2>=len2:\n",
    "        while n1<len1:\n",
    "            mergeList.append(list1[n1])\n",
    "            n1 += 1\n",
    "    return mergeList\n",
    " \n",
    "def task2_2(list_of_integers):\n",
    "    if len(list_of_integers)>1:\n",
    "        mid = len(list_of_integers)//2\n",
    "        left_list = list_of_integers[:mid]\n",
    "        right_list = list_of_integers[mid:]\n",
    "        l=task2_2(left_list)\n",
    "        r=task2_2(right_list)\n",
    "        return merge(l,r)\n",
    "    else:\n",
    "        return list_of_integers\n",
    "    \n",
    "intList = [56,25,4,98,0,18,4,5,7,0]\n",
    "#mergedsortedList =task2_2(intList)\n",
    "#print(mergedsortedList)\n",
    "print(task2_2(intList)==[0, 0, 4, 4, 5, 7, 18, 25, 56, 98])\n",
    "\n",
    "\n"
   ]
  },
  {
   "cell_type": "code",
   "execution_count": 3,
   "metadata": {},
   "outputs": [],
   "source": [
    "# Task 2.3\n",
    "def task2_3(filename_in, filename_out):\n",
    "    with open(filename_in, \"r\") as infile:\n",
    "        randomNubmerlist=[]\n",
    "        for line in infile:\n",
    "            randomNubmerlist.append(int(line))\n",
    "    sortedList = task2_2(randomNubmerlist)\n",
    "    with open(filename_out, \"w\") as outfile:\n",
    "        for n in sortedList:\n",
    "            outfile.write(str(n) +'\\n')\n",
    "    \n",
    "task2_3(\"randomnumbers.txt\", \"sortednumbers.txt\")\n",
    "    \n"
   ]
  }
 ],
 "metadata": {
  "kernelspec": {
   "display_name": "Python 3",
   "language": "python",
   "name": "python3"
  },
  "language_info": {
   "codemirror_mode": {
    "name": "ipython",
    "version": 3
   },
   "file_extension": ".py",
   "mimetype": "text/x-python",
   "name": "python",
   "nbconvert_exporter": "python",
   "pygments_lexer": "ipython3",
   "version": "3.8.5"
  }
 },
 "nbformat": 4,
 "nbformat_minor": 4
}
