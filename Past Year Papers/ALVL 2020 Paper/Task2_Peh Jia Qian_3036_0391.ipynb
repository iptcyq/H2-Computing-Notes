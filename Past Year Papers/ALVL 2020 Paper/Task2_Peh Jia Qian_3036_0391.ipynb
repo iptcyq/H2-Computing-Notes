{
 "cells": [
  {
   "cell_type": "code",
   "execution_count": 7,
   "metadata": {},
   "outputs": [],
   "source": [
    "# Task 2.1\n",
    "from random import randint\n",
    "def task2_1(filename, quantity, maximum):\n",
    "    numbers = []\n",
    "    for i in range(quantity):\n",
    "        number = randint(0,maximum)\n",
    "        numbers.append(str(number))\n",
    "    f = open(filename, 'w')\n",
    "    f.write(\"\\n\".join(numbers))\n",
    "    f.close()\n",
    "    \n",
    "task2_1(\"randomnumbers_Peh Jia Qian_3036_0391.txt\", 1000, 5000)"
   ]
  },
  {
   "cell_type": "code",
   "execution_count": 17,
   "metadata": {},
   "outputs": [
    {
     "name": "stdout",
     "output_type": "stream",
     "text": [
      "True\n"
     ]
    }
   ],
   "source": [
    "# Task 2.2\n",
    "def task2_2(list_of_integers):\n",
    "    if len(list_of_integers) <= 1: # base case\n",
    "        return list_of_integers\n",
    "    else:\n",
    "        mid = len(list_of_integers)//2\n",
    "        left = task2_2(list_of_integers[:mid])\n",
    "        right = task2_2(list_of_integers[mid:])\n",
    "        outp = []\n",
    "        while len(left) > 0 and len(right) > 0:\n",
    "            if left[0] < right[0]:\n",
    "                outp.append(left[0])\n",
    "                left.pop(0)\n",
    "            elif right[0] < left[0]:\n",
    "                outp.append(right[0])\n",
    "                right.pop(0)\n",
    "            else:\n",
    "                outp.append(left[0])\n",
    "                outp.append(right[0])\n",
    "                left.pop(0)\n",
    "                right.pop(0)\n",
    "        outp += left + right\n",
    "        return outp\n",
    "\n",
    "loi = [56,25,4,98,0,18,4,5,7,0]\n",
    "sortd = task2_2(loi)\n",
    "print([0,0,4,4,5,7,18,25,56,98] == sortd)"
   ]
  },
  {
   "cell_type": "code",
   "execution_count": 19,
   "metadata": {},
   "outputs": [],
   "source": [
    "# Task 2.3\n",
    "def task2_3(filename_in, filename_out):\n",
    "    f = open(filename_in, 'r')\n",
    "    numbers = f.read().strip().split('\\n')\n",
    "    f.close()\n",
    "    integer_numbers = []\n",
    "    for num in numbers:\n",
    "        integer_numbers.append(int(num))\n",
    "    sortd = task2_2(integer_numbers)\n",
    "    written_outp = \"\"\n",
    "    for num in sortd:\n",
    "        written_outp += str(num) + \"\\n\"\n",
    "    f = open(filename_out, 'w')\n",
    "    f.write(written_outp[:-1])\n",
    "    f.close()\n",
    "    \n",
    "task2_3(\"randomnumbers_Peh Jia Qian_3036_0391.txt\", \"sortednumbers_Peh Jia Qian_3036_0391.txt\")"
   ]
  }
 ],
 "metadata": {
  "kernelspec": {
   "display_name": "Python 3",
   "language": "python",
   "name": "python3"
  },
  "language_info": {
   "codemirror_mode": {
    "name": "ipython",
    "version": 3
   },
   "file_extension": ".py",
   "mimetype": "text/x-python",
   "name": "python",
   "nbconvert_exporter": "python",
   "pygments_lexer": "ipython3",
   "version": "3.6.4"
  }
 },
 "nbformat": 4,
 "nbformat_minor": 2
}
