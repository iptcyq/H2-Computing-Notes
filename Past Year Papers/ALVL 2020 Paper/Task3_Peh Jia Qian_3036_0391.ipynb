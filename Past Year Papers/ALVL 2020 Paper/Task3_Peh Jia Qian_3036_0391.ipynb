{
 "cells": [
  {
   "cell_type": "code",
   "execution_count": 50,
   "metadata": {},
   "outputs": [
    {
     "name": "stdout",
     "output_type": "stream",
     "text": [
      "8000\n",
      "8000000\n",
      "8000000000\n",
      "8000000000000\n",
      "invalid data\n"
     ]
    },
    {
     "data": {
      "text/plain": [
       "'invalid data'"
      ]
     },
     "execution_count": 50,
     "metadata": {},
     "output_type": "execute_result"
    }
   ],
   "source": [
    "# Task 3.1\n",
    "def task3_1(quantity_of_data):\n",
    "    valid_units = ['KB','MB','GB','TB']\n",
    "    \n",
    "    if len(quantity_of_data) < 3:\n",
    "        print(\"invalid data\")\n",
    "        return \"invalid data\"\n",
    "    \n",
    "    not_numbers = False\n",
    "    for char in quantity_of_data[:-2]:\n",
    "            if char.isalpha():\n",
    "                not_numbers = True\n",
    "    if quantity_of_data[-2:] not in valid_units or not_numbers:\n",
    "        print(\"invalid data\")\n",
    "        return \"invalid data\"\n",
    "    bytes = int(quantity_of_data[:-2])\n",
    "    for i in range(3 * (valid_units.index(quantity_of_data[-2:]) + 1)):\n",
    "        bytes *= 10 \n",
    "    print(bytes)\n",
    "    return bytes\n",
    "\n",
    "# correct units test\n",
    "task3_1(\"8KB\")\n",
    "task3_1(\"8MB\")\n",
    "task3_1(\"8GB\")\n",
    "task3_1(\"8TB\")\n",
    "\n",
    "# incorrect units test\n",
    "task3_1(\"KB\")"
   ]
  },
  {
   "cell_type": "code",
   "execution_count": 44,
   "metadata": {},
   "outputs": [
    {
     "name": "stdout",
     "output_type": "stream",
     "text": [
      "2000\n",
      "2000\n",
      "2000000\n",
      "2000000\n",
      "2000000000\n",
      "2000000000\n",
      "2000000000000\n",
      "2000000000000\n",
      "2048\n",
      "2097152\n",
      "2147483648\n",
      "2199023255552\n",
      "\n",
      "invalid data\n",
      "invalid data\n",
      "\n",
      "0\n"
     ]
    },
    {
     "data": {
      "text/plain": [
       "0"
      ]
     },
     "execution_count": 44,
     "metadata": {},
     "output_type": "execute_result"
    }
   ],
   "source": [
    "# Task 3.2\n",
    "def task3_2(quantity_of_data):\n",
    "    valid_units_2 = ['KB','MB','GB','TB']\n",
    "    valid_units_3 = ['KiB','MiB','GiB','TiB']\n",
    "\n",
    "    if len(quantity_of_data) < 3:\n",
    "        print(\"invalid data\")\n",
    "        return \"invalid data\"\n",
    "    \n",
    "    not_numbers_3 = False\n",
    "    for char in quantity_of_data[:-3]:\n",
    "        if char.isalpha():\n",
    "            not_numbers_3 = True\n",
    "            \n",
    "    not_numbers_2 = False\n",
    "    for char in quantity_of_data[:-2]:\n",
    "        if char.isalpha():\n",
    "            not_numbers_2 = True\n",
    "\n",
    "    if quantity_of_data[-3:] not in valid_units_3 or not_numbers_3: \n",
    "        # possibly in -2 units - order matters\n",
    "        if quantity_of_data[-2:] not in valid_units_2 or not_numbers_2:\n",
    "            print(\"invalid data\")\n",
    "            return \"invalid data\"\n",
    "        else:\n",
    "            bytes = task3_1(quantity_of_data)\n",
    "    else:\n",
    "        bytes = int(quantity_of_data[:-3])\n",
    "        for i in range(10 * (int(valid_units_3.index(quantity_of_data[-3:]))+1)):\n",
    "            bytes *= 2\n",
    "    \n",
    "    print(bytes)\n",
    "    return bytes\n",
    "        \n",
    "# correct units test\n",
    "task3_2('2KB')\n",
    "task3_2('2MB')\n",
    "task3_2('2GB')\n",
    "task3_2('2TB')\n",
    "\n",
    "task3_2('2KiB')\n",
    "task3_2('2MiB')\n",
    "task3_2('2GiB')\n",
    "task3_2('2TiB')\n",
    "\n",
    "print()\n",
    "\n",
    "# bad data\n",
    "task3_2('10mKB')\n",
    "task3_2('tyKB')\n",
    "\n",
    "print()\n",
    "\n",
    "# edge case\n",
    "task3_2('0MiB')"
   ]
  },
  {
   "cell_type": "code",
   "execution_count": 56,
   "metadata": {},
   "outputs": [
    {
     "name": "stdout",
     "output_type": "stream",
     "text": [
      "536870912\n",
      "0.5\n",
      "20000000000\n",
      "20000000000\n",
      "20000000.0\n",
      "1000000000000\n",
      "1000000000000\n",
      "976562500.0\n"
     ]
    },
    {
     "data": {
      "text/plain": [
       "976562500.0"
      ]
     },
     "execution_count": 56,
     "metadata": {},
     "output_type": "execute_result"
    }
   ],
   "source": [
    "# Task 3.3\n",
    "def task3_3(quantity_of_data, target_unit):\n",
    "    valid_units = ['KB','MB','GB','TB','KiB','MiB','GiB','TiB']\n",
    "    if target_unit not in valid_units:\n",
    "        print(\"invalid data\")\n",
    "        return \"invalid data\"\n",
    "    else:\n",
    "        bytes = task3_2(quantity_of_data)\n",
    "        if bytes != \"invalid data\":\n",
    "            idx = valid_units.index(target_unit)\n",
    "            if idx < 4: # len 2\n",
    "                for i in range(3*(idx+1)):\n",
    "                    bytes /= 10\n",
    "            else: # len 3\n",
    "                for i in range(10*(idx-4+1)):\n",
    "                    bytes /= 2\n",
    "        print(bytes)\n",
    "        return bytes\n",
    "    \n",
    "# correct data\n",
    "task3_3(\"512MiB\",\"GiB\")\n",
    "task3_3(\"20GB\",\"KB\")\n",
    "task3_3(\"1TB\",\"KiB\")"
   ]
  }
 ],
 "metadata": {
  "kernelspec": {
   "display_name": "Python 3",
   "language": "python",
   "name": "python3"
  },
  "language_info": {
   "codemirror_mode": {
    "name": "ipython",
    "version": 3
   },
   "file_extension": ".py",
   "mimetype": "text/x-python",
   "name": "python",
   "nbconvert_exporter": "python",
   "pygments_lexer": "ipython3",
   "version": "3.6.4"
  }
 },
 "nbformat": 4,
 "nbformat_minor": 2
}
