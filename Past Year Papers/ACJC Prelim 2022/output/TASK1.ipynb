{
 "cells": [
  {
   "cell_type": "code",
   "execution_count": 6,
   "metadata": {},
   "outputs": [
    {
     "name": "stdout",
     "output_type": "stream",
     "text": [
      "beeps\n"
     ]
    }
   ],
   "source": [
    "# Task 1.1\n",
    "import random\n",
    "\n",
    "def get_word(filename):\n",
    "    f = open(filename)\n",
    "    data = f.read().strip().split('\\n')\n",
    "    f.close()\n",
    "    \n",
    "    r = random.randint(0,len(data)-1)\n",
    "    return data[r]\n",
    "\n",
    "print(get_word('../resource/words.txt'))"
   ]
  },
  {
   "cell_type": "code",
   "execution_count": 23,
   "metadata": {},
   "outputs": [
    {
     "name": "stdout",
     "output_type": "stream",
     "text": [
      "True\n",
      "False\n",
      "False\n",
      "False\n"
     ]
    }
   ],
   "source": [
    "# Task 1.2\n",
    "def check_validity(guess):\n",
    "    if len(guess) != 5:\n",
    "        return False\n",
    "    for char in guess:\n",
    "        if char.isupper() or not char.isalpha():\n",
    "            return False\n",
    "    return True\n",
    "    \n",
    "print(check_validity(\"atest\")) # should return true\n",
    "print(check_validity(\"Atest\")) # should return false\n",
    "print(check_validity(\"@t35t\")) # should return false\n",
    "print(check_validity(\"testing\")) # should return false"
   ]
  },
  {
   "cell_type": "code",
   "execution_count": 39,
   "metadata": {},
   "outputs": [
    {
     "name": "stdout",
     "output_type": "stream",
     "text": [
      "[[2, 3, 4], [1]]\n",
      "[[2], [0]]\n",
      "[[0, 1, 2, 3, 4], []]\n",
      "[[0, 1, 4], [3]]\n"
     ]
    }
   ],
   "source": [
    "# Task 1.3\n",
    "def check_guess(guess, word):\n",
    "    if not check_validity(guess):\n",
    "        print(\"Error: Invalid guess\")\n",
    "    else:\n",
    "        check = {}\n",
    "        for char in word:\n",
    "            if char not in check.keys():\n",
    "                check[char] = 1\n",
    "            else:\n",
    "                check[char] += 1\n",
    "        \n",
    "        correct = []\n",
    "        in_word = []\n",
    "\n",
    "        for i in range(5):\n",
    "            if guess[i] == word[i]:\n",
    "                if check[guess[i]] <= 0:\n",
    "                    in_word.remove(guess.index(guess[i]))\n",
    "                correct.append(i)\n",
    "                check[guess[i]] -= 1\n",
    "            elif guess[i] in word:\n",
    "                if check[guess[i]] > 0:\n",
    "                    in_word.append(i)\n",
    "                    check[guess[i]] -= 1\n",
    "            \n",
    "        return [correct, in_word]\n",
    "    \n",
    "print(check_guess('maple', 'apple'))\n",
    "print(check_guess('poppy', 'apple'))\n",
    "print(check_guess('apple', 'apple'))\n",
    "print(check_guess('apepe', 'apple'))"
   ]
  },
  {
   "cell_type": "code",
   "execution_count": 40,
   "metadata": {},
   "outputs": [
    {
     "name": "stdout",
     "output_type": "stream",
     "text": [
      "_*^^^\n",
      "^^^^^\n",
      "_*___\n"
     ]
    }
   ],
   "source": [
    "# Task 1.4\n",
    "def display_result(correct, in_word):\n",
    "    ret = \"\"\n",
    "    for i in range(5):\n",
    "        if i in correct:\n",
    "            ret += \"^\"\n",
    "        elif i in in_word:\n",
    "            ret += \"*\"\n",
    "        else:\n",
    "            ret += \"_\"\n",
    "    return ret\n",
    "\n",
    "print(display_result([2,3,4],[1]))\n",
    "print(display_result([0,1,2,3,4],[]))\n",
    "print(display_result([],[1]))"
   ]
  },
  {
   "cell_type": "code",
   "execution_count": 44,
   "metadata": {},
   "outputs": [
    {
     "name": "stdout",
     "output_type": "stream",
     "text": [
      "_ _ _ _ _\n",
      "you get 6 guesses!\n",
      "what is your guess?: crane\n",
      "crane\n",
      "__*_*\n",
      "what is your guess?: aethr\n",
      "aethr\n",
      "**___\n",
      "what is your guess?: eaten\n",
      "eaten\n",
      "_^_^_\n",
      "what is your guess?: kaleb\n",
      "kaleb\n",
      "_^_^_\n",
      "what is your guess?: pwocb\n",
      "pwocb\n",
      "_____\n",
      "what is your guess?: saged\n",
      "saged\n",
      "*^_^_\n",
      "You ran out guesses!\n",
      "The word was: mazes\n"
     ]
    }
   ],
   "source": [
    "# Task 1.5\n",
    "def play_wordle():\n",
    "    print(\"_ _ _ _ _\")\n",
    "    word = get_word('../resource/words.txt')\n",
    "    print(\"you get 6 guesses!\")\n",
    "    for i in range(1,7):\n",
    "        guess = input(\"what is your guess?: \")\n",
    "        while (check_validity(guess) == False):\n",
    "            print(\"please enter exactly 5 lower case letters only\")\n",
    "            guess = input(\"what is your guess?: \")\n",
    "        correct, incorrect = check_guess(guess, word) \n",
    "        print(guess)\n",
    "        print(display_result(correct, incorrect))\n",
    "        if len(correct) == 5:\n",
    "            print(f\"you used {i} guesses!\")\n",
    "            print(\"You win!\")\n",
    "            return None\n",
    "    print(\"You ran out guesses!\")\n",
    "    print(\"The word was:\", word)\n",
    "    return None\n",
    "\n",
    "play_wordle()"
   ]
  }
 ],
 "metadata": {
  "kernelspec": {
   "display_name": "Python 3",
   "language": "python",
   "name": "python3"
  },
  "language_info": {
   "codemirror_mode": {
    "name": "ipython",
    "version": 3
   },
   "file_extension": ".py",
   "mimetype": "text/x-python",
   "name": "python",
   "nbconvert_exporter": "python",
   "pygments_lexer": "ipython3",
   "version": "3.6.4"
  }
 },
 "nbformat": 4,
 "nbformat_minor": 2
}
