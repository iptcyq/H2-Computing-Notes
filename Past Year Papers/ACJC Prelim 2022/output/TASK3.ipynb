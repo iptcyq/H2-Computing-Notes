{
 "cells": [
  {
   "cell_type": "code",
   "execution_count": 2,
   "metadata": {},
   "outputs": [
    {
     "name": "stdout",
     "output_type": "stream",
     "text": [
      "{'a': 1, 'n': 0, 'm': 2}\n"
     ]
    }
   ],
   "source": [
    "# Task 3.1\n",
    "def dic(s):\n",
    "    dic = {}\n",
    "    for i in range(len(s)):\n",
    "        dic[s[i]] = len(s) - i - 1\n",
    "    return dic\n",
    "\n",
    "print(dic('anman'))"
   ]
  },
  {
   "cell_type": "code",
   "execution_count": 40,
   "metadata": {},
   "outputs": [
    {
     "name": "stdout",
     "output_type": "stream",
     "text": [
      "4 4\n",
      "\t m n\n",
      "\t n 4\n",
      "5 4\n",
      "\t n n\n",
      "\t n 4\n",
      "6 4\n",
      "\t n m\n",
      "\t m 2\n",
      "No match\n"
     ]
    }
   ],
   "source": [
    "# Task 3.2 - arghhhhhhhhhhhh i cant do this, i'll get back to you later\n",
    "s = \"anman\"\n",
    "t1 = 'aman'\n",
    "t = 'anpanman'\n",
    "t3 = 'anpanpan'\n",
    "t4 = 'anpamanman' \n",
    "\n",
    "def charinstr(char, s):\n",
    "    for i in range(len(s)-1, -1, -1):\n",
    "        if s[i] == char: # found (back to front)\n",
    "            return i \n",
    "    return -1 # not found\n",
    "\n",
    "if len(t) < len(s): # out of range\n",
    "    print(\"No match\")\n",
    "else:\n",
    "    done = False\n",
    "    \n",
    "    tidx = sidx = len(s)-1\n",
    "    while not done:\n",
    "        sidx = len(s)-1\n",
    "        print(tidx, sidx)\n",
    "        while sidx >= 0: # going through s string\n",
    "            if s[sidx] == t[tidx - (len(s)-1-sidx)]: # matches, continue\n",
    "                sidx -= 1\n",
    "            else: # mismatch\n",
    "                print(\"\\t\", s[sidx], t[tidx - (len(s)-sidx)])\n",
    "                break\n",
    "\n",
    "        if sidx == -1: # finished string\n",
    "            print(\"Match\")\n",
    "            done = True\n",
    "        else: # mismatch\n",
    "            idx = charinstr(t[sidx + tidx - len(s)-1], s)\n",
    "            print(\"\\t\",t[sidx + tidx - len(s)-1],idx)\n",
    "            if idx == -1: # not found in str\n",
    "                tidx += sidx - 1\n",
    "                print(tidx)\n",
    "            else:\n",
    "                tidx += len(s)-idx\n",
    "            if tidx >= len(t):\n",
    "                print(\"No match\")\n",
    "                done = True\n",
    "            "
   ]
  },
  {
   "cell_type": "code",
   "execution_count": 28,
   "metadata": {},
   "outputs": [
    {
     "name": "stdout",
     "output_type": "stream",
     "text": [
      "valid\n"
     ]
    }
   ],
   "source": [
    "# Task 3.2 - redo\n",
    "s = \"anman\"\n",
    "t1 = 'aman'\n",
    "t2 = 'anpanman'\n",
    "t3 = 'anpanpan'\n",
    "t4 = 'anpamanman' \n",
    "\n",
    "sdic = dic(s)\n",
    "\n",
    "done = False\n",
    "while not done:\n",
    "    # check if t equal or longer than s\n",
    "    if len(t) < len(s): # definitely not a subset\n",
    "        print(\"invalid\")\n",
    "        done = True\n",
    "    else:\n",
    "        sidx = len(s)-1\n",
    "\n",
    "        # compare last letter of s with same index in t\n",
    "        while sidx >= 0: # while match - if all match, true\n",
    "            if s[sidx] == t[sidx]: # if match\n",
    "                sidx -= 1 # move to next last letter\n",
    "            else: # mismatched\n",
    "                break\n",
    "        \n",
    "        if sidx == -1: # all matched\n",
    "            print(\"valid\")\n",
    "            done = True\n",
    "        else: # mismatched\n",
    "            if t[sidx] not in sdic.keys(): # char not in s\n",
    "                # move entire string after that char\n",
    "                t = t[sidx+1:]\n",
    "            else: # char in s\n",
    "                # move bit by bit till the chars match\n",
    "                shift = sdic[t[sidx]]\n",
    "                t = t[len(s)-shift-1:]"
   ]
  }
 ],
 "metadata": {
  "kernelspec": {
   "display_name": "Python 3",
   "language": "python",
   "name": "python3"
  },
  "language_info": {
   "codemirror_mode": {
    "name": "ipython",
    "version": 3
   },
   "file_extension": ".py",
   "mimetype": "text/x-python",
   "name": "python",
   "nbconvert_exporter": "python",
   "pygments_lexer": "ipython3",
   "version": "3.6.4"
  }
 },
 "nbformat": 4,
 "nbformat_minor": 2
}
