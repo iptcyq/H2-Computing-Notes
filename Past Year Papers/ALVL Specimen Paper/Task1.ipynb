{
 "cells": [
  {
   "cell_type": "code",
   "execution_count": 7,
   "metadata": {},
   "outputs": [
    {
     "name": "stdout",
     "output_type": "stream",
     "text": [
      "Enter a letter: A\n",
      "Enter a letter: b\n",
      "Enter a letter: =\n",
      "Error: letter not in A-Z or a-z\n",
      "Enter a letter again: =\n"
     ]
    }
   ],
   "source": [
    "# Task 1.1\n",
    "letter = input(\"Enter a letter: \")\n",
    "if not(65 <= ord(letter) <= 90 or 97 <= ord(letter) <= 122):\n",
    "    print(\"Error: letter not in A-Z or a-z\")\n",
    "    letter = input(\"Enter a letter again: \")"
   ]
  },
  {
   "cell_type": "code",
   "execution_count": 12,
   "metadata": {},
   "outputs": [
    {
     "name": "stdout",
     "output_type": "stream",
     "text": [
      "Enter a letter: B\n",
      "Enter a base: 11\n",
      "\n",
      "Letter \t B\n",
      "Denary \t 0\n",
      "Number Base 11 \t 60\n",
      "Enter a letter: m\n",
      "Enter a base: 14\n",
      "\n",
      "Letter \t m\n",
      "Denary \t 0\n",
      "Number Base 11 \t 711\n"
     ]
    }
   ],
   "source": [
    "# Task 1.2\n",
    "letter = input(\"Enter a letter: \")\n",
    "base = input(\"Enter a base: \")\n",
    "if base.isnumeric() and not(10<int(base)<15):\n",
    "    base = input(\"Enter a base number (10< base <15): \")\n",
    "denary = ord(letter)\n",
    "output = \"\"\n",
    "while denary > 0:\n",
    "    output += str(denary%int(base))\n",
    "    denary = denary//int(base)\n",
    "\n",
    "print()\n",
    "print(f\"Letter \\t {letter}\")\n",
    "print(f\"Denary \\t {denary}\")\n",
    "print(f\"Number Base 11 \\t {output[::-1]}\")"
   ]
  },
  {
   "cell_type": "code",
   "execution_count": 34,
   "metadata": {},
   "outputs": [
    {
     "name": "stdout",
     "output_type": "stream",
     "text": [
      "\n",
      "1. Enter a letter\n",
      "2. Convert to Denary\n",
      "3. Convert to Base 11\n",
      "4. Convert to Base 12\n",
      "5. Convert to Base 13\n",
      "6. Convert to Base 14\n",
      "7. End\n",
      "\n",
      "X\n",
      "\n",
      "1. Enter a letter\n",
      "2. Convert to Denary\n",
      "3. Convert to Base 11\n",
      "4. Convert to Base 12\n",
      "5. Convert to Base 13\n",
      "6. Convert to Base 14\n",
      "7. End\n",
      "\n",
      "Convert to Base 13\n",
      "Letter \t X\n",
      "Denary \t 0\n",
      "Number Base 23 \t 391\n",
      "\n",
      "1. Enter a letter\n",
      "2. Convert to Denary\n",
      "3. Convert to Base 11\n",
      "4. Convert to Base 12\n",
      "5. Convert to Base 13\n",
      "6. Convert to Base 14\n",
      "7. End\n",
      "\n",
      "Convert to Base 11\n",
      "Letter \t X\n",
      "Denary \t 0\n",
      "Number Base 21 \t 44\n",
      "\n",
      "1. Enter a letter\n",
      "2. Convert to Denary\n",
      "3. Convert to Base 11\n",
      "4. Convert to Base 12\n",
      "5. Convert to Base 13\n",
      "6. Convert to Base 14\n",
      "7. End\n",
      "\n",
      "y\n",
      "\n",
      "1. Enter a letter\n",
      "2. Convert to Denary\n",
      "3. Convert to Base 11\n",
      "4. Convert to Base 12\n",
      "5. Convert to Base 13\n",
      "6. Convert to Base 14\n",
      "7. End\n",
      "\n",
      "Convert to Denary\n",
      "Letter \t y\n",
      "Denary \t 0\n",
      "Number Base 10 \t 121\n",
      "\n",
      "1. Enter a letter\n",
      "2. Convert to Denary\n",
      "3. Convert to Base 11\n",
      "4. Convert to Base 12\n",
      "5. Convert to Base 13\n",
      "6. Convert to Base 14\n",
      "7. End\n",
      "\n",
      "End\n"
     ]
    }
   ],
   "source": [
    "# Task 1.3\n",
    "def Convert(letter, base):\n",
    "    denary = ord(letter)\n",
    "    output = \"\"\n",
    "    while denary > 0:\n",
    "        output += str(denary%int(base))\n",
    "        denary = denary//int(base)\n",
    "    print(f\"Letter \\t {letter}\")\n",
    "    print(f\"Denary \\t {denary}\")\n",
    "    print(f\"Number Base {base} \\t {output[::-1]}\")\n",
    "\n",
    "def menu():\n",
    "    letter, command = \"\",\"\"\n",
    "    running = True\n",
    "    while running:\n",
    "        if command != \"End\":\n",
    "            print()\n",
    "            print(\"1. Enter a letter\")\n",
    "            print(\"2. Convert to Denary\")\n",
    "            print(\"3. Convert to Base 11\")\n",
    "            print(\"4. Convert to Base 12\")\n",
    "            print(\"5. Convert to Base 13\")\n",
    "            print(\"6. Convert to Base 14\")\n",
    "            print(\"7. End\")\n",
    "            print()\n",
    "            command = input()\n",
    "\n",
    "            if command.isalpha():\n",
    "                letter = command\n",
    "            elif command == \"End\":\n",
    "                pass\n",
    "            elif command == \"Convert to Denary\":\n",
    "                Convert(letter, 10)\n",
    "            else:\n",
    "                Convert(letter, int(command[-2:])+10)\n",
    "        else:\n",
    "            running = False\n",
    "\n",
    "menu()"
   ]
  }
 ],
 "metadata": {
  "kernelspec": {
   "display_name": "Python 3",
   "language": "python",
   "name": "python3"
  },
  "language_info": {
   "codemirror_mode": {
    "name": "ipython",
    "version": 3
   },
   "file_extension": ".py",
   "mimetype": "text/x-python",
   "name": "python",
   "nbconvert_exporter": "python",
   "pygments_lexer": "ipython3",
   "version": "3.6.4"
  }
 },
 "nbformat": 4,
 "nbformat_minor": 2
}
