{
 "cells": [
  {
   "cell_type": "code",
   "execution_count": 13,
   "metadata": {},
   "outputs": [],
   "source": [
    "# Task 3.1\n",
    "class Node():\n",
    "    def __init__(self, data, next=None):\n",
    "        self.data = data\n",
    "        self.next = next\n",
    "\n",
    "class DataStructure():\n",
    "    def __init__(self):\n",
    "        self.head = None\n",
    "        self.tail = None\n",
    "    def display(self):\n",
    "        if self.head == None:\n",
    "            print(\"Empty list\")\n",
    "        else:\n",
    "            ptr = self.head\n",
    "            while ptr:\n",
    "                print(ptr.data, end=\" \")\n",
    "                ptr = ptr.next\n",
    "            print()"
   ]
  },
  {
   "cell_type": "code",
   "execution_count": 53,
   "metadata": {},
   "outputs": [],
   "source": [
    "# Task 3.2\n",
    "class Stack(DataStructure):\n",
    "    def insert(self, value):\n",
    "        if self.head == None:\n",
    "            self.head = Node(value)\n",
    "        else:\n",
    "            self.head = Node(value, self.head)\n",
    "    def delete(self):\n",
    "        if self.head == 0:\n",
    "            print(\"Error: empty stack\")\n",
    "        top = self.head\n",
    "        self.head = top.next\n",
    "        return top.data\n",
    "    def display(self):\n",
    "        if self.head == None:\n",
    "            print(\"Empty list\")\n",
    "        else:\n",
    "            ptr = self.head\n",
    "            while ptr:\n",
    "                print(ptr.data, end=\" \")\n",
    "                ptr = ptr.next\n",
    "            print() "
   ]
  },
  {
   "cell_type": "code",
   "execution_count": 56,
   "metadata": {},
   "outputs": [],
   "source": [
    "# Task 3.3\n",
    "class Queue(DataStructure):\n",
    "    def insert(self, value):\n",
    "        if self.head == None:\n",
    "            self.tail = self.head = Node(value)\n",
    "        else:\n",
    "            newNode = Node(value)\n",
    "            self.tail.next = newNode\n",
    "            self.tail = newNode\n",
    "    def delete(self):\n",
    "        if self.head == None:\n",
    "            print(\"Error: empty queue\")\n",
    "        else:\n",
    "            top = self.head\n",
    "            self.head = top.next\n",
    "            return top.data\n",
    "    def display(self):\n",
    "        if self.head == None:\n",
    "            print(\"Empty list\")\n",
    "        else:\n",
    "            ptr = self.head\n",
    "            while ptr:\n",
    "                print(ptr.data, end=\" \")\n",
    "                ptr = ptr.next\n",
    "            print()"
   ]
  },
  {
   "cell_type": "code",
   "execution_count": 58,
   "metadata": {},
   "outputs": [
    {
     "name": "stdout",
     "output_type": "stream",
     "text": [
      "Current contents:\n",
      "33 2 2 3 4 65 8 7 6 5 4 2 \n",
      "1 2 3 4 5 6 7 8 9 10 11 12 \n",
      "New contents:\n",
      "2 3 4 65 8 7 6 5 4 2 \n",
      "3 4 5 6 7 8 9 10 11 12 \n"
     ]
    }
   ],
   "source": [
    "# Task 3.4\n",
    "s = Stack()\n",
    "\n",
    "f = open(\"Additional_Materials/TASK3stack.txt\",'r')\n",
    "data = f.read().split(\"\\n\")\n",
    "f.close()\n",
    "for item in data:\n",
    "    s.insert(item)\n",
    "\n",
    "q = Queue()\n",
    "f = open(\"Additional_Materials/TASK3queue.txt\",'r')\n",
    "data = f.read().split(\"\\n\")\n",
    "f.close()\n",
    "for item in data:\n",
    "    q.insert(item)\n",
    "\n",
    "print(\"Current contents:\")\n",
    "s.display()\n",
    "q.display()\n",
    "\n",
    "for i in range(2):\n",
    "    s.delete()\n",
    "    q.delete()\n",
    "\n",
    "print(\"New contents:\")\n",
    "s.display()\n",
    "q.display()"
   ]
  }
 ],
 "metadata": {
  "kernelspec": {
   "display_name": "Python 3",
   "language": "python",
   "name": "python3"
  },
  "language_info": {
   "codemirror_mode": {
    "name": "ipython",
    "version": 3
   },
   "file_extension": ".py",
   "mimetype": "text/x-python",
   "name": "python",
   "nbconvert_exporter": "python",
   "pygments_lexer": "ipython3",
   "version": "3.6.4"
  }
 },
 "nbformat": 4,
 "nbformat_minor": 2
}
