{
 "cells": [
  {
   "cell_type": "code",
   "execution_count": 7,
   "metadata": {},
   "outputs": [],
   "source": [
    "# Your task 4.1 kinda wrong but ok\n",
    "\n",
    "# Task 4.2\n",
    "import sqlite3\n",
    "connection = sqlite3.connect(\"equipment.db\")\n",
    "\n",
    "f = open(\"Additional_Materials/MONITORS.txt\")\n",
    "data = f.read().strip().split(\"\\n\")\n",
    "f.close()\n",
    "for item in data:\n",
    "    serial, model, location, purchasedate, writeoff, cleaneddate = item.split(\",\")\n",
    "    query = '''\n",
    "    INSERT INTO Device('SerialNumber','Type','Model','Location','DateOfPurchase','WrittenOff')\n",
    "    VALUES(?,?,?,?,?,?);\n",
    "    '''\n",
    "    connection.execute(query, (int(serial),\"Monitor\",model,location,purchasedate,writeoff))\n",
    "    query = ''' INSERT INTO Monitor('SerialNumber','DateCleaned') VALUES(?,?); '''\n",
    "    connection.execute(query, (int(serial),cleaneddate))\n",
    "\n",
    "f = open(\"Additional_Materials/LAPTOPS.txt\")\n",
    "data = f.read().strip().split(\"\\n\")\n",
    "f.close()\n",
    "for item in data:\n",
    "    serial, model, location, purchasedate, writeoff, weightkg = item.split(\",\")\n",
    "    query = '''\n",
    "    INSERT INTO Device('SerialNumber','Type','Model','Location','DateOfPurchase','WrittenOff')\n",
    "    VALUES(?,?,?,?,?,?);\n",
    "    '''\n",
    "    connection.execute(query, (int(serial),\"Laptop\",model,location,purchasedate,writeoff))\n",
    "    query = ''' INSERT INTO Laptop('SerialNumber','WeightKg') VALUES(?,?); '''\n",
    "    connection.execute(query, (int(serial),float(weightkg)))\n",
    "\n",
    "f = open(\"Additional_Materials/PRINTERS.txt\")\n",
    "data = f.read().strip().split(\"\\n\")\n",
    "f.close()\n",
    "for item in data:\n",
    "    serial, model, location, purchasedate, writeoff, toner, datechanged = item.split(\",\")\n",
    "    query = '''\n",
    "    INSERT INTO Device('SerialNumber','Type','Model','Location','DateOfPurchase','WrittenOff')\n",
    "    VALUES(?,?,?,?,?,?);\n",
    "    '''\n",
    "    connection.execute(query, (int(serial),\"Printer\",model,location,purchasedate,writeoff))\n",
    "    query = ''' INSERT INTO Printer('SerialNumber','Toner','DateChanged') VALUES(?,?,?); '''\n",
    "    connection.execute(query, (int(serial),toner,datechanged))\n",
    "\n",
    "connection.commit()\n",
    "connection.close()"
   ]
  },
  {
   "cell_type": "code",
   "execution_count": null,
   "metadata": {},
   "outputs": [],
   "source": [
    "# Task 4.3 looking ok\n",
    "\n",
    "# Task 4.4\n",
    "# Nope its web which I can't do atm"
   ]
  }
 ],
 "metadata": {
  "kernelspec": {
   "display_name": "Python 3",
   "language": "python",
   "name": "python3"
  },
  "language_info": {
   "codemirror_mode": {
    "name": "ipython",
    "version": 3
   },
   "file_extension": ".py",
   "mimetype": "text/x-python",
   "name": "python",
   "nbconvert_exporter": "python",
   "pygments_lexer": "ipython3",
   "version": "3.6.4"
  }
 },
 "nbformat": 4,
 "nbformat_minor": 2
}
