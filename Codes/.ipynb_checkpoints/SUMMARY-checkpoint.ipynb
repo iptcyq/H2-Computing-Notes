{
 "cells": [
  {
   "cell_type": "code",
   "execution_count": 11,
   "metadata": {},
   "outputs": [
    {
     "name": "stdout",
     "output_type": "stream",
     "text": [
      "[('ape', 5), ('bat', 4), ('cat', 3), ('dog', 2), ('ewe', 1)]\n",
      "[('ewe', 1), ('dog', 2), ('cat', 3), ('bat', 4), ('ape', 5)]\n"
     ]
    }
   ],
   "source": [
    "# Basic Programming - useful way to sort \n",
    "def getvar(tup):\n",
    "    return tup[1]\n",
    "\n",
    "l = [(\"bat\",4),(\"ewe\",1),(\"cat\",3),(\"ape\",5),(\"dog\",2)]\n",
    "l.sort()\n",
    "print(l)\n",
    "\n",
    "l = [(\"bat\",4),(\"ewe\",1),(\"cat\",3),(\"ape\",5),(\"dog\",2)]\n",
    "l.sort(key=getvar)\n",
    "print(l)"
   ]
  },
  {
   "cell_type": "code",
   "execution_count": null,
   "metadata": {},
   "outputs": [],
   "source": [
    "# json, csv\n",
    "import json\n",
    "f = open(filename)\n",
    "data = json.load(f)\n",
    "f.close()\n",
    "\n",
    "import csv\n",
    "f = open(filename)\n",
    "data = csv.reader(f, delimiter=\",\")\n",
    "f.close()"
   ]
  },
  {
   "cell_type": "code",
   "execution_count": null,
   "metadata": {},
   "outputs": [],
   "source": [
    "# sqlite3\n",
    "import sqlite3\n",
    "conn = sqlite3.connect(dbname)\n",
    "\n",
    "# SELECT/ getting information\n",
    "query = '''SELECT * FROM table1name INNER JOIN table2name \n",
    "        ON table1name(attrb1) = table2name(attrb2)\n",
    "        LEFT JOIN table3name ON \n",
    "        table1name(attrb1) = table3name(attrb2)\n",
    "        WHERE expression GROUP BY table3name(attrb2) \n",
    "        ORDER BY expression1 DESC, expression2 ASC'''\n",
    "results = conn.execute(query, (parameters,)).fetchall()\n",
    "\n",
    "# UPDATE/ INSERT something\n",
    "conn.execute(query)\n",
    "conn.commit()\n",
    "\n",
    "conn.close()"
   ]
  },
  {
   "cell_type": "code",
   "execution_count": null,
   "metadata": {},
   "outputs": [],
   "source": [
    "# pymongo\n",
    "from pymongo import MongoClient\n",
    "\n",
    "client = MongoClient()\n",
    "col = client.get_database(dbname).get_collection(colname)\n",
    "\n",
    "query = {\"columnname\":{\"$eq\":val}, \"columnname2\":{\"$gt\":2011}}\n",
    "# or query = {\"columnname\":val}\n",
    "col.insert_one(query)\n",
    "result = col.find(query)\n",
    "\n",
    "search = {\"columnname\":{\"$eq\":val}}\n",
    "update = {\"$set\":{\"columnname\":newval}}\n",
    "col.update_many(search, update)\n",
    "\n",
    "client.close()"
   ]
  },
  {
   "cell_type": "code",
   "execution_count": null,
   "metadata": {},
   "outputs": [],
   "source": [
    "# socket -  server\n",
    "import socket\n",
    "\n",
    "server = socket.socket()\n",
    "server.bind('127.0.0.1', 8000)\n",
    "server.listen()\n",
    "\n",
    "client, addr = server.accept()\n",
    "\n",
    "client.sendall()\n",
    "data = client.recv(1024)\n",
    "\n",
    "client.close()\n",
    "server.close()"
   ]
  },
  {
   "cell_type": "code",
   "execution_count": null,
   "metadata": {},
   "outputs": [],
   "source": [
    "# socket -  client\n",
    "import socket\n",
    "\n",
    "client = socket.socket()\n",
    "client.connect('127.0.0.1', 8000)\n",
    "\n",
    "client.sendall()\n",
    "data = client.recv(1024)\n",
    "\n",
    "client.close()"
   ]
  },
  {
   "cell_type": "code",
   "execution_count": null,
   "metadata": {},
   "outputs": [],
   "source": [
    "# flask\n",
    "from flask import Flask, render_template, request\n",
    "\n",
    "app = Flask(__name__)\n",
    "\n",
    "@app.route('/')\n",
    "def index():\n",
    "    return render_template('index.html')\n",
    "\n",
    "@app.route('/form', methods=[\"GET\",\"POST\"])\n",
    "def form():\n",
    "    if request.method == \"GET\":\n",
    "        return render_template('form.html')\n",
    "    else: # POST method\n",
    "        data = request.form[\"attributename\"]\n",
    "        # process data\n",
    "        return render_template('results.html', result=data)\n",
    "\n",
    "if __name__ == \"__main__\":\n",
    "    app.run()"
   ]
  },
  {
   "cell_type": "code",
   "execution_count": null,
   "metadata": {},
   "outputs": [],
   "source": [
    "# html in jupyter notebook hahahah\n",
    "<!doctype html>\n",
    "<html>\n",
    "    <head>\n",
    "        <title>Webpage name</title>\n",
    "        \n",
    "        <!-- css only if necessary -->\n",
    "        <link rel=\"stylesheet\" href=\"../static/style.css\"> \n",
    "        \n",
    "        <!-- or css without creating a file -->\n",
    "        <style>\n",
    "            table{ background: black }\n",
    "        </style>\n",
    "    </head>\n",
    "    <body>\n",
    "        <table border> <!-- displaying results in table -->\n",
    "            <tr>\n",
    "                <th>header 1</th>\n",
    "                <th>header 2</th>\n",
    "            </tr>\n",
    "            {% for record in result %}\n",
    "            <tr>\n",
    "                {% for cell in record %}\n",
    "                    {% if cell %}\n",
    "                    <td>{{ cell }}</td>    \n",
    "                    {% endif %}\n",
    "                {% endfor %}\n",
    "            </tr>\n",
    "            {% endfor %}\n",
    "        </table>\n",
    "        \n",
    "        <form action=\"/method\" method=\"POST\"> <!-- posting results from a form -->\n",
    "            <p>Enter info</p>\n",
    "            <input type=\"text\" name=\"infoname\"></br>\n",
    "            <input type=\"submit\" value=\"Enter\">\n",
    "        </form>\n",
    "    </body>\n",
    "</html>"
   ]
  }
 ],
 "metadata": {
  "kernelspec": {
   "display_name": "Python 3",
   "language": "python",
   "name": "python3"
  },
  "language_info": {
   "codemirror_mode": {
    "name": "ipython",
    "version": 3
   },
   "file_extension": ".py",
   "mimetype": "text/x-python",
   "name": "python",
   "nbconvert_exporter": "python",
   "pygments_lexer": "ipython3",
   "version": "3.6.4"
  }
 },
 "nbformat": 4,
 "nbformat_minor": 2
}
